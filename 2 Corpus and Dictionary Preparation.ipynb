{
 "cells": [
  {
   "cell_type": "markdown",
   "metadata": {},
   "source": [
    "# Corpus and Dictionary Preparation"
   ]
  },
  {
   "cell_type": "code",
   "execution_count": 1,
   "metadata": {
    "collapsed": true
   },
   "outputs": [],
   "source": [
    "import os\n",
    "import string\n",
    "import tarfile\n",
    "import random\n",
    "import topic_model\n",
    "import pandas as pd\n",
    "from nltk import word_tokenize\n",
    "from nltk.corpus import stopwords\n",
    "from nltk import bigrams\n",
    "from nltk import trigrams\n",
    "from gensim import corpora\n",
    "from gensim.models import Phrases\n",
    "from gensim.models import phrases"
   ]
  },
  {
   "cell_type": "code",
   "execution_count": 2,
   "metadata": {
    "collapsed": true
   },
   "outputs": [],
   "source": [
    "pd.set_option('display.max_info_columns',200)\n",
    "pd.set_option('display.max_colwidth',200)\n",
    "pd.set_option('display.max_rows', 100)"
   ]
  },
  {
   "cell_type": "code",
   "execution_count": 3,
   "metadata": {},
   "outputs": [
    {
     "data": {
      "text/html": [
       "<div>\n",
       "<table border=\"1\" class=\"dataframe\">\n",
       "  <thead>\n",
       "    <tr style=\"text-align: right;\">\n",
       "      <th></th>\n",
       "      <th>user.description</th>\n",
       "      <th>text</th>\n",
       "      <th>topic</th>\n",
       "      <th>log_followers</th>\n",
       "      <th>log_retweets</th>\n",
       "      <th>engagement_flag</th>\n",
       "      <th>text_token</th>\n",
       "      <th>text_stemmed</th>\n",
       "      <th>text_processed</th>\n",
       "      <th>positive_emo</th>\n",
       "      <th>outrage_emo</th>\n",
       "      <th>net_emo_outrage</th>\n",
       "    </tr>\n",
       "  </thead>\n",
       "  <tbody>\n",
       "    <tr>\n",
       "      <th>0</th>\n",
       "      <td>Part of the #VastRightWingConspiracy -- thanks, @HillaryClinton. Better candidate: https://www.randpaul.com/ Retweeting not endorsement. Image: TV lover.</td>\n",
       "      <td>#BanTheBox means \"all is #forgiven\"/NO MORE federal #NCIC checks when buying guns? Please consider it, Mr. President @POTUS. #forgiving</td>\n",
       "      <td>G</td>\n",
       "      <td>5.252273</td>\n",
       "      <td>0.0</td>\n",
       "      <td>0</td>\n",
       "      <td>[u'#BanTheBox', u'means', u'\"', u'all', u'is', u'#forgiven', u'\"', u'/', u'NO', u'MORE', u'federal', u'#NCIC', u'checks', u'when', u'buying', u'guns', u'?', u'Please', u'consider', u'it', u',', u'...</td>\n",
       "      <td>[u'#banthebox', u'mean', u'\"', u'all', u'is', u'#forgiven', u'\"', u'/', u'no', u'more', u'feder', u'#ncic', u'check', u'when', u'buy', u'gun', u'?', u'pleas', u'consid', u'it', u',', u'mr', u'.', ...</td>\n",
       "      <td>#banthebox mean \" all is #forgiven \" / no more feder #ncic check when buy gun ? pleas consid it , mr . presid @potus . #forgiv</td>\n",
       "      <td>0</td>\n",
       "      <td>0</td>\n",
       "      <td>0</td>\n",
       "    </tr>\n",
       "    <tr>\n",
       "      <th>1</th>\n",
       "      <td>War Veteran who loves his country. Never forget those who died in 'Benghazi'.  864th Engineer Battalion (Combat) (Heavy)</td>\n",
       "      <td>BOYCOTT NOV 4 @ABC @CMAwards &amp;gt; THREAT TO ALL GUN OWNERS - BOYCOTT HIS MUSIC &amp;gt; @TheTimMcGraw GUN CONTROL EXTREMIST https://t.co/xMuE2o7vV7 …</td>\n",
       "      <td>G</td>\n",
       "      <td>9.936148</td>\n",
       "      <td>0.0</td>\n",
       "      <td>0</td>\n",
       "      <td>[u'BOYCOTT', u'NOV', u'4', u'@ABC', u'@CMAwards', u'&gt;', u'THREAT', u'TO', u'ALL', u'GUN', u'OWNERS', u'-', u'BOYCOTT', u'HIS', u'MUSIC', u'&gt;', u'@TheTimMcGraw', u'GUN', u'CONTROL', u'EXTREMIST', u...</td>\n",
       "      <td>[u'boycott', u'nov', u'4', u'@abc', u'@cmaward', u'&gt;', u'threat', u'to', u'all', u'gun', u'owner', u'-', u'boycott', u'his', u'music', u'&gt;', u'@thetimmcgraw', u'gun', u'control', u'extremist', u'h...</td>\n",
       "      <td>boycott nov 4 @abc @cmaward &gt; threat to all gun owner - boycott his music &gt; @thetimmcgraw gun control extremist https://t.co/xmue2o7vv7</td>\n",
       "      <td>0</td>\n",
       "      <td>0</td>\n",
       "      <td>0</td>\n",
       "    </tr>\n",
       "    <tr>\n",
       "      <th>2</th>\n",
       "      <td>Retired: cowboy,truck driver Served in the USAF, hobbies include Shooting sports and hunt and camp born in Calif.and sadly left in 1984</td>\n",
       "      <td>Savage: This is the Most Corrupt, Degenerate, Criminal Gov’t in American History https://t.co/qW12kzuBWH Take my guns lead first.</td>\n",
       "      <td>G</td>\n",
       "      <td>4.043051</td>\n",
       "      <td>0.0</td>\n",
       "      <td>0</td>\n",
       "      <td>[u'Savage', u':', u'This', u'is', u'the', u'Most', u'Corrupt', u',', u'Degenerate', u',', u'Criminal', u'Gov', u'', u't', u'in', u'American', u'History', u'https://t.co/qW12kzuBWH', u'Take', u'my'...</td>\n",
       "      <td>[u'savag', u':', u'this', u'is', u'the', u'most', u'corrupt', u',', u'degener', u',', u'crimin', u'gov', u'', u't', u'in', u'american', u'histori', u'https://t.co/qw12kzubwh', u'take', u'my', u'gu...</td>\n",
       "      <td>savag : this is the most corrupt , degener , crimin gov  t in american histori https://t.co/qw12kzubwh take my gun lead first .</td>\n",
       "      <td>0</td>\n",
       "      <td>0</td>\n",
       "      <td>0</td>\n",
       "    </tr>\n",
       "    <tr>\n",
       "      <th>3</th>\n",
       "      <td>Bartender...Bouncer...Autobody......Gravedigger.....Supermodal......OG.....Playboy.........:)\\r\\n\\r\\n\\r\\nDAM...NICE...GUY...MAFIA   DEMOLITION  INSTALATION</td>\n",
       "      <td>Guns N' Roses - November Rain https://t.co/w2pHuG0QBa via @YouTube</td>\n",
       "      <td>G</td>\n",
       "      <td>6.107023</td>\n",
       "      <td>0.0</td>\n",
       "      <td>0</td>\n",
       "      <td>[u'Guns', u'N', u\"'\", u'Roses', u'-', u'November', u'Rain', u'https://t.co/w2pHuG0QBa', u'via', u'@YouTube']</td>\n",
       "      <td>[u'gun', u'n', u\"'\", u'rose', u'-', u'novemb', u'rain', u'https://t.co/w2phug0qba', u'via', u'@youtub']</td>\n",
       "      <td>gun n ' rose - novemb rain https://t.co/w2phug0qba via @youtub</td>\n",
       "      <td>0</td>\n",
       "      <td>0</td>\n",
       "      <td>0</td>\n",
       "    </tr>\n",
       "    <tr>\n",
       "      <th>4</th>\n",
       "      <td>Ming doesn't have a trajectory problem.</td>\n",
       "      <td>I'll say it again: #Tarantino was merely correct. And, to his credit, he's sticking to his rhetorical guns. #BadCops https://t.co/7M4uTpXwyc</td>\n",
       "      <td>G</td>\n",
       "      <td>5.081404</td>\n",
       "      <td>0.0</td>\n",
       "      <td>0</td>\n",
       "      <td>[u\"I'll\", u'say', u'it', u'again', u':', u'#Tarantino', u'was', u'merely', u'correct', u'.', u'And', u',', u'to', u'his', u'credit', u',', u\"he's\", u'sticking', u'to', u'his', u'rhetorical', u'gun...</td>\n",
       "      <td>[u\"i'll\", u'say', u'it', u'again', u':', u'#tarantino', u'was', u'mere', u'correct', u'.', u'and', u',', u'to', u'his', u'credit', u',', u'he', u'stick', u'to', u'his', u'rhetor', u'gun', u'.', u'...</td>\n",
       "      <td>i'll say it again : #tarantino was mere correct . and , to his credit , he stick to his rhetor gun . #badcop https://t.co/7m4utpxwyc</td>\n",
       "      <td>0</td>\n",
       "      <td>0</td>\n",
       "      <td>0</td>\n",
       "    </tr>\n",
       "  </tbody>\n",
       "</table>\n",
       "</div>"
      ],
      "text/plain": [
       "                                                                                                                                              user.description  \\\n",
       "0    Part of the #VastRightWingConspiracy -- thanks, @HillaryClinton. Better candidate: https://www.randpaul.com/ Retweeting not endorsement. Image: TV lover.   \n",
       "1                                     War Veteran who loves his country. Never forget those who died in 'Benghazi'.  864th Engineer Battalion (Combat) (Heavy)   \n",
       "2                      Retired: cowboy,truck driver Served in the USAF, hobbies include Shooting sports and hunt and camp born in Calif.and sadly left in 1984   \n",
       "3  Bartender...Bouncer...Autobody......Gravedigger.....Supermodal......OG.....Playboy.........:)\\r\\n\\r\\n\\r\\nDAM...NICE...GUY...MAFIA   DEMOLITION  INSTALATION   \n",
       "4                                                                                                                      Ming doesn't have a trajectory problem.   \n",
       "\n",
       "                                                                                                                                                text  \\\n",
       "0            #BanTheBox means \"all is #forgiven\"/NO MORE federal #NCIC checks when buying guns? Please consider it, Mr. President @POTUS. #forgiving   \n",
       "1  BOYCOTT NOV 4 @ABC @CMAwards &gt; THREAT TO ALL GUN OWNERS - BOYCOTT HIS MUSIC &gt; @TheTimMcGraw GUN CONTROL EXTREMIST https://t.co/xMuE2o7vV7 …   \n",
       "2                  Savage: This is the Most Corrupt, Degenerate, Criminal Gov’t in American History https://t.co/qW12kzuBWH Take my guns lead first.   \n",
       "3                                                                                 Guns N' Roses - November Rain https://t.co/w2pHuG0QBa via @YouTube   \n",
       "4       I'll say it again: #Tarantino was merely correct. And, to his credit, he's sticking to his rhetorical guns. #BadCops https://t.co/7M4uTpXwyc   \n",
       "\n",
       "  topic  log_followers  log_retweets  engagement_flag  \\\n",
       "0     G       5.252273           0.0                0   \n",
       "1     G       9.936148           0.0                0   \n",
       "2     G       4.043051           0.0                0   \n",
       "3     G       6.107023           0.0                0   \n",
       "4     G       5.081404           0.0                0   \n",
       "\n",
       "                                                                                                                                                                                                text_token  \\\n",
       "0  [u'#BanTheBox', u'means', u'\"', u'all', u'is', u'#forgiven', u'\"', u'/', u'NO', u'MORE', u'federal', u'#NCIC', u'checks', u'when', u'buying', u'guns', u'?', u'Please', u'consider', u'it', u',', u'...   \n",
       "1  [u'BOYCOTT', u'NOV', u'4', u'@ABC', u'@CMAwards', u'>', u'THREAT', u'TO', u'ALL', u'GUN', u'OWNERS', u'-', u'BOYCOTT', u'HIS', u'MUSIC', u'>', u'@TheTimMcGraw', u'GUN', u'CONTROL', u'EXTREMIST', u...   \n",
       "2  [u'Savage', u':', u'This', u'is', u'the', u'Most', u'Corrupt', u',', u'Degenerate', u',', u'Criminal', u'Gov', u'', u't', u'in', u'American', u'History', u'https://t.co/qW12kzuBWH', u'Take', u'my'...   \n",
       "3                                                                                             [u'Guns', u'N', u\"'\", u'Roses', u'-', u'November', u'Rain', u'https://t.co/w2pHuG0QBa', u'via', u'@YouTube']   \n",
       "4  [u\"I'll\", u'say', u'it', u'again', u':', u'#Tarantino', u'was', u'merely', u'correct', u'.', u'And', u',', u'to', u'his', u'credit', u',', u\"he's\", u'sticking', u'to', u'his', u'rhetorical', u'gun...   \n",
       "\n",
       "                                                                                                                                                                                              text_stemmed  \\\n",
       "0  [u'#banthebox', u'mean', u'\"', u'all', u'is', u'#forgiven', u'\"', u'/', u'no', u'more', u'feder', u'#ncic', u'check', u'when', u'buy', u'gun', u'?', u'pleas', u'consid', u'it', u',', u'mr', u'.', ...   \n",
       "1  [u'boycott', u'nov', u'4', u'@abc', u'@cmaward', u'>', u'threat', u'to', u'all', u'gun', u'owner', u'-', u'boycott', u'his', u'music', u'>', u'@thetimmcgraw', u'gun', u'control', u'extremist', u'h...   \n",
       "2  [u'savag', u':', u'this', u'is', u'the', u'most', u'corrupt', u',', u'degener', u',', u'crimin', u'gov', u'', u't', u'in', u'american', u'histori', u'https://t.co/qw12kzubwh', u'take', u'my', u'gu...   \n",
       "3                                                                                                  [u'gun', u'n', u\"'\", u'rose', u'-', u'novemb', u'rain', u'https://t.co/w2phug0qba', u'via', u'@youtub']   \n",
       "4  [u\"i'll\", u'say', u'it', u'again', u':', u'#tarantino', u'was', u'mere', u'correct', u'.', u'and', u',', u'to', u'his', u'credit', u',', u'he', u'stick', u'to', u'his', u'rhetor', u'gun', u'.', u'...   \n",
       "\n",
       "                                                                                                                             text_processed  \\\n",
       "0            #banthebox mean \" all is #forgiven \" / no more feder #ncic check when buy gun ? pleas consid it , mr . presid @potus . #forgiv   \n",
       "1  boycott nov 4 @abc @cmaward > threat to all gun owner - boycott his music > @thetimmcgraw gun control extremist https://t.co/xmue2o7vv7    \n",
       "2           savag : this is the most corrupt , degener , crimin gov  t in american histori https://t.co/qw12kzubwh take my gun lead first .   \n",
       "3                                                                            gun n ' rose - novemb rain https://t.co/w2phug0qba via @youtub   \n",
       "4      i'll say it again : #tarantino was mere correct . and , to his credit , he stick to his rhetor gun . #badcop https://t.co/7m4utpxwyc   \n",
       "\n",
       "   positive_emo  outrage_emo  net_emo_outrage  \n",
       "0             0            0                0  \n",
       "1             0            0                0  \n",
       "2             0            0                0  \n",
       "3             0            0                0  \n",
       "4             0            0                0  "
      ]
     },
     "execution_count": 3,
     "metadata": {},
     "output_type": "execute_result"
    }
   ],
   "source": [
    "df = pd.read_csv('data/cleaned_snowball.csv', sep=',', quotechar='\"', index_col=0, header=0)\n",
    "df.head()"
   ]
  },
  {
   "cell_type": "markdown",
   "metadata": {},
   "source": [
    "## What is the breakdown of the tweet distribution"
   ]
  },
  {
   "cell_type": "code",
   "execution_count": 4,
   "metadata": {},
   "outputs": [
    {
     "name": "stdout",
     "output_type": "stream",
     "text": [
      "144,485 gun control tweets, 177,177 gay marriage tweets, and 231,423 climate change tweets\n",
      "553,086 tweets for LSI\n"
     ]
    }
   ],
   "source": [
    "docs = df.text_processed.dropna().tolist()\n",
    "docs_token = df.text_stemmed.dropna().tolist()\n",
    "print (\"%s gun control tweets, %s gay marriage tweets, and %s climate change tweets\" %(\"{:,}\".format(df[df.topic == 'G'].count()[0]), \"{:,}\".format(df[df.topic == 'M'].count()[0]), \"{:,}\".format(df[df.topic == 'C'].count()[0])))\n",
    "print (\"%s tweets for LSI\" %(\"{:,}\".format(len(docs))))"
   ]
  },
  {
   "cell_type": "markdown",
   "metadata": {},
   "source": [
    "### Clean up the text some more"
   ]
  },
  {
   "cell_type": "code",
   "execution_count": 5,
   "metadata": {},
   "outputs": [
    {
     "data": {
      "text/plain": [
       "'ridicul :-) https://t.co/btphogh62c'"
      ]
     },
     "execution_count": 5,
     "metadata": {},
     "output_type": "execute_result"
    }
   ],
   "source": [
    "docs[831]"
   ]
  },
  {
   "cell_type": "code",
   "execution_count": 6,
   "metadata": {},
   "outputs": [],
   "source": [
    "keep = set(['!','?'])\n",
    "stop = set(stopwords.words('english'))\n",
    "remove = set([x for x in list(string.punctuation) if x not in keep])\n",
    "stop.update(remove)\n",
    "stop.update(['',' ','  '])\n",
    "docs = [[d for d in doc.split(\" \") if d not in stop] for doc in docs]\n",
    "\n",
    "# We want to capture any phrases like \"New York\" or \"New York Times\" so we make phrases of phrases for\n",
    "# commonly co-occurring words to be \"New_York\" and \"New_York_Times\" respectively.\n",
    "doc_phrases = phrases.Phraser(Phrases(docs))\n",
    "docs = list(doc_phrases[docs])\n",
    "doc_phrases = phrases.Phraser(Phrases(docs))\n",
    "docs = list(doc_phrases[docs])\n",
    "\n",
    "# Shuffle the docs ahead of time for training.\n",
    "random.shuffle(docs)\n",
    "\n",
    "#Create bigrams and trigrams of the whole corpus\n",
    "docs_bigrams = [[' '.join([d[0],d[1]]) for d in bigrams(doc)] for doc in docs]\n",
    "docs_trigrams = [[' '.join([d[0],d[1]]) for d in trigrams(doc)] for doc in docs]"
   ]
  },
  {
   "cell_type": "code",
   "execution_count": 7,
   "metadata": {},
   "outputs": [
    {
     "data": {
      "text/plain": [
       "[u'@emilyminno',\n",
       " u\"i'm\",\n",
       " u'realli_enjoy',\n",
       " u'read',\n",
       " u'wed',\n",
       " u'googl',\n",
       " u'doc',\n",
       " u'fave',\n",
       " u'note',\n",
       " u'section',\n",
       " u'seem_like',\n",
       " u'b',\n",
       " u'love',\n",
       " u'space']"
      ]
     },
     "execution_count": 7,
     "metadata": {},
     "output_type": "execute_result"
    }
   ],
   "source": [
    "docs[831]"
   ]
  },
  {
   "cell_type": "markdown",
   "metadata": {},
   "source": [
    "## Prepare the dictionaries and topic corpuses\n",
    "\n",
    "The LSI model did not produce any useful topics unfortunately."
   ]
  },
  {
   "cell_type": "code",
   "execution_count": 9,
   "metadata": {},
   "outputs": [],
   "source": [
    "# UNIGRAMS\n",
    "# turn our tokenized documents into a id <-> term dictionary\n",
    "unigrams_dictionary = corpora.Dictionary(docs)\n",
    "# convert tokenized documents into a document-term matrix\n",
    "unigrams_corpus = [unigrams_dictionary.doc2bow(doc) for doc in docs]\n",
    "\n",
    "# BIGRAMS\n",
    "# turn our tokenized documents into a id <-> term dictionary\n",
    "bigrams_dictionary = corpora.Dictionary(docs_bigrams)\n",
    "# convert tokenized documents into a document-term matrix\n",
    "bigrams_corpus = [bigrams_dictionary.doc2bow(doc) for doc in docs_bigrams]\n",
    "\n",
    "# TRIGRAMS\n",
    "# turn our tokenized documents into a id <-> term dictionary\n",
    "trigrams_dictionary = corpora.Dictionary(docs_trigrams)\n",
    "# convert tokenized documents into a document-term matrix\n",
    "trigrams_corpus = [trigrams_dictionary.doc2bow(doc) for doc in docs_trigrams]\n"
   ]
  },
  {
   "cell_type": "markdown",
   "metadata": {},
   "source": [
    "## Save EVERYTHING!"
   ]
  },
  {
   "cell_type": "code",
   "execution_count": 10,
   "metadata": {
    "collapsed": true
   },
   "outputs": [],
   "source": [
    "unigrams_dictionary.save('models/unigrams_dictionary.pkl', pickle_protocol=2)\n",
    "bigrams_dictionary.save('models/bigrams_dictionary.pkl', pickle_protocol=2)\n",
    "trigrams_dictionary.save('models/trigrams_dictionary.pkl', pickle_protocol=2)"
   ]
  },
  {
   "cell_type": "code",
   "execution_count": 11,
   "metadata": {
    "collapsed": true
   },
   "outputs": [],
   "source": [
    "# For each of the dictionary files in the models folder gzip them and ensure it worked, then delete the original\n",
    "os.chdir('models/')\n",
    "for fn in os.listdir('.'):\n",
    "    if 'dictionary' in str(fn):\n",
    "        tar = tarfile.open(fn + '.gz', \"w:gz\")\n",
    "        tar.add(fn)\n",
    "        tar.close()\n",
    "        if os.path.isfile(fn + '.gz'):\n",
    "            os.remove(fn)\n",
    "os.chdir('..')"
   ]
  },
  {
   "cell_type": "code",
   "execution_count": 13,
   "metadata": {},
   "outputs": [],
   "source": [
    "corpora.MmCorpus.serialize('models/unigrams_corpus.mm', unigrams_corpus)\n",
    "corpora.MmCorpus.serialize('models/bigrams_corpus.mm', bigrams_corpus)\n",
    "corpora.MmCorpus.serialize('models/trigrams_corpus.mm', trigrams_corpus)"
   ]
  },
  {
   "cell_type": "code",
   "execution_count": null,
   "metadata": {
    "collapsed": true
   },
   "outputs": [],
   "source": []
  }
 ],
 "metadata": {
  "kernelspec": {
   "display_name": "Python 2",
   "language": "python",
   "name": "python2"
  },
  "language_info": {
   "codemirror_mode": {
    "name": "ipython",
    "version": 2
   },
   "file_extension": ".py",
   "mimetype": "text/x-python",
   "name": "python",
   "nbconvert_exporter": "python",
   "pygments_lexer": "ipython2",
   "version": "2.7.12"
  }
 },
 "nbformat": 4,
 "nbformat_minor": 2
}
