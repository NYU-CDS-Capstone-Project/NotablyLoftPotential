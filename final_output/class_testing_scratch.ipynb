{
 "cells": [
  {
   "cell_type": "code",
   "execution_count": 16,
   "metadata": {
    "collapsed": true
   },
   "outputs": [],
   "source": [
    "import topic_model\n",
    "import pickle\n",
    "import os\n",
    "import json\n",
    "import datetime\n",
    "import tarfile\n",
    "import numpy as np\n",
    "import pandas as pd\n",
    "import matplotlib.pyplot as plt\n",
    "from time import time\n",
    "%matplotlib inline\n",
    "\n",
    "import pickle\n",
    "import tarfile\n",
    "from gensim.models import ldamodel\n",
    "from gensim import corpora"
   ]
  },
  {
   "cell_type": "code",
   "execution_count": 4,
   "metadata": {
    "collapsed": true
   },
   "outputs": [],
   "source": [
    "import os\n",
    "import sys\n",
    "import string\n",
    "import pickle\n",
    "import tarfile\n",
    "import numpy as np\n",
    "import pandas as pd\n",
    "from gensim import corpora\n",
    "from gensim.models import ldamodel, Phrases, phrases\n",
    "from nltk.corpus import stopwords\n",
    "from nltk.tokenize import TweetTokenizer\n",
    "from nltk.stem.snowball import SnowballStemmer\n",
    "\n",
    "\n",
    "class classifytweet:\n",
    "    def __init__(self, tweet, model_files='model_files/'):\n",
    "        \"\"\"\n",
    "        tweet_body: the individual tweet\n",
    "        model_files: the location for the model files. leave the model files folder as is\n",
    "                     unless you have changed the location of all the model files.\n",
    "        \"\"\"\n",
    "        self.model_files = model_files\n",
    "        self.tweet = tweet\n",
    "        self.model, self.corpus, self.dictionary, self.phraser, self.valence_mean, self.arousal_mean, self.valence_sd, self.arousal_sd = load_model()\n",
    "        self.n = len(self.dictionary.items())\n",
    "        self.word_map = {v:k for k,v in self.dictionary.items()}\n",
    "        \n",
    "    def load_model(self):\n",
    "        \"\"\"\n",
    "        Loads the model, corpus, and dictionary.\n",
    "        \"\"\"\n",
    "        # extract tarfile\n",
    "        for f in os.listdir(self.model_files):\n",
    "            if f.endswith('.gz'):\n",
    "                tar = tarfile.open(self.model_files + f, \"r:gz\")\n",
    "                tar.extractall(path=self.model_files)\n",
    "                tar.close()\n",
    "\n",
    "        # load model, corpus, and dictionary objects\n",
    "        fnames = [fn for fn in os.listdir(self.model_files) if '.gensim' in fn]\n",
    "        model = ldamodel.LdaModel.load(self.model_files + fnames[0])\n",
    "        corpus = corpora.MmCorpus(self.model_files + 'unigrams_corpus.mm')\n",
    "        dictionary = corpora.Dictionary.load(self.model_files + 'unigrams_dictionary.pkl')\n",
    "        model.id2word = dictionary\n",
    "        phraser = phrases.Phraser.load(self.model_files + 'document_phraser.pkl')\n",
    "        fnames.append(['unigrams_dictionary.pkl', 'unigrams_corpus.mm', 'unigrams_corpus.mm.index'])\n",
    "        \n",
    "        # load the valence and arousal arrays\n",
    "        valence_mean = pickle.load(open(self.model_files + 'valence_mean.pkl', 'r'))\n",
    "        arousal_mean = pickle.load(open(self.model_files + 'arousal_mean.pkl', 'r'))\n",
    "        valence_sd = pickle.load(open(self.model_files + 'valence_sd.pkl', 'r'))\n",
    "        arousal_sd = pickle.load(open(self.model_files + 'arousal_sd.pkl', 'r'))\n",
    "\n",
    "        # cleanup the unzipped files\n",
    "        for f in fnames:\n",
    "            os.remove(self.model_files + f)\n",
    "        return model, corpus, dictionary, phraser, valence_mean, arousal_mean, valence_sd, arousal_sd\n",
    "\n",
    "    def prepare_tweet(self):\n",
    "        \"\"\"\n",
    "        Turn that unstructured text into sweet, sweet, \"cleaned\" up tokens!\n",
    "        \"\"\"\n",
    "\n",
    "        lemmatized = None # TO DO\n",
    "\n",
    "        stemmed = None # TO DO\n",
    "\n",
    "        #keep = set(['!','?'])\n",
    "        #stop = set(stopwords.words('english'))\n",
    "        #remove = set([x for x in list(string.punctuation) if x not in keep])\n",
    "        #stop.update(remove)\n",
    "        #stop.update(['',' ','  '])\n",
    "        #stemmed = [d for d in self.tweet.split(\" \") if d not in stop] # NEEDS TO UPDATED FOR PORTER STEMMER-ING THE TWEET\n",
    "        #phrased = self.phraser([stemmed])\n",
    "\n",
    "        return #lemmatized, stemmed, phrased\n",
    "\n",
    "    def valence_score(self):\n",
    "        \"\"\"\n",
    "        Creates the valence and arousal score for the tweet.\n",
    "        \"\"\"\n",
    "        tweet_arr = np.zeros(self.n)\n",
    "        for word in self.phrased:\n",
    "            tweet_arr[self.word_map[word]] = 1.\n",
    "        tweet_v_mean = tweet_arr * self.valence_mean\n",
    "        tweet_v_sd = tweet_arr * self.valence_sd\n",
    "        total_v_sd = np.sum(tweet_v_sd)        \n",
    "        \n",
    "        return np.sum((tweet_v_mean*(total_v_sd-tweet_v_sd)/total_v_sd))\n",
    "\n",
    "    def valence_arousal(self):\n",
    "        \"\"\"\n",
    "        Creates the valence and arousal score for the tweet.\n",
    "        \"\"\"\n",
    "        tweet_arr = np.zeros(self.n)\n",
    "        for word in self.phrased:\n",
    "            tweet_arr[self.word_map[word]] = 1.\n",
    "        tweet_a_mean = tweet_arr * self.arousal_mean\n",
    "        tweet_a_sd = tweet_arr * self.arousal_sd\n",
    "        total_a_sd = np.sum(tweet_a_sd)\n",
    "        \n",
    "        return vnp.sum((tweet_a_mean*(total_a_sd-tweet_a_sd)/total_a_sd))\n",
    "\n",
    "    def sentiment_score(self):\n",
    "        \"\"\"\n",
    "        Weights the posititive/negative sentiment of the tweet.\n",
    "        \"\"\"\n",
    "\n",
    "        return sentiment_score\n",
    "\n",
    "    def get_topics(self):\n",
    "        \"\"\"\n",
    "        Extract the topics from the tweet using the LDA model.\n",
    "        \"\"\"\n",
    "        return self.model.get_document_topics(self.model.id2word.doc2bow(self.phrased), per_word_topics=False)\n",
    "\n",
    "    def emoji_cout(self):\n",
    "        \"\"\"\n",
    "        Count the Mad! faces.\n",
    "        \"\"\"\n",
    "\n",
    "        return emoji_count\n",
    "\n",
    "    def outrage_count(self):\n",
    "        \"\"\"\n",
    "        Get the number of outrage words in the tweet.\n",
    "        \"\"\"\n",
    "\n",
    "        return outrageousness\n",
    "\n",
    "    def outrage_score(self):\n",
    "        \"\"\"\n",
    "        Uses the results of each of the index measures to create one score.\n",
    "        \"\"\"\n",
    "        self.va = valence_arousal()\n",
    "        self.sentiment = sentiment_score()\n",
    "        self.topics = get_topics()\n",
    "        self.emjois = emoji_count()\n",
    "        self.outrageousness = outrage_count()\n",
    "\n",
    "        outrageous_meter = None # DO SOME SHIT!\n",
    "\n",
    "        return outrageous_meter"
   ]
  },
  {
   "cell_type": "code",
   "execution_count": 5,
   "metadata": {},
   "outputs": [
    {
     "name": "stdout",
     "output_type": "stream",
     "text": [
      "Took 0:00:00.000077 to initialize.\n"
     ]
    },
    {
     "ename": "FileNotFoundError",
     "evalue": "[Errno 2] No such file or directory: 'model_files/unigrams_corpus.mm'",
     "output_type": "error",
     "traceback": [
      "\u001b[0;31m---------------------------------------------------------------------------\u001b[0m",
      "\u001b[0;31mFileNotFoundError\u001b[0m                         Traceback (most recent call last)",
      "\u001b[0;32m<ipython-input-5-59e8b108c63c>\u001b[0m in \u001b[0;36m<module>\u001b[0;34m()\u001b[0m\n\u001b[1;32m      8\u001b[0m \u001b[0mprint\u001b[0m\u001b[0;34m(\u001b[0m\u001b[0;34m\"Took %s to initialize.\"\u001b[0m \u001b[0;34m%\u001b[0m \u001b[0;34m(\u001b[0m\u001b[0mstr\u001b[0m\u001b[0;34m(\u001b[0m\u001b[0mdatetime\u001b[0m\u001b[0;34m.\u001b[0m\u001b[0mtimedelta\u001b[0m\u001b[0;34m(\u001b[0m\u001b[0mseconds\u001b[0m\u001b[0;34m=\u001b[0m\u001b[0melapsed\u001b[0m\u001b[0;34m)\u001b[0m\u001b[0;34m)\u001b[0m\u001b[0;34m)\u001b[0m\u001b[0;34m)\u001b[0m\u001b[0;34m\u001b[0m\u001b[0m\n\u001b[1;32m      9\u001b[0m \u001b[0;34m\u001b[0m\u001b[0m\n\u001b[0;32m---> 10\u001b[0;31m \u001b[0mtweeter\u001b[0m\u001b[0;34m.\u001b[0m\u001b[0minitialize\u001b[0m\u001b[0;34m(\u001b[0m\u001b[0;34m'this is a tweet? #hashtag'\u001b[0m\u001b[0;34m)\u001b[0m\u001b[0;34m\u001b[0m\u001b[0m\n\u001b[0m",
      "\u001b[0;32m<ipython-input-4-c25148d572b4>\u001b[0m in \u001b[0;36minitialize\u001b[0;34m(self, tweet)\u001b[0m\n\u001b[1;32m     30\u001b[0m         \"\"\"\n\u001b[1;32m     31\u001b[0m         \u001b[0mself\u001b[0m\u001b[0;34m.\u001b[0m\u001b[0mtweet\u001b[0m \u001b[0;34m=\u001b[0m \u001b[0mtweet\u001b[0m\u001b[0;34m\u001b[0m\u001b[0m\n\u001b[0;32m---> 32\u001b[0;31m         \u001b[0mself\u001b[0m\u001b[0;34m.\u001b[0m\u001b[0mmodel\u001b[0m\u001b[0;34m,\u001b[0m \u001b[0mself\u001b[0m\u001b[0;34m.\u001b[0m\u001b[0mcorpus\u001b[0m\u001b[0;34m,\u001b[0m \u001b[0mself\u001b[0m\u001b[0;34m.\u001b[0m\u001b[0mdictionary\u001b[0m\u001b[0;34m,\u001b[0m \u001b[0mself\u001b[0m\u001b[0;34m.\u001b[0m\u001b[0mphraser\u001b[0m \u001b[0;34m=\u001b[0m \u001b[0mself\u001b[0m\u001b[0;34m.\u001b[0m\u001b[0mload_model\u001b[0m\u001b[0;34m(\u001b[0m\u001b[0;34m)\u001b[0m\u001b[0;34m\u001b[0m\u001b[0m\n\u001b[0m\u001b[1;32m     33\u001b[0m         \u001b[0;31m#self.lemmatized, self.stemmed, self.phrased = self.prepare_tweet()\u001b[0m\u001b[0;34m\u001b[0m\u001b[0;34m\u001b[0m\u001b[0m\n\u001b[1;32m     34\u001b[0m \u001b[0;34m\u001b[0m\u001b[0m\n",
      "\u001b[0;32m<ipython-input-4-c25148d572b4>\u001b[0m in \u001b[0;36mload_model\u001b[0;34m(self)\u001b[0m\n\u001b[1;32m     47\u001b[0m         \u001b[0mfnames\u001b[0m \u001b[0;34m=\u001b[0m \u001b[0;34m[\u001b[0m\u001b[0mfn\u001b[0m \u001b[0;32mfor\u001b[0m \u001b[0mfn\u001b[0m \u001b[0;32min\u001b[0m \u001b[0mos\u001b[0m\u001b[0;34m.\u001b[0m\u001b[0mlistdir\u001b[0m\u001b[0;34m(\u001b[0m\u001b[0;34m'model_files/'\u001b[0m\u001b[0;34m)\u001b[0m \u001b[0;32mif\u001b[0m \u001b[0;34m'.gensim'\u001b[0m \u001b[0;32min\u001b[0m \u001b[0mfn\u001b[0m\u001b[0;34m]\u001b[0m\u001b[0;34m\u001b[0m\u001b[0m\n\u001b[1;32m     48\u001b[0m         \u001b[0mmodel\u001b[0m \u001b[0;34m=\u001b[0m \u001b[0mldamodel\u001b[0m\u001b[0;34m.\u001b[0m\u001b[0mLdaModel\u001b[0m\u001b[0;34m.\u001b[0m\u001b[0mload\u001b[0m\u001b[0;34m(\u001b[0m\u001b[0;34m'model_files/'\u001b[0m \u001b[0;34m+\u001b[0m \u001b[0mfnames\u001b[0m\u001b[0;34m[\u001b[0m\u001b[0;36m0\u001b[0m\u001b[0;34m]\u001b[0m\u001b[0;34m)\u001b[0m\u001b[0;34m\u001b[0m\u001b[0m\n\u001b[0;32m---> 49\u001b[0;31m         \u001b[0mcorpus\u001b[0m \u001b[0;34m=\u001b[0m \u001b[0mcorpora\u001b[0m\u001b[0;34m.\u001b[0m\u001b[0mMmCorpus\u001b[0m\u001b[0;34m(\u001b[0m\u001b[0;34m'model_files/'\u001b[0m \u001b[0;34m+\u001b[0m \u001b[0;34m'unigrams_corpus.mm'\u001b[0m\u001b[0;34m)\u001b[0m\u001b[0;34m\u001b[0m\u001b[0m\n\u001b[0m\u001b[1;32m     50\u001b[0m         \u001b[0mdictionary\u001b[0m \u001b[0;34m=\u001b[0m \u001b[0mcorpora\u001b[0m\u001b[0;34m.\u001b[0m\u001b[0mDictionary\u001b[0m\u001b[0;34m.\u001b[0m\u001b[0mload\u001b[0m\u001b[0;34m(\u001b[0m\u001b[0;34m'model_files/'\u001b[0m \u001b[0;34m+\u001b[0m \u001b[0;34m'unigrams_dictionary.pkl'\u001b[0m\u001b[0;34m)\u001b[0m\u001b[0;34m\u001b[0m\u001b[0m\n\u001b[1;32m     51\u001b[0m         \u001b[0mmodel\u001b[0m\u001b[0;34m.\u001b[0m\u001b[0mid2word\u001b[0m \u001b[0;34m=\u001b[0m \u001b[0mdictionary\u001b[0m\u001b[0;34m\u001b[0m\u001b[0m\n",
      "\u001b[0;32m//anaconda/envs/py36/lib/python3.6/site-packages/gensim/corpora/mmcorpus.py\u001b[0m in \u001b[0;36m__init__\u001b[0;34m(self, fname)\u001b[0m\n\u001b[1;32m     28\u001b[0m         \u001b[0;31m# avoid calling super(), too confusing\u001b[0m\u001b[0;34m\u001b[0m\u001b[0;34m\u001b[0m\u001b[0m\n\u001b[1;32m     29\u001b[0m         \u001b[0mIndexedCorpus\u001b[0m\u001b[0;34m.\u001b[0m\u001b[0m__init__\u001b[0m\u001b[0;34m(\u001b[0m\u001b[0mself\u001b[0m\u001b[0;34m,\u001b[0m \u001b[0mfname\u001b[0m\u001b[0;34m)\u001b[0m\u001b[0;34m\u001b[0m\u001b[0m\n\u001b[0;32m---> 30\u001b[0;31m         \u001b[0mmatutils\u001b[0m\u001b[0;34m.\u001b[0m\u001b[0mMmReader\u001b[0m\u001b[0;34m.\u001b[0m\u001b[0m__init__\u001b[0m\u001b[0;34m(\u001b[0m\u001b[0mself\u001b[0m\u001b[0;34m,\u001b[0m \u001b[0mfname\u001b[0m\u001b[0;34m)\u001b[0m\u001b[0;34m\u001b[0m\u001b[0m\n\u001b[0m\u001b[1;32m     31\u001b[0m \u001b[0;34m\u001b[0m\u001b[0m\n\u001b[1;32m     32\u001b[0m     \u001b[0;32mdef\u001b[0m \u001b[0m__iter__\u001b[0m\u001b[0;34m(\u001b[0m\u001b[0mself\u001b[0m\u001b[0;34m)\u001b[0m\u001b[0;34m:\u001b[0m\u001b[0;34m\u001b[0m\u001b[0m\n",
      "\u001b[0;32m//anaconda/envs/py36/lib/python3.6/site-packages/gensim/matutils.py\u001b[0m in \u001b[0;36m__init__\u001b[0;34m(self, input, transposed)\u001b[0m\n\u001b[1;32m    786\u001b[0m         \u001b[0mlogger\u001b[0m\u001b[0;34m.\u001b[0m\u001b[0minfo\u001b[0m\u001b[0;34m(\u001b[0m\u001b[0;34m\"initializing corpus reader from %s\"\u001b[0m\u001b[0;34m,\u001b[0m \u001b[0minput\u001b[0m\u001b[0;34m)\u001b[0m\u001b[0;34m\u001b[0m\u001b[0m\n\u001b[1;32m    787\u001b[0m         \u001b[0mself\u001b[0m\u001b[0;34m.\u001b[0m\u001b[0minput\u001b[0m\u001b[0;34m,\u001b[0m \u001b[0mself\u001b[0m\u001b[0;34m.\u001b[0m\u001b[0mtransposed\u001b[0m \u001b[0;34m=\u001b[0m \u001b[0minput\u001b[0m\u001b[0;34m,\u001b[0m \u001b[0mtransposed\u001b[0m\u001b[0;34m\u001b[0m\u001b[0m\n\u001b[0;32m--> 788\u001b[0;31m         \u001b[0;32mwith\u001b[0m \u001b[0mutils\u001b[0m\u001b[0;34m.\u001b[0m\u001b[0mfile_or_filename\u001b[0m\u001b[0;34m(\u001b[0m\u001b[0mself\u001b[0m\u001b[0;34m.\u001b[0m\u001b[0minput\u001b[0m\u001b[0;34m)\u001b[0m \u001b[0;32mas\u001b[0m \u001b[0mlines\u001b[0m\u001b[0;34m:\u001b[0m\u001b[0;34m\u001b[0m\u001b[0m\n\u001b[0m\u001b[1;32m    789\u001b[0m             \u001b[0;32mtry\u001b[0m\u001b[0;34m:\u001b[0m\u001b[0;34m\u001b[0m\u001b[0m\n\u001b[1;32m    790\u001b[0m                 \u001b[0mheader\u001b[0m \u001b[0;34m=\u001b[0m \u001b[0mutils\u001b[0m\u001b[0;34m.\u001b[0m\u001b[0mto_unicode\u001b[0m\u001b[0;34m(\u001b[0m\u001b[0mnext\u001b[0m\u001b[0;34m(\u001b[0m\u001b[0mlines\u001b[0m\u001b[0;34m)\u001b[0m\u001b[0;34m)\u001b[0m\u001b[0;34m.\u001b[0m\u001b[0mstrip\u001b[0m\u001b[0;34m(\u001b[0m\u001b[0;34m)\u001b[0m\u001b[0;34m\u001b[0m\u001b[0m\n",
      "\u001b[0;32m//anaconda/envs/py36/lib/python3.6/contextlib.py\u001b[0m in \u001b[0;36m__enter__\u001b[0;34m(self)\u001b[0m\n\u001b[1;32m     80\u001b[0m     \u001b[0;32mdef\u001b[0m \u001b[0m__enter__\u001b[0m\u001b[0;34m(\u001b[0m\u001b[0mself\u001b[0m\u001b[0;34m)\u001b[0m\u001b[0;34m:\u001b[0m\u001b[0;34m\u001b[0m\u001b[0m\n\u001b[1;32m     81\u001b[0m         \u001b[0;32mtry\u001b[0m\u001b[0;34m:\u001b[0m\u001b[0;34m\u001b[0m\u001b[0m\n\u001b[0;32m---> 82\u001b[0;31m             \u001b[0;32mreturn\u001b[0m \u001b[0mnext\u001b[0m\u001b[0;34m(\u001b[0m\u001b[0mself\u001b[0m\u001b[0;34m.\u001b[0m\u001b[0mgen\u001b[0m\u001b[0;34m)\u001b[0m\u001b[0;34m\u001b[0m\u001b[0m\n\u001b[0m\u001b[1;32m     83\u001b[0m         \u001b[0;32mexcept\u001b[0m \u001b[0mStopIteration\u001b[0m\u001b[0;34m:\u001b[0m\u001b[0;34m\u001b[0m\u001b[0m\n\u001b[1;32m     84\u001b[0m             \u001b[0;32mraise\u001b[0m \u001b[0mRuntimeError\u001b[0m\u001b[0;34m(\u001b[0m\u001b[0;34m\"generator didn't yield\"\u001b[0m\u001b[0;34m)\u001b[0m \u001b[0;32mfrom\u001b[0m \u001b[0;32mNone\u001b[0m\u001b[0;34m\u001b[0m\u001b[0m\n",
      "\u001b[0;32m//anaconda/envs/py36/lib/python3.6/site-packages/gensim/utils.py\u001b[0m in \u001b[0;36mfile_or_filename\u001b[0;34m(input)\u001b[0m\n\u001b[1;32m    145\u001b[0m     \u001b[0;32mif\u001b[0m \u001b[0misinstance\u001b[0m\u001b[0;34m(\u001b[0m\u001b[0minput\u001b[0m\u001b[0;34m,\u001b[0m \u001b[0mstring_types\u001b[0m\u001b[0;34m)\u001b[0m\u001b[0;34m:\u001b[0m\u001b[0;34m\u001b[0m\u001b[0m\n\u001b[1;32m    146\u001b[0m         \u001b[0;31m# input was a filename: open as file\u001b[0m\u001b[0;34m\u001b[0m\u001b[0;34m\u001b[0m\u001b[0m\n\u001b[0;32m--> 147\u001b[0;31m         \u001b[0;32myield\u001b[0m \u001b[0msmart_open\u001b[0m\u001b[0;34m(\u001b[0m\u001b[0minput\u001b[0m\u001b[0;34m)\u001b[0m\u001b[0;34m\u001b[0m\u001b[0m\n\u001b[0m\u001b[1;32m    148\u001b[0m     \u001b[0;32melse\u001b[0m\u001b[0;34m:\u001b[0m\u001b[0;34m\u001b[0m\u001b[0m\n\u001b[1;32m    149\u001b[0m         \u001b[0;31m# input already a file-like object; just reset to the beginning\u001b[0m\u001b[0;34m\u001b[0m\u001b[0;34m\u001b[0m\u001b[0m\n",
      "\u001b[0;32m//anaconda/envs/py36/lib/python3.6/site-packages/smart_open/smart_open_lib.py\u001b[0m in \u001b[0;36msmart_open\u001b[0;34m(uri, mode, **kw)\u001b[0m\n\u001b[1;32m    138\u001b[0m             \u001b[0;31m# local files -- both read & write supported\u001b[0m\u001b[0;34m\u001b[0m\u001b[0;34m\u001b[0m\u001b[0m\n\u001b[1;32m    139\u001b[0m             \u001b[0;31m# compression, if any, is determined by the filename extension (.gz, .bz2)\u001b[0m\u001b[0;34m\u001b[0m\u001b[0;34m\u001b[0m\u001b[0m\n\u001b[0;32m--> 140\u001b[0;31m             \u001b[0;32mreturn\u001b[0m \u001b[0mfile_smart_open\u001b[0m\u001b[0;34m(\u001b[0m\u001b[0mparsed_uri\u001b[0m\u001b[0;34m.\u001b[0m\u001b[0muri_path\u001b[0m\u001b[0;34m,\u001b[0m \u001b[0mmode\u001b[0m\u001b[0;34m)\u001b[0m\u001b[0;34m\u001b[0m\u001b[0m\n\u001b[0m\u001b[1;32m    141\u001b[0m         \u001b[0;32melif\u001b[0m \u001b[0mparsed_uri\u001b[0m\u001b[0;34m.\u001b[0m\u001b[0mscheme\u001b[0m \u001b[0;32min\u001b[0m \u001b[0;34m(\u001b[0m\u001b[0;34m\"s3\"\u001b[0m\u001b[0;34m,\u001b[0m \u001b[0;34m\"s3n\"\u001b[0m\u001b[0;34m,\u001b[0m \u001b[0;34m\"s3u\"\u001b[0m\u001b[0;34m)\u001b[0m\u001b[0;34m:\u001b[0m\u001b[0;34m\u001b[0m\u001b[0m\n\u001b[1;32m    142\u001b[0m             \u001b[0mkwargs\u001b[0m \u001b[0;34m=\u001b[0m \u001b[0;34m{\u001b[0m\u001b[0;34m}\u001b[0m\u001b[0;34m\u001b[0m\u001b[0m\n",
      "\u001b[0;32m//anaconda/envs/py36/lib/python3.6/site-packages/smart_open/smart_open_lib.py\u001b[0m in \u001b[0;36mfile_smart_open\u001b[0;34m(fname, mode)\u001b[0m\n\u001b[1;32m    642\u001b[0m \u001b[0;34m\u001b[0m\u001b[0m\n\u001b[1;32m    643\u001b[0m     \"\"\"\n\u001b[0;32m--> 644\u001b[0;31m     \u001b[0;32mreturn\u001b[0m \u001b[0mcompression_wrapper\u001b[0m\u001b[0;34m(\u001b[0m\u001b[0mopen\u001b[0m\u001b[0;34m(\u001b[0m\u001b[0mfname\u001b[0m\u001b[0;34m,\u001b[0m \u001b[0mmode\u001b[0m\u001b[0;34m)\u001b[0m\u001b[0;34m,\u001b[0m \u001b[0mfname\u001b[0m\u001b[0;34m,\u001b[0m \u001b[0mmode\u001b[0m\u001b[0;34m)\u001b[0m\u001b[0;34m\u001b[0m\u001b[0m\n\u001b[0m\u001b[1;32m    645\u001b[0m \u001b[0;34m\u001b[0m\u001b[0m\n\u001b[1;32m    646\u001b[0m \u001b[0;34m\u001b[0m\u001b[0m\n",
      "\u001b[0;31mFileNotFoundError\u001b[0m: [Errno 2] No such file or directory: 'model_files/unigrams_corpus.mm'"
     ]
    }
   ],
   "source": [
    "#import tweetclassifier\n",
    "from time import time\n",
    "import datetime\n",
    "\n",
    "t0 = time()\n",
    "tweeter = classifytweet()\n",
    "elapsed = time() - t0\n",
    "print(\"Took %s to initialize.\" % (str(datetime.timedelta(seconds=elapsed))))\n",
    "\n",
    "tweeter.initialize('this is a tweet? #hashtag')"
   ]
  },
  {
   "cell_type": "code",
   "execution_count": null,
   "metadata": {
    "collapsed": true
   },
   "outputs": [],
   "source": []
  },
  {
   "cell_type": "code",
   "execution_count": 40,
   "metadata": {},
   "outputs": [
    {
     "data": {
      "text/plain": [
       "[(0,\n",
       "  '0.332*\"global_warm\" + 0.013*\"new_york\" + 0.013*\"...\" + 0.009*\"via_@dailycal\" + 0.009*\"time\" + 0.008*\"caus\" + 0.007*\"predict\" + 0.005*\"hoax\" + 0.004*\"climat_chang\" + 0.004*\"theori\" + 0.004*\"excit\" + 0.004*\"#isi\" + 0.004*\"obama\" + 0.004*\"#tcot\" + 0.004*\"antarct_ice\" + 0.003*\"#forecast\" + 0.003*\"develop\" + 0.003*\"say\" + 0.003*\"claim\" + 0.003*\"crowd\" + 0.003*\"trend\" + 0.003*\"summer\" + 0.003*\"gain_ice\" + 0.003*\"send_forc\" + 0.003*\"metorologist_fight\" + 0.003*\"https://t.co/gprzfbifbm_obama\" + 0.003*\"new\" + 0.003*\"denial\" + 0.003*\"enrich_famili\" + 0.003*\"speed\"'),\n",
       " (1,\n",
       "  '0.034*\"...\" + 0.026*\"):\" + 0.021*\"retweet\" + 0.012*\"#auspol\" + 0.011*\"climat_chang\" + 0.011*\"#lgbt\" + 0.011*\"weekend\" + 0.010*\"gun\" + 0.009*\"heat\" + 0.009*\"flood\" + 0.008*\"white_hous\" + 0.006*\"scientif\" + 0.006*\"g\" + 0.006*\"shoot\" + 0.005*\"cnn\" + 0.005*\"studi_offer\" + 0.005*\"region\" + 0.005*\"daili_show\" + 0.005*\"around_world\" + 0.005*\"su\" + 0.005*\"surpris_answer\" + 0.004*\"via_@voxdotcom\" + 0.004*\"keyston\" + 0.004*\"number_one\" + 0.004*\"stop_mass\" + 0.004*\"call_action\" + 0.003*\"captur\" + 0.003*\"#africa\" + 0.003*\"#humanright\" + 0.003*\"ultim\"'),\n",
       " (2,\n",
       "  '0.040*\"climat_chang\" + 0.021*\"marriag_equal\" + 0.019*\"energi\" + 0.019*\"refuge\" + 0.015*\"ice\" + 0.014*\"adapt\" + 0.011*\"via_@motherjon\" + 0.009*\"hillari_clinton\" + 0.006*\"unit\" + 0.006*\"forget\" + 0.006*\"...\" + 0.005*\"save_world\" + 0.005*\"europ\" + 0.005*\"gold\" + 0.005*\"revers\" + 0.005*\"use\" + 0.004*\"#marriag\" + 0.004*\"help\" + 0.004*\"fill\" + 0.004*\"shoe\" + 0.004*\"pari_talk\" + 0.003*\"plan\" + 0.003*\"socialist\" + 0.003*\"say\" + 0.003*\"investor\" + 0.003*\"mayor\" + 0.003*\"wrote\" + 0.003*\"via\" + 0.003*\"support\" + 0.003*\"classic\"'),\n",
       " (3,\n",
       "  '0.037*\"wed_dress\" + 0.033*\"climat_chang\" + 0.020*\"greatest_threat\" + 0.018*\"ted_cruz\" + 0.013*\"hot\" + 0.009*\"...\" + 0.008*\"level\" + 0.008*\"ocean\" + 0.008*\"disast\" + 0.008*\"messag\" + 0.007*\"new\" + 0.007*\"#ourstolos\" + 0.006*\"greatest\" + 0.006*\"alert\" + 0.006*\"manag\" + 0.006*\"love\" + 0.006*\"confirm\" + 0.006*\"#canada\" + 0.006*\"list\" + 0.006*\"cruz\" + 0.006*\"50_year\" + 0.005*\"west\" + 0.005*\"scienc_religion\" + 0.005*\"photograph\" + 0.005*\"affect_thing\" + 0.005*\"20_year\" + 0.005*\"2015\" + 0.004*\":/\" + 0.004*\"next_week\" + 0.004*\"half\"'),\n",
       " (4,\n",
       "  '0.069*\"action\" + 0.037*\"#climatechang_start\" + 0.035*\"rt_music\" + 0.035*\"video_inspir\" + 0.016*\"...\" + 0.016*\"#parissummit_theme\" + 0.016*\"song_https://t.co/hptv1jatyx\" + 0.014*\"compani\" + 0.012*\"prepar\" + 0.008*\"lack\" + 0.006*\"wisdom\" + 0.006*\"figur\" + 0.006*\"fault\" + 0.005*\"climat_chang\" + 0.005*\"inclement_weather\" + 0.004*\"tho\" + 0.004*\"iowa_climate-chang\" + 0.004*\"marriag\" + 0.004*\"paus\" + 0.003*\"experi\" + 0.003*\"version\" + 0.003*\"met\" + 0.003*\"popular\" + 0.003*\"pack\" + 0.003*\"brown\" + 0.003*\"screen\" + 0.003*\"liz\" + 0.002*\"score\" + 0.002*\"jone\" + 0.002*\"26\"'),\n",
       " (5,\n",
       "  '0.034*\"wed_day\" + 0.033*\"climat_chang\" + 0.032*\"citi\" + 0.019*\"truth\" + 0.017*\"wed_cake\" + 0.012*\"statement\" + 0.008*\"worst\" + 0.008*\"...\" + 0.007*\"@ap\" + 0.007*\"fool\" + 0.007*\"18\" + 0.007*\"abt\" + 0.006*\"@johnkerri\" + 0.006*\"ha\" + 0.005*\"aka\" + 0.005*\"caus_hitler\" + 0.005*\"make\" + 0.005*\"tool\" + 0.005*\"ahead_pari\" + 0.004*\"failur_tackl\" + 0.004*\":-)\" + 0.004*\"blame_horror\" + 0.004*\"inspir_letter\" + 0.004*\"daughter_syndrom\" + 0.004*\"dad_pen\" + 0.004*\"#liberallog\" + 0.004*\"jihad_syria\" + 0.004*\"appli\" + 0.003*\"like\" + 0.003*\"dj\"'),\n",
       " (6,\n",
       "  '0.130*\"chang\" + 0.015*\"tackl_climat\" + 0.015*\"gun_control\" + 0.013*\"mind\" + 0.012*\"insan\" + 0.012*\"combat_climat\" + 0.010*\"kurt_russel\" + 0.010*\"date\" + 0.010*\"question\" + 0.009*\"climat_chang\" + 0.009*\"...\" + 0.007*\"via_@breitbartnew\" + 0.007*\"effort\" + 0.007*\"promis\" + 0.006*\"keyston_xl\" + 0.006*\"breitbart\" + 0.006*\"cake\" + 0.005*\"think\" + 0.005*\"voter\" + 0.005*\"san_bernardino\" + 0.005*\"absolut_insan\" + 0.005*\"blast\" + 0.004*\"hide\" + 0.004*\"@reuter\" + 0.003*\"pls_rt\" + 0.003*\"report\" + 0.003*\"call\" + 0.003*\"yet_anoth\" + 0.003*\"@benshapiro\" + 0.003*\"@drudge_report\"'),\n",
       " (7,\n",
       "  '0.024*\"photo\" + 0.020*\"...\" + 0.015*\"men\" + 0.013*\"marriag\" + 0.013*\"tomorrow\" + 0.013*\"march\" + 0.009*\"environment\" + 0.008*\"twitter\" + 0.008*\"temperatur\" + 0.007*\"daughter\" + 0.007*\"climat_chang\" + 0.006*\"rich\" + 0.006*\"gop_candid\" + 0.006*\"ruin\" + 0.005*\"advic\" + 0.005*\"influenc\" + 0.005*\"mormon\" + 0.005*\"store\" + 0.005*\";)\" + 0.005*\"text\" + 0.005*\"alleg\" + 0.004*\"featur\" + 0.004*\"@billny\" + 0.004*\"daughter_wed\" + 0.004*\"13_year-old\" + 0.004*\"monday\" + 0.003*\"radio\" + 0.003*\"hotel\" + 0.003*\"sleep\" + 0.003*\"octob_2015\"'),\n",
       " (8,\n",
       "  '0.269*\"#climatechang\" + 0.036*\"#globalwarm\" + 0.019*\"#cop21\" + 0.008*\"climat_chang\" + 0.007*\"#isi\" + 0.006*\"#obama\" + 0.004*\"us\" + 0.004*\"#climateact\" + 0.004*\"...\" + 0.003*\"secur_threat\" + 0.003*\"2030\" + 0.003*\"#feelthebern\" + 0.003*\"caus\" + 0.003*\"say\" + 0.003*\"report\" + 0.003*\"gorgeous\" + 0.003*\"need\" + 0.003*\"new\" + 0.003*\"action\" + 0.003*\"@potus\" + 0.003*\"real\" + 0.003*\"via\" + 0.003*\"rand_paul\" + 0.003*\"@justintrudeau\" + 0.003*\"effect\" + 0.003*\"planet\" + 0.002*\"must\" + 0.002*\"talk\" + 0.002*\"leader\" + 0.002*\"discuss\"'),\n",
       " (9,\n",
       "  '0.091*\"#climat\" + 0.047*\"#demdeb\" + 0.037*\"chang\" + 0.028*\"#actonclim\" + 0.026*\"climat_chang\" + 0.016*\"@berniesand\" + 0.007*\"bigger_threat\" + 0.006*\"work_togeth\" + 0.006*\"shift\" + 0.006*\"man-mad_global-warm\" + 0.006*\"save_us\" + 0.005*\"global_cooper\" + 0.004*\"vital_tell\" + 0.004*\"#exxon\" + 0.004*\"state\" + 0.004*\"clean\" + 0.004*\"catastroph\" + 0.003*\"...\" + 0.003*\"warm\" + 0.003*\"page\" + 0.003*\"tabl\" + 0.003*\"man-mad_global\" + 0.003*\"#tcot\" + 0.003*\"say\" + 0.003*\"via\" + 0.003*\"could_disastr\" + 0.003*\"five_us\" + 0.003*\"@lorettalynch_#exxonknew\" + 0.003*\"#stopfundingfossil_prosecut\" + 0.003*\"chang_deceiv\"'),\n",
       " (10,\n",
       "  '0.016*\"perfect\" + 0.015*\"limit\" + 0.014*\"...\" + 0.014*\"gun\" + 0.012*\"intern\" + 0.009*\"#love\" + 0.007*\"london\" + 0.007*\"lmao\" + 0.007*\"climat_chang\" + 0.006*\"sever\" + 0.006*\"#un\" + 0.005*\"cap\" + 0.005*\"turkey\" + 0.005*\"report\" + 0.004*\"huh_?\" + 0.004*\"degre_warm\" + 0.004*\"holiday\" + 0.004*\"could_add\" + 0.004*\"four\" + 0.004*\"worldwid\" + 0.004*\"warn\" + 0.004*\"one\" + 0.004*\"#agricultur\" + 0.004*\"halfway_two\" + 0.004*\"marriag\" + 0.004*\"poor_2030\" + 0.004*\"wealth\" + 0.004*\"j\" + 0.004*\"@pontifex\" + 0.004*\"oper\"'),\n",
       " (11,\n",
       "  '0.017*\"song\" + 0.017*\"economi\" + 0.016*\"climat_chang\" + 0.014*\"#tcot_#pjnet\" + 0.013*\"novemb\" + 0.012*\"tackl\" + 0.010*\"syrian_refuge\" + 0.009*\"...\" + 0.008*\"#2a\" + 0.008*\"#tcot\" + 0.007*\"tv\" + 0.007*\"proud\" + 0.007*\"rais\" + 0.007*\"#p2\" + 0.007*\"activ\" + 0.006*\"youtub\" + 0.006*\"big\" + 0.006*\"treat\" + 0.005*\"leadership\" + 0.005*\"pro\" + 0.005*\"gun_control\" + 0.005*\"coupl_cancel\" + 0.005*\"marriag\" + 0.004*\"innov\" + 0.004*\"expens\" + 0.004*\"watch\" + 0.004*\"support_gay\" + 0.003*\"daili_caller\" + 0.003*\"harass\" + 0.003*\"fianc\"'),\n",
       " (12,\n",
       "  '0.102*\"climat_chang\" + 0.052*\"world\" + 0.045*\"fight\" + 0.042*\"pari\" + 0.017*\"...\" + 0.017*\"berni\" + 0.015*\"deal\" + 0.014*\"address\" + 0.007*\"battl\" + 0.006*\"denial\" + 0.005*\"obama\" + 0.005*\"say\" + 0.005*\"presid_obama\" + 0.005*\"talk\" + 0.004*\"three\" + 0.004*\"minist\" + 0.004*\"us\" + 0.004*\"global\" + 0.004*\"news\" + 0.004*\"..\" + 0.003*\"yes\" + 0.003*\"quot\" + 0.003*\"pledg\" + 0.003*\"islam_terror\" + 0.003*\"approach\" + 0.003*\"man-mad\" + 0.003*\"presid\" + 0.003*\"terror_attack\" + 0.003*\"action\" + 0.003*\"move_mountain\"'),\n",
       " (13,\n",
       "  '0.294*\"?\" + 0.059*\"climat_chang\" + 0.041*\"whi\" + 0.016*\"doe\" + 0.010*\"realli\" + 0.010*\"serious\" + 0.008*\"us\" + 0.008*\"due\" + 0.007*\"think\" + 0.006*\"would\" + 0.005*\"bill_gate\" + 0.005*\"say\" + 0.005*\"...\" + 0.005*\"anyth\" + 0.005*\"believ\" + 0.004*\"question\" + 0.004*\"know\" + 0.004*\"peopl\" + 0.004*\"right\" + 0.004*\"caus\" + 0.004*\"real\" + 0.004*\"answer\" + 0.004*\"tax\" + 0.004*\"emiss\" + 0.004*\"could\" + 0.004*\"want\" + 0.004*\"isn\\'t\" + 0.004*\"get_marri\" + 0.003*\"anyon\" + 0.003*\"rt\"'),\n",
       " (14,\n",
       "  '0.021*\"climat_chang\" + 0.019*\"exxon\" + 0.013*\"...\" + 0.008*\"gun\" + 0.007*\"#ableg\" + 0.005*\"via_@usatoday\" + 0.005*\"man\" + 0.004*\"princ\" + 0.004*\"#ocean\" + 0.004*\"bbc\" + 0.004*\"phone\" + 0.004*\"gas_pump\" + 0.003*\"declin\" + 0.003*\"fantast\" + 0.003*\"get_readi\" + 0.003*\"use\" + 0.003*\"sen\" + 0.003*\"edit\" + 0.003*\"gun_control\" + 0.003*\"implic\" + 0.003*\"insight\" + 0.003*\"lie\" + 0.003*\"bold\" + 0.003*\"video\" + 0.003*\"toy\" + 0.003*\"skin_color\" + 0.003*\"divers\" + 0.003*\"previous\" + 0.003*\"sigh\" + 0.003*\"#hillary2016\"'),\n",
       " (15,\n",
       "  '0.148*\"climat\" + 0.046*\"scienc\" + 0.037*\"#cop21\" + 0.032*\"polici\" + 0.017*\"climat_chang\" + 0.012*\"#climatechang\" + 0.011*\"#cdnpoli\" + 0.011*\"pari\" + 0.008*\"scientist\" + 0.007*\"talk\" + 0.006*\"fuel\" + 0.006*\"ap_fact\" + 0.006*\"engag\" + 0.005*\"rain\" + 0.005*\"wed_bouquet\" + 0.004*\"reject\" + 0.004*\"photo_charm\" + 0.004*\"check\" + 0.004*\"resourc\" + 0.003*\"...\" + 0.003*\"plan\" + 0.003*\"scienc_denier\" + 0.003*\"new\" + 0.003*\"via_@etsi\" + 0.003*\"candid_flunk\" + 0.003*\"announc\" + 0.003*\"check_gop\" + 0.003*\"via\" + 0.003*\"action\" + 0.003*\"ap\"'),\n",
       " (16,\n",
       "  '0.483*\"!\" + 0.023*\"thank\" + 0.011*\"climat_chang\" + 0.008*\"wow\" + 0.007*\"love\" + 0.005*\"...\" + 0.005*\"oh\" + 0.005*\"get\" + 0.005*\"go\" + 0.005*\"great\" + 0.004*\"wors\" + 0.004*\"damn\" + 0.004*\"yes\" + 0.004*\"time\" + 0.003*\"omg\" + 0.003*\"good\" + 0.003*\"lol\" + 0.003*\"congrat\" + 0.003*\"let\" + 0.003*\"come\" + 0.003*\"one\" + 0.003*\"look\" + 0.003*\"make\" + 0.003*\"day\" + 0.003*\"see\" + 0.003*\"hilari\" + 0.002*\"need\" + 0.002*\"hey\" + 0.002*\"stop\" + 0.002*\"pleas\"'),\n",
       " (17,\n",
       "  '0.019*\"data\" + 0.018*\"...\" + 0.013*\"wed_recept\" + 0.009*\"product\" + 0.009*\"climat_chang\" + 0.008*\"kindergartn\" + 0.008*\"reveal\" + 0.008*\"capit\" + 0.007*\"bit\" + 0.006*\"scienc_averag\" + 0.005*\"zero\" + 0.005*\"david\" + 0.005*\"@cbsnew\" + 0.005*\"analysi\" + 0.004*\"gun\" + 0.004*\"iron\" + 0.004*\":(\" + 0.004*\"explain_whi\" + 0.004*\"forecast\" + 0.004*\"odd\" + 0.004*\"insist\" + 0.004*\"undermin\" + 0.004*\"make_sens\" + 0.003*\"#photographi\" + 0.003*\"via_@telegraph\" + 0.003*\"tear\" + 0.003*\"meanwhil\" + 0.003*\"honest\" + 0.003*\"@michaelemann_candid\" + 0.003*\"armi\"'),\n",
       " (18,\n",
       "  '0.094*\"climat_chang\" + 0.039*\"link\" + 0.018*\"worri\" + 0.011*\"religion\" + 0.010*\"terror\" + 0.010*\"pay\" + 0.009*\"contribut\" + 0.009*\"@sensand\" + 0.009*\"evid\" + 0.008*\"stop\" + 0.008*\"...\" + 0.007*\"scam\" + 0.007*\"project\" + 0.006*\"side\" + 0.006*\"corpor\" + 0.006*\"carbon\" + 0.005*\"say\" + 0.005*\"air\" + 0.004*\"make\" + 0.004*\"king\" + 0.004*\"believ\" + 0.004*\"ladi\" + 0.004*\"washington_post\" + 0.004*\"syria_war\" + 0.003*\"need\" + 0.003*\"island\" + 0.003*\"greenhous_gase\" + 0.003*\"reduc_harm\" + 0.003*\"eu\" + 0.003*\"effect\"'),\n",
       " (19,\n",
       "  '0.030*\"futur\" + 0.016*\"pictur\" + 0.015*\"realiti\" + 0.015*\"threaten\" + 0.014*\"climat_chang\" + 0.013*\"equal\" + 0.012*\"social\" + 0.012*\"son\" + 0.011*\"present\" + 0.011*\"report_...\" + 0.009*\"...\" + 0.008*\"canadian\" + 0.008*\"model\" + 0.007*\"mom\" + 0.007*\"tradit\" + 0.007*\"onlin\" + 0.006*\"generat\" + 0.006*\"sustain\" + 0.006*\"child\" + 0.006*\"honor\" + 0.005*\"star\" + 0.005*\"initi\" + 0.005*\"fair\" + 0.005*\"al\" + 0.005*\"dad\" + 0.004*\"info\" + 0.004*\"coupl\" + 0.004*\"con\" + 0.004*\"donald_trump\" + 0.003*\"confer_pari\"'),\n",
       " (20,\n",
       "  '0.026*\"sex\" + 0.023*\"#gopdeb\" + 0.016*\"expect\" + 0.015*\"secur\" + 0.014*\"rise\" + 0.011*\"climat_chang\" + 0.011*\"step\" + 0.008*\"gun\" + 0.008*\"...\" + 0.007*\"sea_level\" + 0.007*\"extrem_weather\" + 0.007*\"movement\" + 0.007*\"launch\" + 0.007*\"still_think\" + 0.007*\"make_sure\" + 0.006*\"->\" + 0.006*\"saturday\" + 0.006*\"popul\" + 0.006*\"threat_nation\" + 0.005*\"crap\" + 0.005*\"donat\" + 0.005*\"headlin\" + 0.005*\"press\" + 0.005*\"ya\" + 0.004*\"terror_suspect\" + 0.004*\"hundr\" + 0.004*\"network\" + 0.004*\"hahaha\" + 0.004*\"@randpaul\" + 0.004*\"ah\"'),\n",
       " (21,\n",
       "  '0.029*\"climat_chang\" + 0.024*\"...\" + 0.024*\"canada\" + 0.023*\"law\" + 0.017*\"book\" + 0.016*\"challeng\" + 0.014*\"natur\" + 0.013*\"tweet\" + 0.012*\"toda\" + 0.010*\"#tcot_#uniteblu\" + 0.008*\"rate\" + 0.007*\"marriag\" + 0.007*\"inspir\" + 0.007*\"sound\" + 0.006*\"john_kerri\" + 0.006*\"travel\" + 0.006*\"new\" + 0.005*\"inform\" + 0.005*\"trudeau\" + 0.005*\"unit_nation\" + 0.005*\"quick\" + 0.004*\"expos\" + 0.004*\"need\" + 0.004*\"us\" + 0.004*\"straight\" + 0.004*\"gun\" + 0.003*\"say\" + 0.003*\"bibl\" + 0.003*\"understand_less\" + 0.003*\"ideolog\"'),\n",
       " (22,\n",
       "  '0.023*\"climat_chang\" + 0.017*\"#environ\" + 0.016*\"say\" + 0.016*\"marriag\" + 0.012*\"accept\" + 0.011*\"co2\" + 0.011*\"happi\" + 0.011*\"ahead\" + 0.010*\"summit_pari\" + 0.009*\"mitig\" + 0.008*\"judg\" + 0.007*\"...\" + 0.007*\"new_studi\" + 0.007*\"form\" + 0.006*\"earli\" + 0.006*\"hour\" + 0.006*\"pope_franci\" + 0.006*\"legal_bind\" + 0.005*\"reach\" + 0.005*\"short\" + 0.005*\"via_@mashabl\" + 0.004*\"obama\" + 0.004*\"saudi_arabia\" + 0.004*\"journal\" + 0.004*\"greater\" + 0.004*\"@redsteez\" + 0.004*\"republican_parti\" + 0.004*\"love\" + 0.004*\"@rachelnotley\" + 0.004*\"could_help\"'),\n",
       " (23,\n",
       "  '0.172*\"climat_chang\" + 0.041*\"terror\" + 0.024*\"isi\" + 0.024*\"obama\" + 0.021*\"berni_sander\" + 0.017*\"threat\" + 0.016*\"say\" + 0.016*\"blame\" + 0.015*\"...\" + 0.011*\"studi\" + 0.011*\"nation_secur\" + 0.010*\"sander\" + 0.010*\"meet\" + 0.009*\"caus\" + 0.008*\"caus_terror\" + 0.008*\"agenda\" + 0.005*\"us\" + 0.004*\"democrat\" + 0.004*\"push\" + 0.004*\"issu\" + 0.004*\"bill_nye\" + 0.004*\"syria\" + 0.003*\"via\" + 0.003*\"video\" + 0.003*\"sun\" + 0.003*\"talk\" + 0.003*\"discuss\" + 0.003*\"think\" + 0.003*\"solv\" + 0.003*\"said\"'),\n",
       " (24,\n",
       "  '0.039*\"weather\" + 0.033*\"...\" + 0.021*\"climat_chang\" + 0.015*\"fraud\" + 0.013*\"marriag\" + 0.009*\"pipelin\" + 0.008*\"daili\" + 0.008*\"pm\" + 0.008*\"bless\" + 0.008*\"storm_report\" + 0.007*\"via_@theblaz\" + 0.006*\"dog\" + 0.006*\"#wed_#trend\" + 0.006*\"#popular_#pictur\" + 0.006*\"don\\'t_let\" + 0.006*\"human_right\" + 0.006*\"https://t.co/obmhxs6hpp\" + 0.005*\"caus_isi\" + 0.005*\"global_temperatur\" + 0.004*\"14\" + 0.004*\"report\" + 0.004*\"meat\" + 0.004*\"right\" + 0.004*\"pm_cst\" + 0.004*\"@time\" + 0.004*\"#conserv\" + 0.004*\"coverag\" + 0.004*\"prayer\" + 0.004*\"may_help\" + 0.003*\"na\"'),\n",
       " (25,\n",
       "  '0.100*\"today\" + 0.056*\"..._wind\" + 0.056*\"hydeparkwind_wonderland\" + 0.056*\"mph_gust\" + 0.055*\"..._temp\" + 0.054*\"..._rain\" + 0.014*\"speed_3.0\" + 0.014*\"planet\" + 0.013*\"10\" + 0.011*\"speed_2.0\" + 0.010*\"<u+0098>_<u+008d>\" + 0.008*\"speed_4.0\" + 0.007*\"22_time\" + 0.007*\"speed_1.0\" + 0.005*\"7.0_mph\" + 0.005*\"8.0_mph\" + 0.005*\"9.0_mph\" + 0.005*\"6.0_mph\" + 0.005*\"whole\" + 0.004*\"10.0_mph\" + 0.004*\"wed_gift\" + 0.004*\"4.0_mph\" + 0.004*\"speed_0.0\" + 0.004*\"5.0_mph\" + 0.004*\"speed_5.0\" + 0.003*\"thing\" + 0.003*\"11.0_mph\" + 0.003*\"agricultur\" + 0.003*\"cute\" + 0.003*\"speed_6.0\"'),\n",
       " (26,\n",
       "  '0.035*\"scientist\" + 0.027*\"root_caus\" + 0.022*\"climat_chang\" + 0.016*\"...\" + 0.014*\"marriag_licens\" + 0.013*\"releas\" + 0.009*\"proof\" + 0.008*\"via_@nytim\" + 0.007*\"first_time\" + 0.007*\"new\" + 0.006*\"guid\" + 0.006*\"glad\" + 0.006*\"ceremoni\" + 0.005*\"britain_princ\" + 0.005*\"25\" + 0.005*\"civil\" + 0.004*\"gun_confisc\" + 0.004*\"remov_clerk\" + 0.004*\"#world\" + 0.004*\"ab\" + 0.004*\"protect_prepar\" + 0.004*\"urg_@fema\" + 0.004*\"kid_die\" + 0.003*\"silenc\" + 0.003*\"@hudgov_support\" + 0.003*\"via_@thenewshyp\" + 0.003*\"#tcot\" + 0.003*\"clerk_name\" + 0.003*\"nyt\" + 0.003*\"partnership\"'),\n",
       " (27,\n",
       "  '0.037*\"impact\" + 0.026*\"earth\" + 0.018*\"climat_chang\" + 0.015*\"miss\" + 0.013*\"...\" + 0.010*\"china\" + 0.009*\"decis\" + 0.009*\"suprem_court\" + 0.008*\"bbc_news\" + 0.007*\"vulner\" + 0.005*\"barack_obama\" + 0.005*\"plant\" + 0.005*\"peopl\" + 0.005*\"petit\" + 0.005*\"notic\" + 0.005*\"histor\" + 0.004*\"upcom\" + 0.004*\"could_drive\" + 0.004*\"sometim\" + 0.004*\"say\" + 0.004*\"same-sex_adopt\" + 0.004*\"marriag\" + 0.004*\"via_@chang\" + 0.003*\"talk\" + 0.003*\"see\" + 0.003*\"western\" + 0.003*\"royal\" + 0.003*\"budget\" + 0.003*\"cycl\" + 0.003*\"ohio\"'),\n",
       " (28,\n",
       "  '0.083*\"bride\" + 0.057*\"warm\" + 0.024*\"c\" + 0.020*\"hit\" + 0.015*\"charl\" + 0.013*\"groom\" + 0.011*\"...\" + 0.011*\"c_wind\" + 0.011*\"mph_...\" + 0.010*\"wind_speed\" + 0.010*\"wonderland_weather\" + 0.010*\"fakebrenthil_hydeparkwind\" + 0.010*\"climat_chang\" + 0.008*\"could_push\" + 0.006*\"..\" + 0.006*\"dr\" + 0.006*\"theme\" + 0.005*\"britain\" + 0.005*\"!_gobbl\" + 0.005*\"us_thursday\" + 0.004*\".\\r\\n.\\r\\n._warn\" + 0.004*\"new\" + 0.004*\"britain_princ\" + 0.004*\"!_https://t.co/3twb7vrxd5\" + 0.003*\"via\" + 0.003*\"mormon_church\" + 0.003*\"#opw\" + 0.003*\"everybodi\" + 0.003*\"coupl_apost\" + 0.003*\"prime_minist\"'),\n",
       " (29,\n",
       "  '0.026*\"https://t.co/hptv1jatyx\" + 0.025*\"#parissummit_movement\" + 0.017*\"#trump2016\" + 0.014*\"climat_chang\" + 0.013*\"u_n\" + 0.012*\"real_trump\" + 0.012*\"trump_watch\" + 0.012*\"#pjnet_#1a\" + 0.012*\"#2a_#trump\" + 0.012*\"make_1\" + 0.011*\"https://t.co/j58e8aacr_#tcot\" + 0.009*\"smh\" + 0.008*\"via_@etsi\" + 0.007*\"beach\" + 0.007*\"via_@takepart\" + 0.007*\"...\" + 0.007*\"kick\" + 0.006*\"big_oil\" + 0.006*\"#googlealert\" + 0.005*\"town\" + 0.005*\"counti\" + 0.004*\"syrian\" + 0.004*\"insur\" + 0.004*\"action\" + 0.004*\"energi_polici\" + 0.004*\"assess\" + 0.004*\"chines\" + 0.004*\"pakistan\" + 0.003*\"@abc\" + 0.003*\"abil\"'),\n",
       " (30,\n",
       "  '0.025*\"marriag\" + 0.020*\"...\" + 0.018*\"like\" + 0.016*\"i\\'m\" + 0.014*\"one\" + 0.013*\"get\" + 0.013*\"don\\'t\" + 0.012*\"go\" + 0.009*\"peopl\" + 0.009*\"know\" + 0.009*\"think\" + 0.008*\"thing\" + 0.008*\"would\" + 0.008*\"becaus\" + 0.007*\"guy\" + 0.007*\"..\" + 0.007*\"say\" + 0.007*\"never\" + 0.006*\"make\" + 0.006*\"want\" + 0.006*\"you\\'r\" + 0.006*\"someth\" + 0.006*\"love\" + 0.006*\"need\" + 0.006*\"gun\" + 0.005*\"see\" + 0.005*\"someon\" + 0.005*\"said\" + 0.005*\"can\\'t\" + 0.005*\"feel\"'),\n",
       " (31,\n",
       "  '0.018*\"...\" + 0.016*\"sofia_vergara\" + 0.014*\"court\" + 0.011*\"joe_manganiello\" + 0.011*\"role\" + 0.011*\"goal\" + 0.011*\"gun\" + 0.009*\"via_@ecowatch\" + 0.008*\"everi_day\" + 0.008*\"eat\" + 0.007*\"wind\" + 0.007*\"climat_chang\" + 0.007*\"updat\" + 0.007*\"awesom\" + 0.006*\"#gunfail_#nra\" + 0.005*\"sinc_sandi\" + 0.005*\"servic\" + 0.005*\"1_threat\" + 0.005*\"refer\" + 0.005*\"wed_weekend\" + 0.005*\"panel\" + 0.005*\"new\" + 0.004*\"explor\" + 0.004*\"deep\" + 0.004*\"marriag\" + 0.004*\"world_order\" + 0.004*\"club\" + 0.004*\"file\" + 0.004*\"peggi_noonan\" + 0.003*\"blood\"'),\n",
       " (32,\n",
       "  '0.030*\"climat_chang\" + 0.023*\"#pari\" + 0.016*\"greater_threat\" + 0.014*\"environ\" + 0.013*\"100\" + 0.011*\"declar\" + 0.010*\"key\" + 0.010*\"send\" + 0.008*\"...\" + 0.008*\"billion\" + 0.008*\"@realjameswood\" + 0.007*\"8\" + 0.007*\"time\" + 0.006*\"excel\" + 0.006*\"yeah\" + 0.006*\"50\" + 0.006*\"justic\" + 0.005*\"scari\" + 0.004*\"eat_less\" + 0.004*\"biggest\" + 0.004*\"real\" + 0.004*\"#tcot_#p2\" + 0.003*\"sir\" + 0.003*\"clean_energi\" + 0.003*\"pacif\" + 0.003*\"intellig\" + 0.003*\"melt_shift\" + 0.003*\"romant\" + 0.003*\"reason_whi\" + 0.003*\"poem_climat\"'),\n",
       " (33,\n",
       "  '0.025*\"women\" + 0.023*\"climat_chang\" + 0.017*\"#uniteblu_#tcot\" + 0.015*\"#scienc\" + 0.012*\"...\" + 0.008*\"marriag\" + 0.007*\"anniversari\" + 0.007*\"bet\" + 0.007*\"need\" + 0.005*\"inspir_action\" + 0.005*\"rt_song\" + 0.005*\"share_music\" + 0.005*\"vid_#standorfal\" + 0.005*\"https://t.co/hptv1jatyx_#parissummit\" + 0.005*\"technolog\" + 0.005*\"farm\" + 0.005*\"gore\" + 0.004*\"recogn\" + 0.004*\"2nd\" + 0.004*\"survey\" + 0.004*\"site\" + 0.004*\"via_@weaselzipp\" + 0.004*\"investig_exxon\" + 0.004*\"great_news\" + 0.004*\"founder\" + 0.004*\"grant\" + 0.004*\"smoke\" + 0.004*\"presidenti_candid\" + 0.003*\"gun_control\" + 0.003*\"clueless\"'),\n",
       " (34,\n",
       "  '0.018*\"bill\" + 0.013*\"invit\" + 0.011*\"attorney_general\" + 0.010*\"...\" + 0.009*\"interview\" + 0.008*\"wed_decor\" + 0.007*\"degre\" + 0.007*\"lot_ivori\" + 0.006*\"float_candl\" + 0.006*\"wax_bath\" + 0.006*\"centerpiec_suppli\" + 0.006*\"https://t.co/sesprcx6zz\" + 0.006*\"stanc\" + 0.006*\"climat_chang\" + 0.005*\"@thedemocrat\" + 0.005*\"loss\" + 0.005*\"period\" + 0.005*\"park\" + 0.004*\"solut\" + 0.004*\"#teaparti\" + 0.004*\"kiss\" + 0.004*\"studi_find\" + 0.004*\"same-sex_parent\" + 0.004*\"size_10\" + 0.004*\"#india\" + 0.003*\"pearl_sequin\" + 0.003*\"eleanor_wed\" + 0.003*\"bridal_ladi\" + 0.003*\"#dress_w\" + 0.003*\"apart\"'),\n",
       " (35,\n",
       "  '0.036*\"confer\" + 0.033*\"biggest_threat\" + 0.016*\"climat_chang\" + 0.012*\"exact\" + 0.011*\"food\" + 0.009*\"age\" + 0.008*\"avoid\" + 0.008*\"burn\" + 0.008*\"...\" + 0.008*\"cold\" + 0.007*\"join_us\" + 0.007*\"@algor\" + 0.007*\"don\\'t_believ\" + 0.006*\"#green\" + 0.006*\"term\" + 0.006*\"rock\" + 0.005*\"serv\" + 0.005*\"canada\" + 0.005*\"tell_premier\" + 0.005*\"warm_twice\" + 0.005*\"rate_scientist\" + 0.005*\"we\\'v\" + 0.004*\"sit\" + 0.004*\"they\\'ll\" + 0.004*\"@msnbc\" + 0.004*\"averag\" + 0.004*\"@washingtonpost\" + 0.004*\"16\" + 0.004*\"say\" + 0.003*\"marriag\"'),\n",
       " (36,\n",
       "  '0.043*\"climat_chang\" + 0.031*\"marriag\" + 0.023*\"affect\" + 0.021*\"rememb\" + 0.018*\"100_million\" + 0.017*\"parent\" + 0.017*\"world_bank\" + 0.016*\"poor\" + 0.015*\"...\" + 0.015*\"million\" + 0.009*\"love\" + 0.009*\"conflict\" + 0.006*\"secret\" + 0.006*\"mani_peopl\" + 0.006*\"exampl\" + 0.005*\"via\" + 0.005*\"year\" + 0.005*\"say\" + 0.004*\"washington\" + 0.004*\"america_planet\" + 0.004*\"gun\" + 0.004*\"forum\" + 0.003*\"inde\" + 0.003*\"cont\" + 0.003*\"kentucki\" + 0.003*\"blind\" + 0.003*\"marco_rubio\" + 0.003*\"@scoopit\" + 0.003*\"gun_sold\" + 0.003*\"field\"'),\n",
       " (37,\n",
       "  '0.089*\"climat_chang\" + 0.030*\"war\" + 0.022*\"risk\" + 0.019*\"world_leader\" + 0.018*\"exxon_mobil\" + 0.017*\"...\" + 0.014*\"public\" + 0.014*\"franc\" + 0.011*\":-(\" + 0.010*\"general\" + 0.010*\"#climatechang_#cc\" + 0.009*\"strategi\" + 0.009*\"relationship\" + 0.008*\"new\" + 0.007*\"investig_possibl\" + 0.006*\"lie_new\" + 0.006*\"york_attorney\" + 0.006*\"benefit\" + 0.005*\"new_york\" + 0.005*\"melt\" + 0.005*\"slow\" + 0.004*\"right\" + 0.004*\"farmer\" + 0.004*\"make\" + 0.004*\"state\" + 0.004*\"lie\" + 0.004*\"potenti\" + 0.004*\"defin\" + 0.003*\"accord_bind\" + 0.003*\"via_@huffpostpol\"'),\n",
       " (38,\n",
       "  '0.067*\"global\" + 0.034*\"summit\" + 0.024*\"busi\" + 0.022*\"same-sex_coupl\" + 0.016*\"...\" + 0.016*\"climat_chang\" + 0.012*\"wed_photo\" + 0.012*\"skeptic\" + 0.010*\"celebr\" + 0.009*\"africa\" + 0.008*\"nj_wed\" + 0.008*\"mormon_church\" + 0.007*\"abella_studio\" + 0.007*\"activist\" + 0.007*\"adopt\" + 0.006*\"https://t.co/hpsdifsqi9\" + 0.006*\"prosecut\" + 0.005*\"partner\" + 0.004*\"scientist_warn\" + 0.004*\"prioriti\" + 0.004*\"#climatechang_#climateact\" + 0.004*\"middl_east\" + 0.004*\"blame_terror\" + 0.004*\"wed_anniversari\" + 0.004*\"decemb\" + 0.004*\"lake\" + 0.003*\"brief\" + 0.003*\"methan_pollut\" + 0.003*\"sweet\" + 0.003*\"hit_new\"'),\n",
       " (39,\n",
       "  '0.047*\"un\" + 0.025*\"post\" + 0.014*\"commit\" + 0.012*\"de\" + 0.011*\"marriag\" + 0.010*\"...\" + 0.009*\"la\" + 0.008*\"success\" + 0.008*\"agreement\" + 0.007*\"pari\" + 0.007*\"premier\" + 0.006*\"climat_chang\" + 0.006*\"c_...\" + 0.006*\"album\" + 0.006*\"real_threat\" + 0.006*\"institut\" + 0.005*\"@un\" + 0.005*\"topic\" + 0.005*\"grow_first\" + 0.005*\"remain\" + 0.005*\"weird\" + 0.004*\"occur\" + 0.004*\"en\" + 0.004*\"new\" + 0.004*\"speci\" + 0.004*\"opposit\" + 0.004*\"photo_facebook\" + 0.004*\"le\" + 0.003*\"achiev\" + 0.003*\"lock\"'),\n",
       " (40,\n",
       "  '0.057*\"gay_marriag\" + 0.011*\"cc\" + 0.008*\"beat\" + 0.008*\"#energi\" + 0.008*\"combat\" + 0.007*\"climat_chang\" + 0.007*\"respect\" + 0.007*\"failur\" + 0.006*\"@moveon\" + 0.006*\"imag\" + 0.006*\"sea\" + 0.005*\"alarm\" + 0.005*\"truli\" + 0.005*\"awar\" + 0.005*\"bank\" + 0.005*\"...\" + 0.005*\"belief\" + 0.005*\"delusion\" + 0.005*\"thought_prayer\" + 0.005*\"gun_violenc\" + 0.005*\"abl\" + 0.004*\"rest\" + 0.004*\"#alberta\" + 0.004*\"wast\" + 0.004*\"obama\" + 0.004*\"marriag\" + 0.004*\"attent\" + 0.004*\"gas\" + 0.004*\"ruin_marriag\" + 0.003*\"abort\"'),\n",
       " (41,\n",
       "  '0.062*\"<u+0098>_<u+0082>\" + 0.035*\"marri\" + 0.018*\"marriag\" + 0.011*\"...\" + 0.010*\"#weather\" + 0.009*\"singl\" + 0.009*\"noaa\" + 0.009*\"polar_bear\" + 0.007*\"ain\\'t\" + 0.007*\"teach\" + 0.006*\"#renew\" + 0.006*\"<u+0098>_<u+00b3>\" + 0.006*\"suit\" + 0.005*\"<u+0098>_<u+00b1>\" + 0.005*\"#coal\" + 0.004*\"#china\" + 0.004*\"spous\" + 0.004*\"cheat\" + 0.004*\"<u+0098>_<u+0092>\" + 0.004*\"pressur\" + 0.004*\"pastor\" + 0.004*\"teacher\" + 0.004*\"stronger\" + 0.003*\"climat_chang\" + 0.003*\"shell\" + 0.003*\"want\" + 0.003*\"selfi\" + 0.002*\"staff\" + 0.002*\"go_away\" + 0.002*\"give\"'),\n",
       " (42,\n",
       "  '0.028*\"god\" + 0.023*\"climat_chang\" + 0.016*\"...\" + 0.012*\"marriag\" + 0.010*\"design\" + 0.010*\"expert\" + 0.010*\"fake\" + 0.009*\"gun\" + 0.009*\"except\" + 0.008*\"univers\" + 0.008*\"dream\" + 0.007*\"ridicul\" + 0.006*\"gone\" + 0.006*\"negoti\" + 0.006*\"whether\" + 0.006*\"nov\" + 0.006*\"gain\" + 0.005*\"us\" + 0.005*\"y\\'all\" + 0.005*\"90\" + 0.004*\"harm\" + 0.004*\"remov\" + 0.004*\"@guardian\" + 0.004*\"convinc\" + 0.004*\"immedi\" + 0.004*\"jesus\" + 0.004*\"best_way\" + 0.004*\"option\" + 0.003*\"say\" + 0.003*\"howev\"'),\n",
       " (43,\n",
       "  '0.044*\"gun\" + 0.015*\"allow\" + 0.012*\"texa\" + 0.009*\"peac\" + 0.009*\"drop\" + 0.008*\"scandal\" + 0.007*\"climat_chang\" + 0.007*\"arm_dealer\" + 0.007*\"good_guy\" + 0.007*\"climatechang\" + 0.007*\"link_pari\" + 0.006*\"common_sens\" + 0.006*\"attack_trace\" + 0.006*\"...\" + 0.006*\"street\" + 0.006*\"implic_iran-contra\" + 0.006*\"legisl\" + 0.006*\"back_florida\" + 0.005*\"shoot\" + 0.005*\"facebook\" + 0.005*\"bodi\" + 0.004*\"regist\" + 0.004*\"load\" + 0.004*\"space\" + 0.004*\"magic\" + 0.004*\"crop\" + 0.004*\"#texa\" + 0.004*\"blue\" + 0.004*\"drone\" + 0.004*\"lower\"'),\n",
       " (44,\n",
       "  '0.040*\"climat_chang\" + 0.023*\"cop_21\" + 0.017*\"fossil_fuel\" + 0.012*\"...\" + 0.011*\"funni\" + 0.010*\"communiti\" + 0.009*\"month\" + 0.008*\"lol\" + 0.007*\"cite\" + 0.007*\"growth\" + 0.007*\"sourc\" + 0.006*\"storm\" + 0.006*\"child_marriag\" + 0.006*\"youth\" + 0.005*\"highlight\" + 0.005*\"john\" + 0.005*\"go_ahead\" + 0.004*\"obama_reject\" + 0.004*\"ceo\" + 0.004*\"elimin\" + 0.004*\"plan\" + 0.004*\"websit\" + 0.004*\"industri\" + 0.004*\"debunk\" + 0.004*\"strike\" + 0.004*\"road\" + 0.003*\"obama\" + 0.003*\"governor\" + 0.003*\"carbon_emiss\" + 0.003*\"help_spark\"'),\n",
       " (45,\n",
       "  '0.032*\"direct_relat\" + 0.022*\"climat_chang\" + 0.020*\"move\" + 0.019*\"al_gore\" + 0.018*\"growth_terror\" + 0.018*\"investig\" + 0.013*\"hoax\" + 0.013*\"protest\" + 0.010*\"#earthtopari\" + 0.010*\"...\" + 0.009*\"danc\" + 0.008*\"ireland\" + 0.008*\"via_@yahoonew\" + 0.007*\"#usa\" + 0.005*\"global_cool\" + 0.005*\"oil_compani\" + 0.004*\"new_tool\" + 0.004*\"https://t.co/4iabl8g9ow\" + 0.004*\"still_believ\" + 0.003*\"#breakingnew\" + 0.003*\"good_thing\" + 0.003*\"gas_station\" + 0.003*\"same-sex_polici\" + 0.003*\"remov_same-sex\" + 0.003*\"#1a_<u+272a>\" + 0.003*\"#2a_#cruz\" + 0.003*\"concept\" + 0.003*\"<u+25ba>_https://t.co/mfos8naggk\" + 0.003*\"respons_isi\" + 0.003*\"#cnn_#foxnew\"'),\n",
       " (46,\n",
       "  '0.038*\"coupl\" + 0.028*\"climat_chang\" + 0.016*\":)\" + 0.014*\"explain\" + 0.010*\"...\" + 0.010*\"heart\" + 0.008*\"gun_control\" + 0.008*\"via_@po_st\" + 0.008*\"grow\" + 0.008*\"reuter\" + 0.007*\"sandi_hook\" + 0.007*\"see\" + 0.007*\"can\\'t_wait\" + 0.006*\"#keystonexl\" + 0.006*\"top_stori\" + 0.006*\"#syria\" + 0.006*\"temp\" + 0.006*\"regard\" + 0.005*\"obama\" + 0.005*\"execut_order\" + 0.005*\"new\" + 0.005*\"freak\" + 0.005*\"via\" + 0.004*\"spend\" + 0.004*\"educ\" + 0.004*\"don\\'t_forget\" + 0.004*\"-->\" + 0.004*\"epa\" + 0.004*\"best_friend\" + 0.004*\"enter\"'),\n",
       " (47,\n",
       "  '0.076*\"wind_chill\" + 0.040*\"same-sex_marriag\" + 0.030*\"gay\" + 0.019*\"fail\" + 0.015*\"marriag\" + 0.015*\"oil\" + 0.013*\"...\" + 0.010*\"new\" + 0.010*\"econom\" + 0.009*\"shock\" + 0.007*\"laugh\" + 0.006*\"produc\" + 0.006*\"tree\" + 0.006*\"plan\" + 0.005*\"marriag_propos\" + 0.005*\"forest\" + 0.005*\"obama\" + 0.005*\"father\" + 0.005*\"work\" + 0.005*\"certif\" + 0.005*\"repres\" + 0.005*\"gun_control\" + 0.004*\"via_@guardian\" + 0.004*\"centuri\" + 0.003*\"#water\" + 0.003*\"consequ\" + 0.003*\"climat_chang\" + 0.003*\"japan_first\" + 0.003*\"cat\" + 0.003*\"first_same-sex\"'),\n",
       " (48,\n",
       "  '0.089*\"weather_report\" + 0.065*\"princ_charl\" + 0.025*\"#wed\" + 0.020*\"#mayo360group_new\" + 0.020*\"#lovewin\" + 0.018*\"alberta\" + 0.018*\"...\" + 0.014*\"connect\" + 0.013*\"<u+2764>_<u+fe0f>\" + 0.011*\"nasa\" + 0.009*\"invest\" + 0.009*\"civil_war\" + 0.007*\"<u+0098>_<u+00ad>\" + 0.006*\"h\" + 0.005*\"rule\" + 0.005*\"#bride\" + 0.005*\"respons_syria\" + 0.004*\"<u+0099>_<u+0084>\" + 0.004*\"climat_chang\" + 0.004*\"via\" + 0.004*\"sander_say\" + 0.004*\"size\" + 0.003*\"terror_connect\" + 0.003*\"#marriageequ\" + 0.003*\"#gay\" + 0.003*\"onli_thing\" + 0.003*\"<u+0092>_<u+0095>\" + 0.003*\"dec\" + 0.003*\"tradit_marriag\" + 0.003*\"#feed\"'),\n",
       " (49,\n",
       "  '0.083*\"2\" + 0.044*\"1\" + 0.016*\"water\" + 0.014*\"climat_chang\" + 0.013*\"big_fat\" + 0.013*\"greek_wed\" + 0.009*\"4\" + 0.009*\"...\" + 0.008*\"#terror\" + 0.008*\"kerri\" + 0.007*\"3\" + 0.006*\"myth\" + 0.006*\"excus\" + 0.005*\"u\" + 0.004*\"common\" + 0.004*\"letter\" + 0.004*\"@climater\" + 0.004*\"say\" + 0.004*\"led\" + 0.004*\"2_trailer\" + 0.004*\"watch\" + 0.004*\"onli_social\" + 0.004*\"pope\" + 0.004*\"along\" + 0.004*\"w\" + 0.004*\"could_result\" + 0.003*\"cant\" + 0.003*\"card\" + 0.003*\"obama\" + 0.003*\"perspect\"'),\n",
       " (50,\n",
       "  '0.083*\"gun\" + 0.013*\"kill\" + 0.011*\"peopl\" + 0.010*\"ban\" + 0.010*\"right\" + 0.009*\"terrorist\" + 0.009*\"obama\" + 0.008*\"want\" + 0.008*\"#gunsens\" + 0.008*\"law\" + 0.007*\"#2a\" + 0.007*\"american\" + 0.007*\"america\" + 0.006*\"gun_control\" + 0.006*\"...\" + 0.006*\"us\" + 0.006*\"use\" + 0.006*\"get\" + 0.006*\"@nra\" + 0.006*\"protect\" + 0.006*\"muslim\" + 0.005*\"need\" + 0.005*\"shoot\" + 0.005*\"onli\" + 0.005*\"nra\" + 0.005*\"stop\" + 0.005*\"say\" + 0.005*\"don\\'t\" + 0.005*\"like\" + 0.004*\"take\"'),\n",
       " (51,\n",
       "  '0.027*\"#parisattack\" + 0.011*\"climat_chang\" + 0.011*\"#berniesand\" + 0.011*\"gun\" + 0.010*\"ring\" + 0.010*\"#endgunviol\" + 0.010*\"track\" + 0.008*\"walk\" + 0.008*\"...\" + 0.006*\"need_know\" + 0.006*\"vow\" + 0.005*\"approv\" + 0.005*\"paper\" + 0.005*\"perform\" + 0.005*\"@dailysign\" + 0.005*\"obama\" + 0.004*\"2050\" + 0.004*\"app\" + 0.004*\"new_york\" + 0.004*\"yup\" + 0.004*\"tri_crimin\" + 0.004*\"scientif_dissent\" + 0.004*\"polici\" + 0.004*\"central\" + 0.004*\"gather\" + 0.003*\"fashion\" + 0.003*\"podcast_ep\" + 0.003*\"say\" + 0.003*\"givin_game\" + 0.003*\"37_marriag\"'),\n",
       " (52,\n",
       "  '0.024*\"warn\" + 0.019*\"break\" + 0.017*\"everyth\" + 0.017*\"climat_chang\" + 0.013*\"crisi\" + 0.013*\"marriag\" + 0.012*\"india\" + 0.011*\"...\" + 0.011*\"begin\" + 0.009*\"critic\" + 0.006*\"suffer\" + 0.006*\"still_biggest\" + 0.006*\"confus\" + 0.006*\"#cleanpowerplan\" + 0.006*\"often\" + 0.005*\"studi_say\" + 0.005*\"refuge_crisi\" + 0.005*\"victori\" + 0.004*\"tell_senat\" + 0.004*\"support_@epa\" + 0.004*\"receiv\" + 0.004*\"effort_act\" + 0.004*\"colleg\" + 0.004*\"improv\" + 0.004*\"arriv\" + 0.004*\"blame_syrian\" + 0.004*\"atmospher\" + 0.004*\"foundat\" + 0.004*\"fight_isi\" + 0.004*\"advanc\"'),\n",
       " (53,\n",
       "  '0.047*\"wed\" + 0.017*\"#marriag\" + 0.017*\"syrian_war\" + 0.016*\"...\" + 0.014*\"attend\" + 0.013*\"dress\" + 0.013*\"green\" + 0.013*\"sad\" + 0.009*\"yesterday\" + 0.009*\"#sandyhook\" + 0.008*\"fall\" + 0.008*\"season\" + 0.008*\"enjoy\" + 0.007*\"morn\" + 0.007*\"french\" + 0.007*\"real\" + 0.007*\"moment\" + 0.006*\"red\" + 0.006*\"detail\" + 0.006*\"flower\" + 0.006*\"surviv\" + 0.006*\"#sustain\" + 0.005*\"day\" + 0.005*\"renew\" + 0.005*\"tip\" + 0.005*\"evid_global\" + 0.005*\"color\" + 0.005*\"warm\" + 0.005*\"gift\" + 0.005*\"justin_trudeau\"'),\n",
       " (54,\n",
       "  '0.048*\"marriag\" + 0.022*\"concern\" + 0.017*\"...\" + 0.010*\"definit\" + 0.009*\"make\" + 0.008*\"climat_chang\" + 0.008*\"winter\" + 0.008*\"mani_american\" + 0.006*\"via\" + 0.006*\"factor\" + 0.006*\"tell_us\" + 0.005*\"guardian\" + 0.005*\"incred\" + 0.005*\"year_ago\" + 0.005*\"chanc\" + 0.005*\"appeal\" + 0.004*\"trip\" + 0.004*\"read\" + 0.004*\"art\" + 0.004*\"sens\" + 0.004*\"haha\" + 0.004*\"union\" + 0.004*\"click\" + 0.004*\"simpl\" + 0.004*\"ben_carson\" + 0.004*\"da\" + 0.004*\"talk\" + 0.003*\"99\" + 0.003*\"three_year\" + 0.003*\"hasn\\'t\"'),\n",
       " (55,\n",
       "  '0.026*\"climat_chang\" + 0.024*\"pari_attack\" + 0.015*\"cost\" + 0.013*\"build\" + 0.009*\"bullshit\" + 0.009*\"ice_age\" + 0.008*\"convers\" + 0.007*\"...\" + 0.007*\"kim_davi\" + 0.006*\"favorit\" + 0.006*\"magazin\" + 0.006*\"gun\" + 0.006*\"scene\" + 0.005*\"save_planet\" + 0.005*\"renew_energi\" + 0.005*\"good_news\" + 0.004*\"new\" + 0.004*\"liar\" + 0.004*\"protect_bird\" + 0.004*\"report\" + 0.004*\"look_forward\" + 0.004*\"nuclear\" + 0.004*\"@natgeo\" + 0.004*\"act_today\" + 0.004*\"w_@audubonsocieti\" + 0.004*\"get\" + 0.004*\"<u+0094>_<u+00a5>\" + 0.004*\"obama\" + 0.003*\"lgbt\" + 0.003*\"60\"'),\n",
       " (56,\n",
       "  '0.231*\"wed\" + 0.019*\"video\" + 0.019*\"beauti\" + 0.013*\"parti\" + 0.012*\"...\" + 0.009*\"#wed\" + 0.009*\"plan\" + 0.008*\"love\" + 0.007*\"like_@youtub\" + 0.007*\"photo\" + 0.007*\"night\" + 0.006*\"fun\" + 0.005*\"blog\" + 0.005*\"stun\" + 0.004*\"friend\" + 0.004*\"last_night\" + 0.004*\"look\" + 0.004*\"day\" + 0.004*\"style\" + 0.003*\"sister\" + 0.003*\"guest\" + 0.003*\"new\" + 0.003*\"celebr\" + 0.003*\"happi\" + 0.003*\"collect\" + 0.003*\"great\" + 0.003*\"david_toni\" + 0.003*\"wed_planner\" + 0.003*\"watch\" + 0.003*\"best\"'),\n",
       " (57,\n",
       "  '0.083*\"climat_chang\" + 0.021*\"denier\" + 0.019*\"hear\" + 0.014*\"...\" + 0.013*\"campaign\" + 0.012*\"snow\" + 0.012*\"poverti\" + 0.010*\"talk\" + 0.009*\"pollut\" + 0.007*\"kill_peopl\" + 0.007*\"man_made\" + 0.007*\"drought\" + 0.006*\"peopl\" + 0.005*\"opportun\" + 0.004*\"video_#ourstolos\" + 0.004*\"youtub_spotlight\" + 0.004*\"damag\" + 0.004*\"obama\" + 0.004*\"nonsens\" + 0.004*\"via_@grist\" + 0.004*\"@thehil\" + 0.004*\"disagre\" + 0.004*\"return\" + 0.004*\"say\" + 0.003*\"caus\" + 0.003*\"market\" + 0.003*\"bush\" + 0.003*\"could\" + 0.003*\"glacier\" + 0.003*\"drive\"'),\n",
       " (58,\n",
       "  '0.019*\"amaz\" + 0.016*\"...\" + 0.014*\"husband\" + 0.011*\"congratul\" + 0.011*\"visit\" + 0.010*\"climat_chang\" + 0.010*\"wear\" + 0.009*\"strong\" + 0.009*\"today\" + 0.008*\"take_action\" + 0.008*\"mother\" + 0.007*\"wed_ring\" + 0.007*\"putin\" + 0.007*\"great\" + 0.006*\"touch\" + 0.006*\"brain\" + 0.006*\"sunday\" + 0.005*\"hair\" + 0.005*\"gun_violenc\" + 0.005*\"wed_photo\" + 0.005*\"extrem_poverti\" + 0.005*\"piss\" + 0.005*\"endors\" + 0.004*\"simpli\" + 0.004*\"stop\" + 0.004*\"thank\" + 0.004*\"russia\" + 0.004*\"<u+0091>_<u+0088>\" + 0.004*\"encourag\" + 0.003*\"time\"'),\n",
       " (59,\n",
       "  '0.339*\"<f0>_<u+009f>\" + 0.015*\"<u+0098>\" + 0.013*\"...\" + 0.010*\"<u+0093>_<u+00b7>\" + 0.008*\"<u+0091>_<u+00b0>\" + 0.007*\"<u+008f>_<u+00bc>\" + 0.007*\"#climat_#chang\" + 0.007*\"<u+008f>_<u+00bb>\" + 0.006*\"<u+0092>_<u+008d>\" + 0.005*\"<u+0091>_<u+0089>\" + 0.005*\"<u+0091>_<u+008f>\" + 0.005*\"<u+0091>_<u+008d>\" + 0.005*\"tell_world\" + 0.005*\"<u+008c>_<u+008f>\" + 0.005*\"<u+0098>_<u+008a>\" + 0.004*\"<u+0087>_<u+00ba>\" + 0.004*\"<u+0087>_<u+00b8>\" + 0.004*\"<u+0091>\" + 0.004*\"<u+008f>_<u+00bd>\" + 0.004*\"<u+2764>_<u+fe0f>\" + 0.004*\"<u+0099>_<u+008c>\" + 0.003*\"<u+0094>_<u+00ab>\" + 0.003*\"<u+0099>_<u+008f>\" + 0.003*\"<u+0098>_<u+00a9>\" + 0.003*\"<u+0098>_<u+0081>\" + 0.003*\"climat_chang\" + 0.003*\"<u+0092>\" + 0.003*\"<u+009f>_<u+0091>\" + 0.003*\"<u+008f>\" + 0.003*\"<u+00a4>_<u+0094>\"')]"
      ]
     },
     "execution_count": 40,
     "metadata": {},
     "output_type": "execute_result"
    }
   ],
   "source": [
    "tweeter.model.print_topics(num_topics=60, num_words=30)"
   ]
  },
  {
   "cell_type": "code",
   "execution_count": null,
   "metadata": {
    "collapsed": true
   },
   "outputs": [],
   "source": []
  },
  {
   "cell_type": "code",
   "execution_count": null,
   "metadata": {
    "collapsed": true
   },
   "outputs": [],
   "source": []
  },
  {
   "cell_type": "code",
   "execution_count": 18,
   "metadata": {},
   "outputs": [
    {
     "name": "stdout",
     "output_type": "stream",
     "text": [
      "['unigrams_LDA_60_topics_200iter_10_passes.gensim', 'unigrams_LDA_60_topics_200iter_10_passes.gensim.alpha.npy', 'unigrams_LDA_60_topics_200iter_10_passes.gensim.eta.npy', 'unigrams_LDA_60_topics_200iter_10_passes.gensim.expElogbeta.npy', 'unigrams_LDA_60_topics_200iter_10_passes.gensim.id2word', 'unigrams_LDA_60_topics_200iter_10_passes.gensim.state', 'unigrams_LDA_60_topics_200iter_10_passes.gensim.state.sstats.npy']\n"
     ]
    }
   ],
   "source": [
    "tar = tarfile.open(\"model_files/unigrams_LDA_60_topics_200iter_10_passes.gz\", \"r:gz\")\n",
    "tar.extractall(path='model_files/')\n",
    "tar.close()\n",
    "\n",
    "fnames = [fn for fn in os.listdir('model_files/') if '.gensim' in fn]\n",
    "print (fnames)"
   ]
  },
  {
   "cell_type": "code",
   "execution_count": 24,
   "metadata": {
    "collapsed": true
   },
   "outputs": [],
   "source": [
    "model = ldamodel.LdaModel.load('model_files/'+fnames[0])\n",
    "corpus = corpora.MmCorpus('model_files/unigrams_corpus.mm')\n",
    "\n",
    "tar = tarfile.open(\"model_files/unigrams_dictionary.pkl.gz\", \"r:gz\")\n",
    "tar.extractall(path='model_files/')\n",
    "tar.close()\n",
    "dictionary = corpora.Dictionary.load('model_files/unigrams_dictionary.pkl')"
   ]
  },
  {
   "cell_type": "code",
   "execution_count": 25,
   "metadata": {},
   "outputs": [
    {
     "data": {
      "text/plain": [
       "(<gensim.models.ldamulticore.LdaMulticore at 0x1102c1e10>,\n",
       " <gensim.corpora.dictionary.Dictionary at 0x1102c8eb8>,\n",
       " <gensim.corpora.mmcorpus.MmCorpus at 0x1102d3630>)"
      ]
     },
     "execution_count": 25,
     "metadata": {},
     "output_type": "execute_result"
    }
   ],
   "source": [
    "model, dictionary, corpus"
   ]
  },
  {
   "cell_type": "code",
   "execution_count": 11,
   "metadata": {
    "collapsed": true
   },
   "outputs": [],
   "source": [
    "os.chdir('unigrams_LDA_60_topics_200iter_10_passes 2/')\n",
    "file_names = [fn for fn in os.listdir('.')]\n",
    "\n",
    "tar = tarfile.open(\"unigrams_LDA_60_topics_200iter_10_passes.gz\", \"w:gz\")\n",
    "for name in file_names:\n",
    "    tar.add(name)\n",
    "tar.close()\n",
    "os.chdir('..')\n"
   ]
  },
  {
   "cell_type": "code",
   "execution_count": 15,
   "metadata": {},
   "outputs": [
    {
     "data": {
      "text/plain": [
       "'/Users/hammor01/Documents/ToDo/test'"
      ]
     },
     "execution_count": 15,
     "metadata": {},
     "output_type": "execute_result"
    }
   ],
   "source": [
    "os.chdir('test/')\n",
    "os.getcwd()"
   ]
  },
  {
   "cell_type": "code",
   "execution_count": null,
   "metadata": {
    "collapsed": true
   },
   "outputs": [],
   "source": []
  },
  {
   "cell_type": "code",
   "execution_count": null,
   "metadata": {
    "collapsed": true
   },
   "outputs": [],
   "source": []
  },
  {
   "cell_type": "code",
   "execution_count": null,
   "metadata": {
    "collapsed": true
   },
   "outputs": [],
   "source": []
  },
  {
   "cell_type": "code",
   "execution_count": null,
   "metadata": {
    "collapsed": true
   },
   "outputs": [],
   "source": []
  },
  {
   "cell_type": "code",
   "execution_count": null,
   "metadata": {
    "collapsed": true
   },
   "outputs": [],
   "source": []
  },
  {
   "cell_type": "code",
   "execution_count": 2,
   "metadata": {
    "collapsed": true
   },
   "outputs": [],
   "source": [
    "# LOOP OVER ALL THE FILES TO GET THE INDIVIDUAL MODEL PICKLES\n",
    "# NEED TO DO THIS TO FINISH THE VIZ!\n",
    "\n",
    "# ALSO MAY NEED TO CHANGE THE SPACING FOR EACH VIZ ONCE YOU CHECK THE OUTPUT"
   ]
  },
  {
   "cell_type": "code",
   "execution_count": 3,
   "metadata": {
    "collapsed": true
   },
   "outputs": [],
   "source": [
    "climate_dict = pickle.load(open(\"pickles/climate_dictionary.p\", 'rb'))\n",
    "climate_corp = pickle.load(open(\"pickles/climate_corpus.p\", 'rb'))\n",
    "guns_dict = pickle.load(open(\"pickles/guns_dictionary.p\", 'rb'))\n",
    "guns_corp = pickle.load(open(\"pickles/guns_corpus.p\", 'rb'))\n",
    "marriage_dict = pickle.load(open(\"pickles/marriage_dictionary.p\", 'rb'))\n",
    "marriage_corp = pickle.load(open(\"pickles/marriage_corpus.p\", 'rb'))\n",
    "overall_dict = pickle.load(open(\"pickles/climate_dictionary.p\", 'rb'))\n",
    "overall_corp = pickle.load(open(\"pickles/climate_corpus.p\", 'rb'))\n",
    "\n",
    "\n",
    "topic_range = [25,50,75,100,125,150]\n",
    "num_iter = 200\n",
    "n_words = 20\n",
    "topic_models = [('climate', climate_dict, climate_corp),\n",
    "                ('guns', guns_dict, guns_corp),\n",
    "                ('marriage', marriage_dict, marriage_corp),\n",
    "                ('overall', overall_dict, overall_corp)]"
   ]
  },
  {
   "cell_type": "code",
   "execution_count": null,
   "metadata": {
    "collapsed": true
   },
   "outputs": [],
   "source": [
    "model_dict = dict()\n",
    "for (topic, topic_dict, topic_corp) in topic_models:\n",
    "    print (topic)\n",
    "    if topic == 'overall':\n",
    "        for n_topics in topic_range:\n",
    "            file_path = \"pickles/\" + str(topic) + \"_LDA_\" + str(n_topics) + \"_topics_\" + str(num_iter) + \"_iter_\" + str(n_words) + \"_words\" + \".p\"\n",
    "            #model = pickle.load(open(file_path, \"rb\"))\n",
    "            model = topic_model.run_lda(topic_corp, topic_dict, n_topics=n_topics, topic=topic, passes=20, num_iter=10)\n",
    "            model_dict['']\n",
    "            print(model)\n",
    "            #lda_test_viz.plot_lda(model, n_topics=n_topics, num_iter=num_iter, n_words=n_words, topic='climate')"
   ]
  },
  {
   "cell_type": "code",
   "execution_count": null,
   "metadata": {
    "collapsed": true
   },
   "outputs": [],
   "source": []
  },
  {
   "cell_type": "code",
   "execution_count": 13,
   "metadata": {},
   "outputs": [
    {
     "name": "stdout",
     "output_type": "stream",
     "text": [
      "Loaded in 0:00:55.440481\n"
     ]
    }
   ],
   "source": [
    "t0 = time()\n",
    "model = pickle.load(open('pickles/overall_trigrams_LDA_100topics_200iter_20_words.p', 'rb'))\n",
    "elapsed = time() - t0\n",
    "print (\"Loaded in %s\" %(str(datetime.timedelta(seconds=elapsed))))"
   ]
  },
  {
   "cell_type": "code",
   "execution_count": 14,
   "metadata": {
    "collapsed": true
   },
   "outputs": [],
   "source": [
    "id2word = {k:v for k, v in model.id2word.items()}\n",
    "model.id2word = None\n",
    "model.save('pickles/overall_trigrams_LDA_100topics_200iter_20_words.gensim', separately=['alpha', 'eta', 'expElogbeta', 'sstats'])\n",
    "model.id2word = id2word  # restore the dictionary\n",
    "\n",
    "with open('pickles/overall_trigrams_LDA_100topics_200iter_20_words.id2word.json', 'wb') as out:\n",
    "    json.dump(id2word, out)"
   ]
  },
  {
   "cell_type": "code",
   "execution_count": 15,
   "metadata": {
    "collapsed": true
   },
   "outputs": [],
   "source": [
    "model.clear()"
   ]
  },
  {
   "cell_type": "code",
   "execution_count": null,
   "metadata": {
    "collapsed": true
   },
   "outputs": [],
   "source": [
    "m = 'overall_trigrams_LDA_100topics_200iter_20_words'\n",
    "file_names = ['pickles/'+fn for fn in os.listdir('pickles/') if fn.startswith(m) and not fn.endswith('.p')]\n",
    "file_names"
   ]
  },
  {
   "cell_type": "code",
   "execution_count": null,
   "metadata": {
    "collapsed": true
   },
   "outputs": [],
   "source": [
    "tar = tarfile.open(\"overall_trigrams_LDA_100topics_200iter_20_words.gz\", \"w:gz\")\n",
    "for name in file_names:\n",
    "    tar.add(name)\n",
    "tar.close()"
   ]
  },
  {
   "cell_type": "code",
   "execution_count": null,
   "metadata": {
    "collapsed": true
   },
   "outputs": [],
   "source": [
    "tar = tarfile.open('overall_trigrams_LDA_100topics_200iter_20_words.gz', 'r')\n",
    "tar.extractall()\n",
    "tar.close()"
   ]
  },
  {
   "cell_type": "code",
   "execution_count": 16,
   "metadata": {},
   "outputs": [
    {
     "name": "stdout",
     "output_type": "stream",
     "text": [
      "Loaded in 0:00:03.891352\n"
     ]
    }
   ],
   "source": [
    "with open('pickles/overall_trigrams_LDA_100topics_200iter_20_words.id2word.json') as fh:\n",
    "    id2word = json.load(fh)\n",
    "id2word = {int(k):v for k, v in id2word.items()}\n",
    "\n",
    "# load the model and replace the separately stored id2word dictionary\n",
    "model = LdaModel.load('pickles/overall_trigrams_LDA_100topics_200iter_20_words.gensim')\n",
    "model.id2word = id2word"
   ]
  },
  {
   "cell_type": "code",
   "execution_count": null,
   "metadata": {
    "collapsed": true
   },
   "outputs": [],
   "source": []
  }
 ],
 "metadata": {
  "kernelspec": {
   "display_name": "Python 2",
   "language": "python",
   "name": "python2"
  },
  "language_info": {
   "codemirror_mode": {
    "name": "ipython",
    "version": 2
   },
   "file_extension": ".py",
   "mimetype": "text/x-python",
   "name": "python",
   "nbconvert_exporter": "python",
   "pygments_lexer": "ipython2",
   "version": "2.7.13"
  }
 },
 "nbformat": 4,
 "nbformat_minor": 2
}
