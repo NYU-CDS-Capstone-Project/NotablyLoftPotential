{
 "cells": [
  {
   "cell_type": "code",
   "execution_count": 5,
   "metadata": {
    "collapsed": true
   },
   "outputs": [],
   "source": [
    "import pandas as pd\n",
    "import math\n",
    "import matplotlib.pyplot as plt\n",
    "import seaborn as sns\n",
    "import numpy as np\n",
    "from datetime import datetime\n",
    "from datetime import timedelta\n",
    "import os\n",
    "import pickle\n",
    "from sklearn.externals import joblib\n",
    "from gensim.models import ldamodel\n",
    "import gensim\n",
    "%matplotlib inline"
   ]
  },
  {
   "cell_type": "markdown",
   "metadata": {},
   "source": [
    "## Applying Sentiment Model"
   ]
  },
  {
   "cell_type": "code",
   "execution_count": 6,
   "metadata": {
    "collapsed": true
   },
   "outputs": [],
   "source": [
    "df_base = pd.read_csv('../data_cleaned.csv')\n",
    "\n",
    "filename = 'models/finalized_sentiment_model.pkl'\n",
    "model_pkl = open(filename, 'rb')\n",
    "nb_model = pickle.load(model_pkl)\n",
    "\n",
    "filename = '../vectorizer.pkl' #zipped as it exceeds 100MB\n",
    "vectorizer_pkl = open(filename, 'rb')\n",
    "nb_vectorizer = pickle.load(vectorizer_pkl)\n",
    "\n",
    "test_vecs = nb_vectorizer.transform(df_base['text_processed'])\n",
    "pred_sentiments = nb_model.predict(test_vecs)"
   ]
  },
  {
   "cell_type": "code",
   "execution_count": 7,
   "metadata": {
    "collapsed": true
   },
   "outputs": [],
   "source": [
    "prediction_nb = nb_model.predict(test_vecs)\n",
    "df_base['predicted_sentiment']=prediction_nb\n",
    "df_base['negative_sentiment_prob']= 1-nb_model.predict_proba(test_vecs)[:,1]"
   ]
  },
  {
   "cell_type": "code",
   "execution_count": 11,
   "metadata": {},
   "outputs": [
    {
     "data": {
      "image/png": "[encoded data removed]",
      "text/plain": [
       "<matplotlib.figure.Figure at 0x1a6bd4d510>"
      ]
     },
     "metadata": {},
     "output_type": "display_data"
    }
   ],
   "source": [
    "plt.figure(figsize=(12,7))\n",
    "df_base['predicted_sentiment'].value_counts()\n",
    "plt.hist(df_base['negative_sentiment_prob'], bins=50)\n",
    "plt.title('Distribution of Tweet Sentiment Scores')\n",
    "plt.xlabel('Sentiment Score')\n",
    "plt.ylabel('Frequency')\n",
    "plt.show()"
   ]
  },
  {
   "cell_type": "code",
   "execution_count": 17,
   "metadata": {
    "collapsed": true
   },
   "outputs": [],
   "source": [
    "df_base.to_csv('data_cleaned_w_sentiment.csv', index=False)"
   ]
  },
  {
   "cell_type": "code",
   "execution_count": null,
   "metadata": {
    "collapsed": true
   },
   "outputs": [],
   "source": []
  }
 ],
 "metadata": {
  "kernelspec": {
   "display_name": "Python 2",
   "language": "python",
   "name": "python2"
  },
  "language_info": {
   "codemirror_mode": {
    "name": "ipython",
    "version": 2
   },
   "file_extension": ".py",
   "mimetype": "text/x-python",
   "name": "python",
   "nbconvert_exporter": "python",
   "pygments_lexer": "ipython2",
   "version": "2.7.13"
  }
 },
 "nbformat": 4,
 "nbformat_minor": 2
}
