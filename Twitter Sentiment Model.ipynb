{
 "cells": [
  {
   "cell_type": "code",
   "execution_count": 1,
   "metadata": {
    "collapsed": true
   },
   "outputs": [],
   "source": [
    "import pandas as pd\n",
    "import math\n",
    "import matplotlib.pyplot as plt\n",
    "import seaborn as sns\n",
    "import numpy as np\n",
    "from datetime import datetime\n",
    "from datetime import timedelta\n",
    "import os\n",
    "from sklearn.naive_bayes import MultinomialNB\n",
    "from sklearn.feature_extraction.text import TfidfVectorizer\n",
    "from gensim import corpora\n",
    "from gensim.models import Phrases\n",
    "from nltk.stem import SnowballStemmer\n",
    "from nltk.tokenize import TweetTokenizer\n",
    "from itertools import islice\n",
    "from sklearn.ensemble import ExtraTreesClassifier\n",
    "from sklearn.ensemble import GradientBoostingClassifier\n",
    "from sklearn.linear_model import ElasticNet\n",
    "from sklearn.feature_extraction.text import TfidfTransformer\n",
    "%matplotlib inline"
   ]
  },
  {
   "cell_type": "code",
   "execution_count": 2,
   "metadata": {
    "collapsed": true
   },
   "outputs": [],
   "source": [
    "os.chdir(\"../data/trainingandtestdata\")"
   ]
  },
  {
   "cell_type": "code",
   "execution_count": 3,
   "metadata": {
    "collapsed": true
   },
   "outputs": [],
   "source": [
    "tweets = pd.read_csv('training.csv', encoding='latin-1', header=None)\n",
    "tweets.columns = ['sentiment', 'id', 'date', 'query', 'user', 'text']\n",
    "del tweets['id']\n",
    "del tweets['date']\n",
    "del tweets['user']\n",
    "del tweets['query']"
   ]
  },
  {
   "cell_type": "code",
   "execution_count": 4,
   "metadata": {
    "collapsed": true
   },
   "outputs": [],
   "source": [
    "stemmer = SnowballStemmer(\"english\")\n",
    "tokenizer = TweetTokenizer()\n",
    "df_base = pd.DataFrame(tweets['text'])\n",
    "\n",
    "df_base['text_token'] = df_base[\"text\"].apply(tokenizer.tokenize)\n",
    "df_base['text_token'] = df_base['text_token'].apply(lambda x: [unicode(y.encode(\"utf-8\"), errors='ignore') for y in x])\n",
    "df_base['text_stemmed'] = df_base[\"text_token\"].apply(lambda x: [stemmer.stem(y) for y in x])\n",
    "\n",
    "df_base['text_stemmed']=df_base[\"text_stemmed\"].apply(lambda x: [filter(None, y) for y in x])\n",
    "df_base['text_processed']=df_base['text_stemmed'].apply(' '.join)\n",
    "df_base = df_base[df_base.text_processed.notnull()]\n",
    "vectorizer = TfidfVectorizer(min_df=.0001, max_df=.4, stop_words='english', ngram_range=(1,2))\n",
    "train_vecs = vectorizer.fit_transform(df_base['text_processed'])"
   ]
  },
  {
   "cell_type": "code",
   "execution_count": 5,
   "metadata": {
    "collapsed": true
   },
   "outputs": [],
   "source": [
    "classifier_nb = MultinomialNB()\n",
    "classifier_rf = ExtraTreesClassifier()\n",
    "classifier_gb = GradientBoostingClassifier()\n",
    "classifier_en = ElasticNet(alpha=0.1, l1_ratio=0.7)"
   ]
  },
  {
   "cell_type": "code",
   "execution_count": 6,
   "metadata": {},
   "outputs": [
    {
     "data": {
      "text/plain": [
       "MultinomialNB(alpha=1.0, class_prior=None, fit_prior=True)"
      ]
     },
     "execution_count": 6,
     "metadata": {},
     "output_type": "execute_result"
    }
   ],
   "source": [
    "classifier_nb.fit(train_vecs, tweets['sentiment'])"
   ]
  },
  {
   "cell_type": "code",
   "execution_count": null,
   "metadata": {
    "collapsed": true,
    "scrolled": false
   },
   "outputs": [],
   "source": [
    "classifier_rf.fit(train_vecs, tweets['sentiment'])"
   ]
  },
  {
   "cell_type": "code",
   "execution_count": null,
   "metadata": {
    "collapsed": true
   },
   "outputs": [],
   "source": [
    "classifier_gb.fit(train_vecs, tweets['sentiment'])"
   ]
  },
  {
   "cell_type": "code",
   "execution_count": null,
   "metadata": {
    "collapsed": true
   },
   "outputs": [],
   "source": [
    "classifier_en.fit(train_vecs, tweets['sentiment'])"
   ]
  },
  {
   "cell_type": "code",
   "execution_count": 7,
   "metadata": {
    "collapsed": true
   },
   "outputs": [],
   "source": [
    "tweets_test = pd.read_csv('test.csv', encoding='latin-1', header=None)\n",
    "tweets_test.columns = ['sentiment', 'id', 'date', 'query', 'user', 'text']\n",
    "del tweets_test['id']\n",
    "del tweets_test['date']\n",
    "del tweets_test['user']\n",
    "del tweets_test['query']"
   ]
  },
  {
   "cell_type": "code",
   "execution_count": 8,
   "metadata": {
    "collapsed": true
   },
   "outputs": [],
   "source": [
    "df_base_test = pd.DataFrame(tweets_test['text'])\n",
    "\n",
    "df_base_test['text_token'] = df_base_test['text'].apply(tokenizer.tokenize)\n",
    "df_base_test['text_token'] = df_base_test['text_token'].apply(lambda x: [unicode(y.encode(\"utf-8\"), errors='ignore') for y in x])\n",
    "df_base_test['text_stemmed'] = df_base_test[\"text_token\"].apply(lambda x: [stemmer.stem(y) for y in x])\n",
    "df_base_test['text_processed']=df_base_test['text_stemmed'].apply(' '.join)\n",
    "df_base_test = df_base_test[df_base_test.text_processed.notnull()]\n",
    "test_vecs = vectorizer.transform(df_base_test['text_processed'])"
   ]
  },
  {
   "cell_type": "code",
   "execution_count": 9,
   "metadata": {
    "collapsed": true
   },
   "outputs": [],
   "source": [
    "prediction_nb = classifier_nb.predict(test_vecs)\n",
    "#prediction_rf = classifier_rf.predict(test_vecs)\n",
    "#prediction_gb = classifier_gb.predict(test_vecs)\n",
    "#prediction_en = classifier_en.predict(test_vecs)"
   ]
  },
  {
   "cell_type": "code",
   "execution_count": 10,
   "metadata": {
    "collapsed": true
   },
   "outputs": [],
   "source": [
    "tweets_test['pred_nb'] = prediction_nb\n",
    "#tweets_test['pred_rf'] = prediction_rf\n",
    "#tweets_test['pred_gb'] = prediction_gb\n",
    "#tweets_test['pred_en'] = prediction_en"
   ]
  },
  {
   "cell_type": "code",
   "execution_count": 11,
   "metadata": {
    "collapsed": true
   },
   "outputs": [],
   "source": [
    "tweets_test['success_nb'] = (tweets_test['pred_nb']-tweets_test['sentiment'])**2\n",
    "#tweets_test['success_rf'] = (tweets_test['pred_rf']-tweets_test['sentiment'])**2\n",
    "#tweets_test['success_gb'] = (tweets_test['pred_gb']-tweets_test['sentiment'])**2\n",
    "#tweets_test['success_en'] = (tweets_test['pred_en']-tweets_test['sentiment'])**2"
   ]
  },
  {
   "cell_type": "code",
   "execution_count": 12,
   "metadata": {},
   "outputs": [
    {
     "data": {
      "text/plain": [
       "0     293\n",
       "4     139\n",
       "16     66\n",
       "Name: success_nb, dtype: int64"
      ]
     },
     "execution_count": 12,
     "metadata": {},
     "output_type": "execute_result"
    }
   ],
   "source": [
    "tweets_test['success_nb'].value_counts()"
   ]
  },
  {
   "cell_type": "code",
   "execution_count": null,
   "metadata": {
    "collapsed": true
   },
   "outputs": [],
   "source": [
    "tweets_test['success_rf'].value_counts()"
   ]
  },
  {
   "cell_type": "code",
   "execution_count": null,
   "metadata": {
    "collapsed": true
   },
   "outputs": [],
   "source": [
    "tweets_test['success_gb'].value_counts()"
   ]
  },
  {
   "cell_type": "code",
   "execution_count": null,
   "metadata": {
    "collapsed": true
   },
   "outputs": [],
   "source": [
    "tweets_test['success_en'].value_counts()"
   ]
  },
  {
   "cell_type": "code",
   "execution_count": 15,
   "metadata": {},
   "outputs": [
    {
     "data": {
      "text/plain": [
       "True     293\n",
       "False    205\n",
       "dtype: int64"
      ]
     },
     "execution_count": 15,
     "metadata": {},
     "output_type": "execute_result"
    }
   ],
   "source": [
    "(tweets_test['pred_nb']==tweets_test['sentiment']).value_counts()"
   ]
  },
  {
   "cell_type": "code",
   "execution_count": null,
   "metadata": {
    "collapsed": true
   },
   "outputs": [],
   "source": [
    "(tweets_test['pred_rf']==tweets_test['sentiment']).value_counts()"
   ]
  },
  {
   "cell_type": "code",
   "execution_count": null,
   "metadata": {
    "collapsed": true
   },
   "outputs": [],
   "source": [
    "(tweets_test['pred_gb']==tweets_test['sentiment']).value_counts()"
   ]
  },
  {
   "cell_type": "code",
   "execution_count": null,
   "metadata": {
    "collapsed": true
   },
   "outputs": [],
   "source": [
    "(tweets_test['pred_en']==tweets_test['sentiment']).value_counts()"
   ]
  },
  {
   "cell_type": "code",
   "execution_count": 13,
   "metadata": {
    "collapsed": true
   },
   "outputs": [],
   "source": [
    "import pickle\n",
    "from sklearn.externals import joblib"
   ]
  },
  {
   "cell_type": "code",
   "execution_count": 32,
   "metadata": {},
   "outputs": [],
   "source": [
    "os.chdir(\"../../NotablyLoftyPotential\")\n",
    "filename = 'NB_sentiment_model.pkl'\n",
    "pickle.dump(classifier_nb, open(filename, 'wb'), protocol=2)\n",
    "\n",
    "\n",
    "filename = 'NB_vectorizer.pkl'\n",
    "pickle.dump(vectorizer, open(filename, 'wb'), protocol=2)"
   ]
  },
  {
   "cell_type": "code",
   "execution_count": 33,
   "metadata": {
    "collapsed": true
   },
   "outputs": [],
   "source": [
    "import tarfile\n",
    "tar = tarfile.open('NB_sentiment_model.pkl.gz', 'w:gz')\n",
    "tar.add('NB_sentiment_model.pkl')\n",
    "tar.close()\n",
    "\n",
    "tar = tarfile.open('NB_vectorizer.pkl.gz', 'w:gz')\n",
    "tar.add('NB_vectorizer.pkl')\n",
    "tar.close()"
   ]
  },
  {
   "cell_type": "code",
   "execution_count": null,
   "metadata": {},
   "outputs": [],
   "source": []
  },
  {
   "cell_type": "code",
   "execution_count": null,
   "metadata": {},
   "outputs": [],
   "source": []
  },
  {
   "cell_type": "code",
   "execution_count": null,
   "metadata": {
    "collapsed": true
   },
   "outputs": [],
   "source": []
  }
 ],
 "metadata": {
  "kernelspec": {
   "display_name": "Python 2",
   "language": "python",
   "name": "python2"
  },
  "language_info": {
   "codemirror_mode": {
    "name": "ipython",
    "version": 2
   },
   "file_extension": ".py",
   "mimetype": "text/x-python",
   "name": "python",
   "nbconvert_exporter": "python",
   "pygments_lexer": "ipython2",
   "version": "2.7.13"
  }
 },
 "nbformat": 4,
 "nbformat_minor": 2
}
