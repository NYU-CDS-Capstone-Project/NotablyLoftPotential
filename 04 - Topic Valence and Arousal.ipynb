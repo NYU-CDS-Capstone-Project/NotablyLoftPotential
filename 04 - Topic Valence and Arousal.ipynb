{
 "cells": [
  {
   "cell_type": "code",
   "execution_count": 1,
   "metadata": {
    "collapsed": true
   },
   "outputs": [],
   "source": [
    "import os\n",
    "import sys\n",
    "import string\n",
    "import pickle\n",
    "import tarfile\n",
    "import numpy as np\n",
    "import pandas as pd\n",
    "import matplotlib.pyplot as plt\n",
    "from gensim.models import ldamodel, Phrases, phrases\n",
    "from gensim import corpora\n",
    "from nltk.stem.snowball import SnowballStemmer\n",
    "from nltk.tokenize import TweetTokenizer\n",
    "\n",
    "%matplotlib inline\n",
    "pd.set_option('display.max_info_columns',200)\n",
    "pd.set_option('display.max_colwidth',200)\n",
    "pd.set_option('display.max_rows', 100)\n",
    "plt.style.use('ggplot')\n",
    "\n",
    "stemmer = SnowballStemmer(\"english\")\n",
    "tokenizer = TweetTokenizer()"
   ]
  },
  {
   "cell_type": "code",
   "execution_count": 2,
   "metadata": {},
   "outputs": [],
   "source": [
    "for f in os.listdir('final_output/model_files/'):\n",
    "        if f.endswith('.gz'):\n",
    "            tar = tarfile.open('final_output/model_files/' + f, \"r:gz\")\n",
    "            tar.extractall(path='final_output/model_files/')\n",
    "            tar.close()\n",
    "\n",
    "# load model, corpus, and dictionary objects\n",
    "fnames = [fn for fn in os.listdir('final_output/model_files/') if '.gensim' in fn]\n",
    "model = ldamodel.LdaModel.load('final_output/model_files/' + fnames[0])\n",
    "corpus = corpora.MmCorpus('final_output/model_files/' + 'unigrams_corpus.mm')\n",
    "dictionary = corpora.Dictionary.load('final_output/model_files/' + 'unigrams_dictionary.pkl')\n",
    "model.id2word = dictionary\n",
    "phraser = phrases.Phraser.load('final_output/model_files/document_phraser.pkl')\n",
    "\n",
    "#cleanup the unzipped files\n",
    "for f in fnames:\n",
    "    os.remove('final_output/model_files/' + f)"
   ]
  },
  {
   "cell_type": "code",
   "execution_count": 3,
   "metadata": {},
   "outputs": [
    {
     "data": {
      "text/plain": [
       "(<gensim.models.ldamulticore.LdaMulticore at 0x112be49e8>,\n",
       " <gensim.corpora.mmcorpus.MmCorpus at 0x10260e898>,\n",
       " <gensim.corpora.dictionary.Dictionary at 0x112bfeda0>,\n",
       " <gensim.models.phrases.Phraser at 0x13f8cb278>)"
      ]
     },
     "execution_count": 3,
     "metadata": {},
     "output_type": "execute_result"
    }
   ],
   "source": [
    "model, corpus, dictionary, phraser"
   ]
  },
  {
   "cell_type": "code",
   "execution_count": 4,
   "metadata": {},
   "outputs": [
    {
     "data": {
      "text/html": [
       "<div>\n",
       "<style>\n",
       "    .dataframe thead tr:only-child th {\n",
       "        text-align: right;\n",
       "    }\n",
       "\n",
       "    .dataframe thead th {\n",
       "        text-align: left;\n",
       "    }\n",
       "\n",
       "    .dataframe tbody tr th {\n",
       "        vertical-align: top;\n",
       "    }\n",
       "</style>\n",
       "<table border=\"1\" class=\"dataframe\">\n",
       "  <thead>\n",
       "    <tr style=\"text-align: right;\">\n",
       "      <th></th>\n",
       "      <th>Word</th>\n",
       "      <th>V.Mean.Sum</th>\n",
       "      <th>V.SD.Sum</th>\n",
       "      <th>A.Mean.Sum</th>\n",
       "      <th>A.SD.Sum</th>\n",
       "      <th>word_stemmed</th>\n",
       "    </tr>\n",
       "  </thead>\n",
       "  <tbody>\n",
       "    <tr>\n",
       "      <th>1</th>\n",
       "      <td>aardvark</td>\n",
       "      <td>6.26</td>\n",
       "      <td>2.21</td>\n",
       "      <td>2.41</td>\n",
       "      <td>1.40</td>\n",
       "      <td>aardvark</td>\n",
       "    </tr>\n",
       "    <tr>\n",
       "      <th>2</th>\n",
       "      <td>abalone</td>\n",
       "      <td>5.30</td>\n",
       "      <td>1.59</td>\n",
       "      <td>2.65</td>\n",
       "      <td>1.90</td>\n",
       "      <td>abalon</td>\n",
       "    </tr>\n",
       "    <tr>\n",
       "      <th>3</th>\n",
       "      <td>abandon</td>\n",
       "      <td>2.84</td>\n",
       "      <td>1.54</td>\n",
       "      <td>3.73</td>\n",
       "      <td>2.43</td>\n",
       "      <td>abandon</td>\n",
       "    </tr>\n",
       "    <tr>\n",
       "      <th>4</th>\n",
       "      <td>abandonment</td>\n",
       "      <td>2.63</td>\n",
       "      <td>1.74</td>\n",
       "      <td>4.95</td>\n",
       "      <td>2.64</td>\n",
       "      <td>abandon</td>\n",
       "    </tr>\n",
       "    <tr>\n",
       "      <th>5</th>\n",
       "      <td>abbey</td>\n",
       "      <td>5.85</td>\n",
       "      <td>1.69</td>\n",
       "      <td>2.20</td>\n",
       "      <td>1.70</td>\n",
       "      <td>abbey</td>\n",
       "    </tr>\n",
       "  </tbody>\n",
       "</table>\n",
       "</div>"
      ],
      "text/plain": [
       "          Word  V.Mean.Sum  V.SD.Sum  A.Mean.Sum  A.SD.Sum word_stemmed\n",
       "1     aardvark        6.26      2.21        2.41      1.40     aardvark\n",
       "2      abalone        5.30      1.59        2.65      1.90       abalon\n",
       "3      abandon        2.84      1.54        3.73      2.43      abandon\n",
       "4  abandonment        2.63      1.74        4.95      2.64      abandon\n",
       "5        abbey        5.85      1.69        2.20      1.70        abbey"
      ]
     },
     "execution_count": 4,
     "metadata": {},
     "output_type": "execute_result"
    }
   ],
   "source": [
    "df = pd.read_csv('final_output/model_files/valence_arousal.csv', header=0, index_col=0, sep=',')\n",
    "keep = ['Word','V.Mean.Sum','V.SD.Sum', 'A.Mean.Sum','A.SD.Sum']\n",
    "remove = [col for col in df.columns.tolist() if col not in set(keep)]\n",
    "df = df.drop(remove, axis=1)\n",
    "df['word_stemmed'] = df['Word'].apply(stemmer.stem)\n",
    "df.head()"
   ]
  },
  {
   "cell_type": "code",
   "execution_count": 5,
   "metadata": {},
   "outputs": [],
   "source": [
    "try:\n",
    "    topics = model.get_topics()\n",
    "    v_mean = pickle.load(open('final_output/model_files/valence_mean.pkl', 'rb'))\n",
    "    a_mean = pickle.load(open('final_output/model_files/arousal_mean.pkl', 'rb'))\n",
    "    v_sd = pickle.load(open('final_output/model_files/valence_sd.pkl', 'rb'))\n",
    "    a_sd = pickle.load(open('final_output/model_files/arousal_sd.pkl', 'rb'))\n",
    "except:\n",
    "    n = len(dictionary.items())\n",
    "    topics = model.get_topics()\n",
    "    v_mean = np.zeros(n)\n",
    "    v_sd = np.zeros(n)\n",
    "    a_mean = np.zeros(n)\n",
    "    a_sd = np.zeros(n)\n",
    "    word_map = {v:k for k,v in dictionary.items()}\n",
    "\n",
    "    for word in df.word_stemmed.unique():\n",
    "        if word in set(word_map.keys()):\n",
    "            if df[df.word_stemmed == word].shape[0] > 1:\n",
    "                v_mean[word_map[word]] = np.average(df[df.word_stemmed == word]['V.Mean.Sum'])\n",
    "                a_mean[word_map[word]] = np.average(df[df.word_stemmed == word]['A.Mean.Sum'])\n",
    "                v_sd[word_map[word]] = np.sqrt(np.average(np.power(df[df.word_stemmed == word]['V.SD.Sum'], 2)))\n",
    "                a_sd[word_map[word]] = np.sqrt(np.average(np.power(df[df.word_stemmed == word]['A.SD.Sum'], 2)))\n",
    "            else:\n",
    "                v_mean[word_map[word]] = df[df.word_stemmed == word]['V.Mean.Sum']\n",
    "                a_mean[word_map[word]] = df[df.word_stemmed == word]['A.Mean.Sum']\n",
    "                v_sd[word_map[word]] = df[df.word_stemmed == word]['V.SD.Sum']\n",
    "                a_sd[word_map[word]] = df[df.word_stemmed == word]['A.SD.Sum']\n",
    "\n",
    "    pickle.dump(v_mean, open('model_files/valence_mean.pkl', 'wb'))\n",
    "    pickle.dump(a_mean, open('model_files/arousal_mean.pkl', 'wb'))\n",
    "    pickle.dump(v_sd, open('model_files/valence_sd.pkl', 'wb'))\n",
    "    pickle.dump(a_sd, open('model_files/arousal_sd.pkl', 'wb'))"
   ]
  },
  {
   "cell_type": "code",
   "execution_count": 6,
   "metadata": {},
   "outputs": [],
   "source": [
    "total_v_sd = np.sum(v_sd)\n",
    "total_a_sd = np.sum(a_sd)\n",
    "\n",
    "with np.errstate(divide='ignore'):\n",
    "    v_sd_ratio = total_v_sd / v_sd\n",
    "    v_sd_ratio[v_sd==0] = 0\n",
    "    a_sd_ratio = total_a_sd / a_sd\n",
    "    a_sd_ratio[a_sd==0] = 0\n",
    "v_sd_weight = v_sd_ratio / np.sum(v_sd_ratio)\n",
    "a_sd_weight = a_sd_ratio / np.sum(a_sd_ratio)\n",
    "\n",
    "valence_mat = topics*(v_mean*v_sd_weight)\n",
    "arousal_mat = topics*(a_mean*a_sd_weight)\n",
    "topic_valence = np.sum(valence_mat, axis=1)\n",
    "topic_arousal = np.sum(arousal_mat, axis=1)"
   ]
  },
  {
   "cell_type": "code",
   "execution_count": 7,
   "metadata": {},
   "outputs": [
    {
     "data": {
      "image/png": "[encoded data removed]",
      "text/plain": [
       "<matplotlib.figure.Figure at 0x13f8cb400>"
      ]
     },
     "metadata": {},
     "output_type": "display_data"
    }
   ],
   "source": [
    "index = np.arange(60)\n",
    "bar_width = 0.5\n",
    "fig = plt.figure(figsize=(15,7))\n",
    "ax = fig.add_subplot(111)\n",
    "\n",
    "rects1 = plt.bar(index, topic_valence, bar_width, color='steelblue', label='Topic Valence')\n",
    "rects2 = plt.bar(index+bar_width, topic_arousal, bar_width, color='orange', label='Topic Arousal')\n",
    "\n",
    "plt.xlim(-1,60)\n",
    "plt.xlabel('Topic')\n",
    "plt.ylabel('Score')\n",
    "plt.xticks(index + bar_width / 2, index)\n",
    "plt.legend()\n",
    "\n",
    "plt.tight_layout()\n",
    "plt.show()"
   ]
  },
  {
   "cell_type": "code",
   "execution_count": 8,
   "metadata": {
    "collapsed": true
   },
   "outputs": [],
   "source": [
    "topics = model.print_topics(num_topics=60, num_words=30)"
   ]
  },
  {
   "cell_type": "code",
   "execution_count": 9,
   "metadata": {},
   "outputs": [
    {
     "data": {
      "text/plain": [
       "(25,\n",
       " '0.100*\"today\" + 0.056*\"..._wind\" + 0.056*\"hydeparkwind_wonderland\" + 0.056*\"mph_gust\" + 0.055*\"..._temp\" + 0.054*\"..._rain\" + 0.014*\"speed_3.0\" + 0.014*\"planet\" + 0.013*\"10\" + 0.011*\"speed_2.0\" + 0.010*\"<u+0098>_<u+008d>\" + 0.008*\"speed_4.0\" + 0.007*\"22_time\" + 0.007*\"speed_1.0\" + 0.005*\"7.0_mph\" + 0.005*\"8.0_mph\" + 0.005*\"9.0_mph\" + 0.005*\"6.0_mph\" + 0.005*\"whole\" + 0.004*\"10.0_mph\" + 0.004*\"wed_gift\" + 0.004*\"4.0_mph\" + 0.004*\"speed_0.0\" + 0.004*\"5.0_mph\" + 0.004*\"speed_5.0\" + 0.003*\"thing\" + 0.003*\"11.0_mph\" + 0.003*\"agricultur\" + 0.003*\"cute\" + 0.003*\"speed_6.0\"')"
      ]
     },
     "execution_count": 9,
     "metadata": {},
     "output_type": "execute_result"
    }
   ],
   "source": [
    "topics[25]"
   ]
  },
  {
   "cell_type": "code",
   "execution_count": 10,
   "metadata": {},
   "outputs": [
    {
     "data": {
      "text/plain": [
       "(30,\n",
       " '0.025*\"marriag\" + 0.020*\"...\" + 0.018*\"like\" + 0.016*\"i\\'m\" + 0.014*\"one\" + 0.013*\"get\" + 0.013*\"don\\'t\" + 0.012*\"go\" + 0.009*\"peopl\" + 0.009*\"know\" + 0.009*\"think\" + 0.008*\"thing\" + 0.008*\"would\" + 0.008*\"becaus\" + 0.007*\"guy\" + 0.007*\"..\" + 0.007*\"say\" + 0.007*\"never\" + 0.006*\"make\" + 0.006*\"want\" + 0.006*\"you\\'r\" + 0.006*\"someth\" + 0.006*\"love\" + 0.006*\"need\" + 0.006*\"gun\" + 0.005*\"see\" + 0.005*\"someon\" + 0.005*\"said\" + 0.005*\"can\\'t\" + 0.005*\"feel\"')"
      ]
     },
     "execution_count": 10,
     "metadata": {},
     "output_type": "execute_result"
    }
   ],
   "source": [
    "topics[30]"
   ]
  },
  {
   "cell_type": "code",
   "execution_count": 11,
   "metadata": {},
   "outputs": [
    {
     "data": {
      "text/plain": [
       "(56,\n",
       " '0.231*\"wed\" + 0.019*\"video\" + 0.019*\"beauti\" + 0.013*\"parti\" + 0.012*\"...\" + 0.009*\"#wed\" + 0.009*\"plan\" + 0.008*\"love\" + 0.007*\"like_@youtub\" + 0.007*\"photo\" + 0.007*\"night\" + 0.006*\"fun\" + 0.005*\"blog\" + 0.005*\"stun\" + 0.004*\"friend\" + 0.004*\"last_night\" + 0.004*\"look\" + 0.004*\"day\" + 0.004*\"style\" + 0.003*\"sister\" + 0.003*\"guest\" + 0.003*\"new\" + 0.003*\"celebr\" + 0.003*\"happi\" + 0.003*\"collect\" + 0.003*\"great\" + 0.003*\"david_toni\" + 0.003*\"wed_planner\" + 0.003*\"watch\" + 0.003*\"best\"')"
      ]
     },
     "execution_count": 11,
     "metadata": {},
     "output_type": "execute_result"
    }
   ],
   "source": [
    "topics[56]"
   ]
  },
  {
   "cell_type": "code",
   "execution_count": 12,
   "metadata": {},
   "outputs": [
    {
     "data": {
      "text/plain": [
       "(50,\n",
       " '0.083*\"gun\" + 0.013*\"kill\" + 0.011*\"peopl\" + 0.010*\"ban\" + 0.010*\"right\" + 0.009*\"terrorist\" + 0.009*\"obama\" + 0.008*\"want\" + 0.008*\"#gunsens\" + 0.008*\"law\" + 0.007*\"#2a\" + 0.007*\"american\" + 0.007*\"america\" + 0.006*\"gun_control\" + 0.006*\"...\" + 0.006*\"us\" + 0.006*\"use\" + 0.006*\"get\" + 0.006*\"@nra\" + 0.006*\"protect\" + 0.006*\"muslim\" + 0.005*\"need\" + 0.005*\"shoot\" + 0.005*\"onli\" + 0.005*\"nra\" + 0.005*\"stop\" + 0.005*\"say\" + 0.005*\"don\\'t\" + 0.005*\"like\" + 0.004*\"take\"')"
      ]
     },
     "execution_count": 12,
     "metadata": {},
     "output_type": "execute_result"
    }
   ],
   "source": [
    "topics[50]"
   ]
  },
  {
   "cell_type": "code",
   "execution_count": 13,
   "metadata": {},
   "outputs": [
    {
     "data": {
      "text/plain": [
       "(6,\n",
       " '0.130*\"chang\" + 0.015*\"tackl_climat\" + 0.015*\"gun_control\" + 0.013*\"mind\" + 0.012*\"insan\" + 0.012*\"combat_climat\" + 0.010*\"kurt_russel\" + 0.010*\"date\" + 0.010*\"question\" + 0.009*\"climat_chang\" + 0.009*\"...\" + 0.007*\"via_@breitbartnew\" + 0.007*\"effort\" + 0.007*\"promis\" + 0.006*\"keyston_xl\" + 0.006*\"breitbart\" + 0.006*\"cake\" + 0.005*\"think\" + 0.005*\"voter\" + 0.005*\"san_bernardino\" + 0.005*\"absolut_insan\" + 0.005*\"blast\" + 0.004*\"hide\" + 0.004*\"@reuter\" + 0.003*\"pls_rt\" + 0.003*\"report\" + 0.003*\"call\" + 0.003*\"yet_anoth\" + 0.003*\"@benshapiro\" + 0.003*\"@drudge_report\"')"
      ]
     },
     "execution_count": 13,
     "metadata": {},
     "output_type": "execute_result"
    }
   ],
   "source": [
    "topics[6]"
   ]
  },
  {
   "cell_type": "code",
   "execution_count": 14,
   "metadata": {},
   "outputs": [
    {
     "data": {
      "text/plain": [
       "(42,\n",
       " '0.028*\"god\" + 0.023*\"climat_chang\" + 0.016*\"...\" + 0.012*\"marriag\" + 0.010*\"design\" + 0.010*\"expert\" + 0.010*\"fake\" + 0.009*\"gun\" + 0.009*\"except\" + 0.008*\"univers\" + 0.008*\"dream\" + 0.007*\"ridicul\" + 0.006*\"gone\" + 0.006*\"negoti\" + 0.006*\"whether\" + 0.006*\"nov\" + 0.006*\"gain\" + 0.005*\"us\" + 0.005*\"y\\'all\" + 0.005*\"90\" + 0.004*\"harm\" + 0.004*\"remov\" + 0.004*\"@guardian\" + 0.004*\"convinc\" + 0.004*\"immedi\" + 0.004*\"jesus\" + 0.004*\"best_way\" + 0.004*\"option\" + 0.003*\"say\" + 0.003*\"howev\"')"
      ]
     },
     "execution_count": 14,
     "metadata": {},
     "output_type": "execute_result"
    }
   ],
   "source": [
    "topics[42]"
   ]
  },
  {
   "cell_type": "code",
   "execution_count": 15,
   "metadata": {},
   "outputs": [
    {
     "data": {
      "text/plain": [
       "(43,\n",
       " '0.044*\"gun\" + 0.015*\"allow\" + 0.012*\"texa\" + 0.009*\"peac\" + 0.009*\"drop\" + 0.008*\"scandal\" + 0.007*\"climat_chang\" + 0.007*\"arm_dealer\" + 0.007*\"good_guy\" + 0.007*\"climatechang\" + 0.007*\"link_pari\" + 0.006*\"common_sens\" + 0.006*\"attack_trace\" + 0.006*\"...\" + 0.006*\"street\" + 0.006*\"implic_iran-contra\" + 0.006*\"legisl\" + 0.006*\"back_florida\" + 0.005*\"shoot\" + 0.005*\"facebook\" + 0.005*\"bodi\" + 0.004*\"regist\" + 0.004*\"load\" + 0.004*\"space\" + 0.004*\"magic\" + 0.004*\"crop\" + 0.004*\"#texa\" + 0.004*\"blue\" + 0.004*\"drone\" + 0.004*\"lower\"')"
      ]
     },
     "execution_count": 15,
     "metadata": {},
     "output_type": "execute_result"
    }
   ],
   "source": [
    "topics[43]"
   ]
  },
  {
   "cell_type": "code",
   "execution_count": 16,
   "metadata": {},
   "outputs": [
    {
     "data": {
      "text/plain": [
       "(59,\n",
       " '0.339*\"<f0>_<u+009f>\" + 0.015*\"<u+0098>\" + 0.013*\"...\" + 0.010*\"<u+0093>_<u+00b7>\" + 0.008*\"<u+0091>_<u+00b0>\" + 0.007*\"<u+008f>_<u+00bc>\" + 0.007*\"#climat_#chang\" + 0.007*\"<u+008f>_<u+00bb>\" + 0.006*\"<u+0092>_<u+008d>\" + 0.005*\"<u+0091>_<u+0089>\" + 0.005*\"<u+0091>_<u+008f>\" + 0.005*\"<u+0091>_<u+008d>\" + 0.005*\"tell_world\" + 0.005*\"<u+008c>_<u+008f>\" + 0.005*\"<u+0098>_<u+008a>\" + 0.004*\"<u+0087>_<u+00ba>\" + 0.004*\"<u+0087>_<u+00b8>\" + 0.004*\"<u+0091>\" + 0.004*\"<u+008f>_<u+00bd>\" + 0.004*\"<u+2764>_<u+fe0f>\" + 0.004*\"<u+0099>_<u+008c>\" + 0.003*\"<u+0094>_<u+00ab>\" + 0.003*\"<u+0099>_<u+008f>\" + 0.003*\"<u+0098>_<u+00a9>\" + 0.003*\"<u+0098>_<u+0081>\" + 0.003*\"climat_chang\" + 0.003*\"<u+0092>\" + 0.003*\"<u+009f>_<u+0091>\" + 0.003*\"<u+008f>\" + 0.003*\"<u+00a4>_<u+0094>\"')"
      ]
     },
     "execution_count": 16,
     "metadata": {},
     "output_type": "execute_result"
    }
   ],
   "source": [
    "topics[59]"
   ]
  },
  {
   "cell_type": "code",
   "execution_count": 17,
   "metadata": {},
   "outputs": [],
   "source": [
    "# SCALE TO A 0-1 RANGE\n",
    "\n",
    "# X_std = (X - X.min(axis=0)) / (X.max(axis=0) - X.min(axis=0))\n",
    "# X_scaled = X_std * (max - min) + min\n",
    "try:\n",
    "    v_scaled = pickle.load(open('final_output/model_files/topic_valence_scaled.pkl', 'rb'))\n",
    "    a_scaled = pickle.load(open('final_output/model_files/topic_arousal_scaled.pkl', 'rb'))\n",
    "except:\n",
    "    v_min = np.min(topic_valence)\n",
    "    v_max = np.max(topic_valence)\n",
    "    a_min = np.min(topic_arousal)\n",
    "    a_max = np.max(topic_arousal)\n",
    "\n",
    "    v_std = ((topic_valence - v_min) / (v_max - v_min))\n",
    "    v_scaled  = v_std * (1 - 0) + 0\n",
    "\n",
    "    a_std = ((topic_arousal - a_min) / (a_max - a_min))\n",
    "    a_scaled  = a_std * (1 - 0) + 0\n",
    "\n",
    "    pickle.dump(v_scaled, open('model_files/topic_valence_scaled.pkl', 'wb'))\n",
    "    pickle.dump(a_scaled, open('model_files/topic_arousal_scaled.pkl', 'wb'))"
   ]
  },
  {
   "cell_type": "code",
   "execution_count": 21,
   "metadata": {},
   "outputs": [
    {
     "data": {
      "image/png": "[encoded data removed]",
      "text/plain": [
       "<matplotlib.figure.Figure at 0x1436b5128>"
      ]
     },
     "metadata": {},
     "output_type": "display_data"
    }
   ],
   "source": [
    "index = np.arange(60)\n",
    "bar_width = 0.5\n",
    "fig = plt.figure(figsize=(15,7))\n",
    "ax = fig.add_subplot(111)\n",
    "ax.grid(axis='x')\n",
    "\n",
    "rects1 = plt.bar(index, v_scaled, bar_width, color='steelblue', label='Scaled Topic Valence')\n",
    "rects2 = plt.bar(index+bar_width, a_scaled, bar_width, color='orange', label='Scaled Topic Arousal')\n",
    "\n",
    "plt.xlim(-0.5,59.5)\n",
    "plt.ylim(0,1.05)\n",
    "#plt.xlabel('Topic', fontsize=18)\n",
    "#plt.ylabel('Score')\n",
    "plt.xticks(index + bar_width / 2, index)\n",
    "plt.legend(fontsize=14)\n",
    "\n",
    "plt.tight_layout()\n",
    "plt.savefig('plots/scaled_topic_val_ar.png', dpi=300)\n",
    "plt.show()"
   ]
  },
  {
   "cell_type": "code",
   "execution_count": null,
   "metadata": {
    "collapsed": true
   },
   "outputs": [],
   "source": []
  }
 ],
 "metadata": {
  "kernelspec": {
   "display_name": "Python 3",
   "language": "python",
   "name": "python3"
  },
  "language_info": {
   "codemirror_mode": {
    "name": "ipython",
    "version": 3
   },
   "file_extension": ".py",
   "mimetype": "text/x-python",
   "name": "python",
   "nbconvert_exporter": "python",
   "pygments_lexer": "ipython3",
   "version": "3.6.0"
  }
 },
 "nbformat": 4,
 "nbformat_minor": 2
}
