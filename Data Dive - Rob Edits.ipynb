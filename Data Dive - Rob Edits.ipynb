{
 "cells": [
  {
   "cell_type": "code",
   "execution_count": 1,
   "metadata": {
    "collapsed": true
   },
   "outputs": [],
   "source": [
    "import pandas as pd\n",
    "import math\n",
    "from pandas.io import gbq\n",
    "import matplotlib.pyplot as plt\n",
    "import seaborn as sns\n",
    "import numpy as np\n",
    "from datetime import datetime\n",
    "from datetime import timedelta\n",
    "import os\n",
    "%matplotlib inline"
   ]
  },
  {
   "cell_type": "code",
   "execution_count": 2,
   "metadata": {
    "collapsed": true
   },
   "outputs": [],
   "source": [
    "pd.set_option('display.max_info_columns',200)\n",
    "pd.set_option('display.max_colwidth',200)"
   ]
  },
  {
   "cell_type": "markdown",
   "metadata": {},
   "source": [
    "## Importing and Processing the Data\n",
    "\n",
    "Data and original project details can be found [here](https://osf.io/59uyz/wiki/home/)."
   ]
  },
  {
   "cell_type": "code",
   "execution_count": 3,
   "metadata": {
    "collapsed": true
   },
   "outputs": [],
   "source": [
    "os.chdir(\"../data\")"
   ]
  },
  {
   "cell_type": "code",
   "execution_count": 4,
   "metadata": {
    "collapsed": true
   },
   "outputs": [],
   "source": [
    "df_g = pd.read_csv('G_raw.csv')\n",
    "df_g['topic']='G' #Adding a topic column to backout the context of the tweet in the future\n",
    "df_m = pd.read_csv('M_raw.csv')\n",
    "df_m['topic']='M'\n",
    "df_c = pd.read_csv('C_raw.csv')\n",
    "df_c['topic']='C'"
   ]
  },
  {
   "cell_type": "code",
   "execution_count": 5,
   "metadata": {},
   "outputs": [
    {
     "data": {
      "text/plain": [
       "id_str                                                                                                                                               661664598429331456\n",
       "timestamp                                                                                                                                           2015-11-03 22:01:48\n",
       "retweeted_status.id_str                                                                                                                                      6.6165e+17\n",
       "user.id_str                                                                                                                                                    18558809\n",
       "user.screen_name                                                                                                                                           koolkat14215\n",
       "user.location                                                                                                                                           Paradise Hawaii\n",
       "user.description                                                                  Patriot. 2A. Conservative. Hard Work. Integrity. Responsibility. Or American. Period.\n",
       "text                       RT @308saiga: I don't carry a Gun to kill People; I carry a Gun to keep from being Killed.I have lived long enough to see the Evil in the W…\n",
       "user.followers_count                                                                                                                                               5485\n",
       "user.verified                                                                                                                                                     False\n",
       "contains.url                                                                                                                                                      False\n",
       "contains.media                                                                                                                                                    False\n",
       "ideology                                                                                                                                                       0.376862\n",
       "topic                                                                                                                                                                 G\n",
       "Name: 5, dtype: object"
      ]
     },
     "execution_count": 5,
     "metadata": {},
     "output_type": "execute_result"
    }
   ],
   "source": [
    "df_g.loc()[5]"
   ]
  },
  {
   "cell_type": "markdown",
   "metadata": {},
   "source": [
    "## Cleaning Merged Dataframe"
   ]
  },
  {
   "cell_type": "code",
   "execution_count": 6,
   "metadata": {
    "collapsed": true
   },
   "outputs": [],
   "source": [
    "df=df_g.append(df_m).append(df_c) #Merging the three topic dataframes"
   ]
  },
  {
   "cell_type": "code",
   "execution_count": 7,
   "metadata": {
    "collapsed": true
   },
   "outputs": [],
   "source": [
    "bins = [-5, -.7, -.1, .1, .7, 5] #Defining ideology bins for users\n",
    "bin_names = ['strong_liberal', 'slight_liberal', 'non_partisan', 'slight_conservative', 'strong_conservative']\n",
    "df['ideo_bin'] = pd.cut(df['ideology'], bins, labels=bin_names)"
   ]
  },
  {
   "cell_type": "code",
   "execution_count": 8,
   "metadata": {
    "collapsed": true
   },
   "outputs": [],
   "source": [
    "df['retweeted_status.id_str']=df['retweeted_status.id_str'].map(lambda x: '{:.0f}'.format(x))\n",
    "df['retweeted_status.id_str']=df['retweeted_status.id_str'].astype(str) #Formatting the retweet id field\n",
    "df['id_str']=df['id_str'].map(lambda x: '{:.0f}'.format(x))\n",
    "df['id_str']=df['id_str'].astype(str) #Formatting the tweet id field"
   ]
  },
  {
   "cell_type": "code",
   "execution_count": 9,
   "metadata": {
    "collapsed": true
   },
   "outputs": [],
   "source": [
    "df_retweets=df[['ideo_bin','retweeted_status.id_str']].groupby(['retweeted_status.id_str','ideo_bin']).size().reset_index()\n",
    "#Creating a retweets dataset to count retweets (engagement) by ideology bin of retweeter"
   ]
  },
  {
   "cell_type": "code",
   "execution_count": 10,
   "metadata": {
    "collapsed": true
   },
   "outputs": [],
   "source": [
    "df=df[df['retweeted_status.id_str'] == 'nan'] #removing retweets from the dataset"
   ]
  },
  {
   "cell_type": "code",
   "execution_count": 11,
   "metadata": {
    "collapsed": true
   },
   "outputs": [],
   "source": [
    "df=df.reset_index(drop=True)"
   ]
  },
  {
   "cell_type": "code",
   "execution_count": 12,
   "metadata": {
    "collapsed": true
   },
   "outputs": [],
   "source": [
    "df=df[df['text'].str.match('RT @')==False] #removing retweets from the dataset that were not correctly labeled"
   ]
  },
  {
   "cell_type": "code",
   "execution_count": 13,
   "metadata": {
    "collapsed": true
   },
   "outputs": [],
   "source": [
    "df_retweets.columns = ['tweet_id', 'ideo_bin', 'retweets']"
   ]
  },
  {
   "cell_type": "code",
   "execution_count": 14,
   "metadata": {
    "collapsed": true
   },
   "outputs": [],
   "source": [
    "df_retweets=df_retweets.pivot(index='tweet_id', columns='ideo_bin', values='retweets').fillna(0)"
   ]
  },
  {
   "cell_type": "code",
   "execution_count": 15,
   "metadata": {
    "collapsed": true
   },
   "outputs": [],
   "source": [
    "df_w_rt = pd.merge(left=df, right=df_retweets, how='left', left_on='id_str', right_index=True)"
   ]
  },
  {
   "cell_type": "code",
   "execution_count": 16,
   "metadata": {
    "collapsed": true
   },
   "outputs": [],
   "source": [
    "df_w_rt.update(df_w_rt[['strong_liberal', 'slight_liberal', 'non_partisan', 'slight_conservative', 'strong_conservative']].fillna(0))\n",
    "df_w_rt.rename(columns={'strong_liberal': 'strong_liberal_rts', 'slight_liberal': 'slight_liberal_rts', 'non_partisan': 'non_partisan_rts', 'slight_conservative': 'slight_conservative_rts', 'strong_conservative': 'strong_conservative_rts'}, inplace=True)"
   ]
  },
  {
   "cell_type": "code",
   "execution_count": 17,
   "metadata": {
    "collapsed": true
   },
   "outputs": [],
   "source": [
    "df_w_rt['retweets']=df_w_rt['strong_liberal_rts']+df_w_rt['slight_liberal_rts']+df_w_rt['non_partisan_rts']+df_w_rt['slight_conservative_rts']+df_w_rt['strong_conservative_rts']"
   ]
  },
  {
   "cell_type": "code",
   "execution_count": 18,
   "metadata": {
    "collapsed": true
   },
   "outputs": [],
   "source": [
    "del df_w_rt['retweeted_status.id_str']"
   ]
  },
  {
   "cell_type": "markdown",
   "metadata": {},
   "source": [
    "## Merged Dataframe Visualizations"
   ]
  },
  {
   "cell_type": "code",
   "execution_count": 19,
   "metadata": {},
   "outputs": [
    {
     "data": {
      "image/png": "[encoded data removed]",
      "text/plain": [
       "<matplotlib.figure.Figure at 0x1461495d0>"
      ]
     },
     "metadata": {},
     "output_type": "display_data"
    }
   ],
   "source": [
    "plt.figure(figsize=(10,6))\n",
    "plt.hist(df_w_rt['ideology'], bins=40)\n",
    "plt.title('Ideology Distribution')\n",
    "plt.show()"
   ]
  },
  {
   "cell_type": "code",
   "execution_count": 20,
   "metadata": {},
   "outputs": [
    {
     "name": "stderr",
     "output_type": "stream",
     "text": [
      "/anaconda/envs/py27/lib/python2.7/site-packages/ipykernel/__main__.py:1: RuntimeWarning: divide by zero encountered in log\n",
      "  if __name__ == '__main__':\n"
     ]
    }
   ],
   "source": [
    "df_w_rt['log_followers']=np.log(df_w_rt['user.followers_count'])"
   ]
  },
  {
   "cell_type": "code",
   "execution_count": 21,
   "metadata": {
    "collapsed": true
   },
   "outputs": [],
   "source": [
    "df_w_rt['log_followers']=df_w_rt['log_followers'].replace(-np.inf, 0)"
   ]
  },
  {
   "cell_type": "code",
   "execution_count": 22,
   "metadata": {},
   "outputs": [
    {
     "data": {
      "image/png": "[encoded data removed]",
      "text/plain": [
       "<matplotlib.figure.Figure at 0x10bfe78d0>"
      ]
     },
     "metadata": {},
     "output_type": "display_data"
    }
   ],
   "source": [
    "plt.figure(figsize=(10,6))\n",
    "plt.hist(df_w_rt['log_followers'], bins=40)\n",
    "plt.title('Log Followers distribution')\n",
    "plt.show()"
   ]
  },
  {
   "cell_type": "code",
   "execution_count": 23,
   "metadata": {},
   "outputs": [
    {
     "name": "stderr",
     "output_type": "stream",
     "text": [
      "/anaconda/envs/py27/lib/python2.7/site-packages/ipykernel/__main__.py:1: RuntimeWarning: divide by zero encountered in log\n",
      "  if __name__ == '__main__':\n"
     ]
    }
   ],
   "source": [
    "df_w_rt['log_retweets']=np.log(df_w_rt['retweets'])\n",
    "df_w_rt['log_retweets']=df_w_rt['log_retweets'].replace(-np.inf, 0)"
   ]
  },
  {
   "cell_type": "code",
   "execution_count": 24,
   "metadata": {},
   "outputs": [
    {
     "data": {
      "image/png": "[encoded data removed]",
      "text/plain": [
       "<matplotlib.figure.Figure at 0x1224c5d90>"
      ]
     },
     "metadata": {},
     "output_type": "display_data"
    }
   ],
   "source": [
    "plt.figure(figsize=(10,6))\n",
    "plt.hist(df_w_rt['log_retweets'], bins=40)\n",
    "plt.title('Log retweet distribution')\n",
    "plt.show()"
   ]
  },
  {
   "cell_type": "code",
   "execution_count": 25,
   "metadata": {},
   "outputs": [
    {
     "data": {
      "image/png": "[encoded data removed]",
      "text/plain": [
       "<matplotlib.figure.Figure at 0x122874f10>"
      ]
     },
     "metadata": {},
     "output_type": "display_data"
    }
   ],
   "source": [
    "plt.figure(figsize=(10,6))\n",
    "plt.hist(df_w_rt[df_w_rt['log_retweets']>0]['log_retweets'], bins=40)\n",
    "plt.title('Log retweet distribution')\n",
    "plt.show()"
   ]
  },
  {
   "cell_type": "code",
   "execution_count": 26,
   "metadata": {
    "collapsed": true
   },
   "outputs": [],
   "source": [
    "df_w_rt['engagement_flag']=df_w_rt['retweets']>0\n",
    "df_w_rt['engagement_flag']=df_w_rt['engagement_flag'].astype(int)"
   ]
  },
  {
   "cell_type": "markdown",
   "metadata": {},
   "source": [
    "## Tokenizing pared-down dataframe"
   ]
  },
  {
   "cell_type": "code",
   "execution_count": 27,
   "metadata": {
    "collapsed": true
   },
   "outputs": [],
   "source": [
    "df_base= df_w_rt[['user.description', 'text', 'topic', 'log_followers', 'log_retweets', 'engagement_flag']]"
   ]
  },
  {
   "cell_type": "code",
   "execution_count": 28,
   "metadata": {
    "collapsed": true
   },
   "outputs": [],
   "source": [
    "from gensim import corpora\n",
    "from gensim.models import Phrases\n",
    "from nltk.stem.porter import PorterStemmer\n",
    "from nltk.tokenize import TweetTokenizer\n",
    "from sklearn.feature_extraction.text import TfidfVectorizer\n",
    "from itertools import islice\n",
    "from sklearn.feature_extraction.text import TfidfTransformer"
   ]
  },
  {
   "cell_type": "code",
   "execution_count": 29,
   "metadata": {},
   "outputs": [
    {
     "name": "stderr",
     "output_type": "stream",
     "text": [
      "/anaconda/envs/py27/lib/python2.7/site-packages/ipykernel/__main__.py:4: SettingWithCopyWarning: \n",
      "A value is trying to be set on a copy of a slice from a DataFrame.\n",
      "Try using .loc[row_indexer,col_indexer] = value instead\n",
      "\n",
      "See the caveats in the documentation: http://pandas.pydata.org/pandas-docs/stable/indexing.html#indexing-view-versus-copy\n",
      "/anaconda/envs/py27/lib/python2.7/site-packages/ipykernel/__main__.py:5: SettingWithCopyWarning: \n",
      "A value is trying to be set on a copy of a slice from a DataFrame.\n",
      "Try using .loc[row_indexer,col_indexer] = value instead\n",
      "\n",
      "See the caveats in the documentation: http://pandas.pydata.org/pandas-docs/stable/indexing.html#indexing-view-versus-copy\n",
      "/anaconda/envs/py27/lib/python2.7/site-packages/ipykernel/__main__.py:6: SettingWithCopyWarning: \n",
      "A value is trying to be set on a copy of a slice from a DataFrame.\n",
      "Try using .loc[row_indexer,col_indexer] = value instead\n",
      "\n",
      "See the caveats in the documentation: http://pandas.pydata.org/pandas-docs/stable/indexing.html#indexing-view-versus-copy\n"
     ]
    }
   ],
   "source": [
    "porter_stemmer = PorterStemmer()\n",
    "tokenizer = TweetTokenizer()\n",
    "#df_base['text_token'] = df_base.text.copy()\n",
    "df_base['text_token'] = df_base[\"text\"].apply(tokenizer.tokenize)\n",
    "df_base['text_token'] = df_base['text_token'].apply(lambda x: [unicode(y.encode(\"utf-8\"), errors='ignore') for y in x])\n",
    "df_base['text_stemmed'] = df_base[\"text_token\"].apply(lambda x: [porter_stemmer.stem(y) for y in x])"
   ]
  },
  {
   "cell_type": "code",
   "execution_count": 30,
   "metadata": {},
   "outputs": [
    {
     "name": "stderr",
     "output_type": "stream",
     "text": [
      "/anaconda/envs/py27/lib/python2.7/site-packages/ipykernel/__main__.py:1: SettingWithCopyWarning: \n",
      "A value is trying to be set on a copy of a slice from a DataFrame.\n",
      "Try using .loc[row_indexer,col_indexer] = value instead\n",
      "\n",
      "See the caveats in the documentation: http://pandas.pydata.org/pandas-docs/stable/indexing.html#indexing-view-versus-copy\n",
      "  if __name__ == '__main__':\n",
      "/anaconda/envs/py27/lib/python2.7/site-packages/ipykernel/__main__.py:2: SettingWithCopyWarning: \n",
      "A value is trying to be set on a copy of a slice from a DataFrame.\n",
      "Try using .loc[row_indexer,col_indexer] = value instead\n",
      "\n",
      "See the caveats in the documentation: http://pandas.pydata.org/pandas-docs/stable/indexing.html#indexing-view-versus-copy\n",
      "  from ipykernel import kernelapp as app\n"
     ]
    }
   ],
   "source": [
    "df_base['text_stemmed'] = df_base.loc[:,\"text_stemmed\"].apply(lambda x: [filter(None, y) for y in x])\n",
    "df_base['text_processed'] = df_base.loc[:,'text_stemmed'].apply(' '.join)"
   ]
  },
  {
   "cell_type": "code",
   "execution_count": 31,
   "metadata": {},
   "outputs": [
    {
     "data": {
      "text/html": [
       "<div>\n",
       "<table border=\"1\" class=\"dataframe\">\n",
       "  <thead>\n",
       "    <tr style=\"text-align: right;\">\n",
       "      <th></th>\n",
       "      <th>user.description</th>\n",
       "      <th>text</th>\n",
       "      <th>topic</th>\n",
       "      <th>log_followers</th>\n",
       "      <th>log_retweets</th>\n",
       "      <th>engagement_flag</th>\n",
       "      <th>text_token</th>\n",
       "      <th>text_stemmed</th>\n",
       "      <th>text_processed</th>\n",
       "    </tr>\n",
       "  </thead>\n",
       "  <tbody>\n",
       "    <tr>\n",
       "      <th>0</th>\n",
       "      <td>Part of the #VastRightWingConspiracy -- thanks, @HillaryClinton. Better candidate: https://www.randpaul.com/ Retweeting not endorsement. Image: TV lover.</td>\n",
       "      <td>#BanTheBox means \"all is #forgiven\"/NO MORE federal #NCIC checks when buying guns? Please consider it, Mr. President @POTUS. #forgiving</td>\n",
       "      <td>G</td>\n",
       "      <td>5.252273</td>\n",
       "      <td>0.0</td>\n",
       "      <td>0</td>\n",
       "      <td>[#BanTheBox, means, \", all, is, #forgiven, \", /, NO, MORE, federal, #NCIC, checks, when, buying, guns, ?, Please, consider, it, ,, Mr, ., President, @POTUS, ., #forgiving]</td>\n",
       "      <td>[#banthebox, mean, \", all, is, #forgiven, \", /, NO, more, feder, #ncic, check, when, buy, gun, ?, pleas, consid, it, ,, Mr, ., presid, @potu, ., #forgiv]</td>\n",
       "      <td>#banthebox mean \" all is #forgiven \" / NO more feder #ncic check when buy gun ? pleas consid it , Mr . presid @potu . #forgiv</td>\n",
       "    </tr>\n",
       "    <tr>\n",
       "      <th>1</th>\n",
       "      <td>War Veteran who loves his country. Never forget those who died in 'Benghazi'.  864th Engineer Battalion (Combat) (Heavy)</td>\n",
       "      <td>BOYCOTT NOV 4 @ABC @CMAwards &amp;gt; THREAT TO ALL GUN OWNERS - BOYCOTT HIS MUSIC &amp;gt; @TheTimMcGraw GUN CONTROL EXTREMIST https://t.co/xMuE2o7vV7 …</td>\n",
       "      <td>G</td>\n",
       "      <td>9.936148</td>\n",
       "      <td>0.0</td>\n",
       "      <td>0</td>\n",
       "      <td>[BOYCOTT, NOV, 4, @ABC, @CMAwards, &gt;, THREAT, TO, ALL, GUN, OWNERS, -, BOYCOTT, HIS, MUSIC, &gt;, @TheTimMcGraw, GUN, CONTROL, EXTREMIST, https://t.co/xMuE2o7vV7, ]</td>\n",
       "      <td>[boycott, nov, 4, @abc, @cmaward, &gt;, threat, TO, all, gun, owner, -, boycott, hi, music, &gt;, @thetimmcgraw, gun, control, extremist, https://t.co/xmue2o7vv7, ]</td>\n",
       "      <td>boycott nov 4 @abc @cmaward &gt; threat TO all gun owner - boycott hi music &gt; @thetimmcgraw gun control extremist https://t.co/xmue2o7vv7</td>\n",
       "    </tr>\n",
       "    <tr>\n",
       "      <th>2</th>\n",
       "      <td>Retired: cowboy,truck driver Served in the USAF, hobbies include Shooting sports and hunt and camp born in Calif.and sadly left in 1984</td>\n",
       "      <td>Savage: This is the Most Corrupt, Degenerate, Criminal Gov’t in American History https://t.co/qW12kzuBWH Take my guns lead first.</td>\n",
       "      <td>G</td>\n",
       "      <td>4.043051</td>\n",
       "      <td>0.0</td>\n",
       "      <td>0</td>\n",
       "      <td>[Savage, :, This, is, the, Most, Corrupt, ,, Degenerate, ,, Criminal, Gov, , t, in, American, History, https://t.co/qW12kzuBWH, Take, my, guns, lead, first, .]</td>\n",
       "      <td>[savag, :, thi, is, the, most, corrupt, ,, degener, ,, crimin, gov, , t, in, american, histori, https://t.co/qw12kzubwh, take, my, gun, lead, first, .]</td>\n",
       "      <td>savag : thi is the most corrupt , degener , crimin gov  t in american histori https://t.co/qw12kzubwh take my gun lead first .</td>\n",
       "    </tr>\n",
       "    <tr>\n",
       "      <th>3</th>\n",
       "      <td>Bartender...Bouncer...Autobody......Gravedigger.....Supermodal......OG.....Playboy.........:)\\r\\n\\r\\n\\r\\nDAM...NICE...GUY...MAFIA   DEMOLITION  INSTALATION</td>\n",
       "      <td>Guns N' Roses - November Rain https://t.co/w2pHuG0QBa via @YouTube</td>\n",
       "      <td>G</td>\n",
       "      <td>6.107023</td>\n",
       "      <td>0.0</td>\n",
       "      <td>0</td>\n",
       "      <td>[Guns, N, ', Roses, -, November, Rain, https://t.co/w2pHuG0QBa, via, @YouTube]</td>\n",
       "      <td>[gun, N, ', rose, -, novemb, rain, https://t.co/w2phug0qba, via, @youtub]</td>\n",
       "      <td>gun N ' rose - novemb rain https://t.co/w2phug0qba via @youtub</td>\n",
       "    </tr>\n",
       "    <tr>\n",
       "      <th>4</th>\n",
       "      <td>Ming doesn't have a trajectory problem.</td>\n",
       "      <td>I'll say it again: #Tarantino was merely correct. And, to his credit, he's sticking to his rhetorical guns. #BadCops https://t.co/7M4uTpXwyc</td>\n",
       "      <td>G</td>\n",
       "      <td>5.081404</td>\n",
       "      <td>0.0</td>\n",
       "      <td>0</td>\n",
       "      <td>[I'll, say, it, again, :, #Tarantino, was, merely, correct, ., And, ,, to, his, credit, ,, he's, sticking, to, his, rhetorical, guns, ., #BadCops, https://t.co/7M4uTpXwyc]</td>\n",
       "      <td>[i'll, say, it, again, :, #tarantino, wa, mere, correct, ., and, ,, to, hi, credit, ,, he', stick, to, hi, rhetor, gun, ., #badcop, https://t.co/7m4utpxwyc]</td>\n",
       "      <td>i'll say it again : #tarantino wa mere correct . and , to hi credit , he' stick to hi rhetor gun . #badcop https://t.co/7m4utpxwyc</td>\n",
       "    </tr>\n",
       "  </tbody>\n",
       "</table>\n",
       "</div>"
      ],
      "text/plain": [
       "                                                                                                                                              user.description  \\\n",
       "0    Part of the #VastRightWingConspiracy -- thanks, @HillaryClinton. Better candidate: https://www.randpaul.com/ Retweeting not endorsement. Image: TV lover.   \n",
       "1                                     War Veteran who loves his country. Never forget those who died in 'Benghazi'.  864th Engineer Battalion (Combat) (Heavy)   \n",
       "2                      Retired: cowboy,truck driver Served in the USAF, hobbies include Shooting sports and hunt and camp born in Calif.and sadly left in 1984   \n",
       "3  Bartender...Bouncer...Autobody......Gravedigger.....Supermodal......OG.....Playboy.........:)\\r\\n\\r\\n\\r\\nDAM...NICE...GUY...MAFIA   DEMOLITION  INSTALATION   \n",
       "4                                                                                                                      Ming doesn't have a trajectory problem.   \n",
       "\n",
       "                                                                                                                                                text  \\\n",
       "0            #BanTheBox means \"all is #forgiven\"/NO MORE federal #NCIC checks when buying guns? Please consider it, Mr. President @POTUS. #forgiving   \n",
       "1  BOYCOTT NOV 4 @ABC @CMAwards &gt; THREAT TO ALL GUN OWNERS - BOYCOTT HIS MUSIC &gt; @TheTimMcGraw GUN CONTROL EXTREMIST https://t.co/xMuE2o7vV7 …   \n",
       "2                  Savage: This is the Most Corrupt, Degenerate, Criminal Gov’t in American History https://t.co/qW12kzuBWH Take my guns lead first.   \n",
       "3                                                                                 Guns N' Roses - November Rain https://t.co/w2pHuG0QBa via @YouTube   \n",
       "4       I'll say it again: #Tarantino was merely correct. And, to his credit, he's sticking to his rhetorical guns. #BadCops https://t.co/7M4uTpXwyc   \n",
       "\n",
       "  topic  log_followers  log_retweets  engagement_flag  \\\n",
       "0     G       5.252273           0.0                0   \n",
       "1     G       9.936148           0.0                0   \n",
       "2     G       4.043051           0.0                0   \n",
       "3     G       6.107023           0.0                0   \n",
       "4     G       5.081404           0.0                0   \n",
       "\n",
       "                                                                                                                                                                    text_token  \\\n",
       "0  [#BanTheBox, means, \", all, is, #forgiven, \", /, NO, MORE, federal, #NCIC, checks, when, buying, guns, ?, Please, consider, it, ,, Mr, ., President, @POTUS, ., #forgiving]   \n",
       "1            [BOYCOTT, NOV, 4, @ABC, @CMAwards, >, THREAT, TO, ALL, GUN, OWNERS, -, BOYCOTT, HIS, MUSIC, >, @TheTimMcGraw, GUN, CONTROL, EXTREMIST, https://t.co/xMuE2o7vV7, ]   \n",
       "2              [Savage, :, This, is, the, Most, Corrupt, ,, Degenerate, ,, Criminal, Gov, , t, in, American, History, https://t.co/qW12kzuBWH, Take, my, guns, lead, first, .]   \n",
       "3                                                                                               [Guns, N, ', Roses, -, November, Rain, https://t.co/w2pHuG0QBa, via, @YouTube]   \n",
       "4  [I'll, say, it, again, :, #Tarantino, was, merely, correct, ., And, ,, to, his, credit, ,, he's, sticking, to, his, rhetorical, guns, ., #BadCops, https://t.co/7M4uTpXwyc]   \n",
       "\n",
       "                                                                                                                                                     text_stemmed  \\\n",
       "0       [#banthebox, mean, \", all, is, #forgiven, \", /, NO, more, feder, #ncic, check, when, buy, gun, ?, pleas, consid, it, ,, Mr, ., presid, @potu, ., #forgiv]   \n",
       "1  [boycott, nov, 4, @abc, @cmaward, >, threat, TO, all, gun, owner, -, boycott, hi, music, >, @thetimmcgraw, gun, control, extremist, https://t.co/xmue2o7vv7, ]   \n",
       "2         [savag, :, thi, is, the, most, corrupt, ,, degener, ,, crimin, gov, , t, in, american, histori, https://t.co/qw12kzubwh, take, my, gun, lead, first, .]   \n",
       "3                                                                                       [gun, N, ', rose, -, novemb, rain, https://t.co/w2phug0qba, via, @youtub]   \n",
       "4    [i'll, say, it, again, :, #tarantino, wa, mere, correct, ., and, ,, to, hi, credit, ,, he', stick, to, hi, rhetor, gun, ., #badcop, https://t.co/7m4utpxwyc]   \n",
       "\n",
       "                                                                                                                            text_processed  \n",
       "0            #banthebox mean \" all is #forgiven \" / NO more feder #ncic check when buy gun ? pleas consid it , Mr . presid @potu . #forgiv  \n",
       "1  boycott nov 4 @abc @cmaward > threat TO all gun owner - boycott hi music > @thetimmcgraw gun control extremist https://t.co/xmue2o7vv7   \n",
       "2           savag : thi is the most corrupt , degener , crimin gov  t in american histori https://t.co/qw12kzubwh take my gun lead first .  \n",
       "3                                                                           gun N ' rose - novemb rain https://t.co/w2phug0qba via @youtub  \n",
       "4       i'll say it again : #tarantino wa mere correct . and , to hi credit , he' stick to hi rhetor gun . #badcop https://t.co/7m4utpxwyc  "
      ]
     },
     "execution_count": 31,
     "metadata": {},
     "output_type": "execute_result"
    }
   ],
   "source": [
    "df_base.head()"
   ]
  },
  {
   "cell_type": "code",
   "execution_count": 32,
   "metadata": {
    "collapsed": true
   },
   "outputs": [],
   "source": [
    "df_base.to_csv('cleaned.csv', sep=',', quotechar='\"')"
   ]
  },
  {
   "cell_type": "code",
   "execution_count": 31,
   "metadata": {
    "collapsed": true
   },
   "outputs": [],
   "source": [
    "tvec = TfidfVectorizer(min_df=.0001, max_df=.2, stop_words='english', ngram_range=(1,2))\n",
    "tvec_weights = tvec.fit_transform(df_base['text_processed'].dropna())\n",
    "weights = np.asarray(tvec_weights.mean(axis=0)).ravel().tolist()\n",
    "weights_df = pd.DataFrame({'term': tvec.get_feature_names(), 'weight': weights})"
   ]
  },
  {
   "cell_type": "code",
   "execution_count": null,
   "metadata": {
    "collapsed": true
   },
   "outputs": [],
   "source": []
  },
  {
   "cell_type": "code",
   "execution_count": null,
   "metadata": {
    "collapsed": true
   },
   "outputs": [],
   "source": []
  }
 ],
 "metadata": {
  "kernelspec": {
   "display_name": "Python 2",
   "language": "python",
   "name": "python2"
  },
  "language_info": {
   "codemirror_mode": {
    "name": "ipython",
    "version": 2
   },
   "file_extension": ".py",
   "mimetype": "text/x-python",
   "name": "python",
   "nbconvert_exporter": "python",
   "pygments_lexer": "ipython2",
   "version": "2.7.12"
  }
 },
 "nbformat": 4,
 "nbformat_minor": 2
}
