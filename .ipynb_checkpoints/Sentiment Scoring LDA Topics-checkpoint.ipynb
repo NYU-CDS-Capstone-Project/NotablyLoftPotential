{
 "cells": [
  {
   "cell_type": "code",
   "execution_count": 5,
   "metadata": {
    "collapsed": true
   },
   "outputs": [],
   "source": [
    "import os\n",
    "import sys\n",
    "import string\n",
    "import pickle\n",
    "import tarfile\n",
    "import numpy as np\n",
    "import pandas as pd\n",
    "import matplotlib.pyplot as plt\n",
    "from gensim.models import ldamodel, Phrases, phrases\n",
    "from gensim import corpora\n",
    "from nltk.stem.snowball import SnowballStemmer\n",
    "from nltk.tokenize import TweetTokenizer\n",
    "%matplotlib inline\n",
    "stemmer = SnowballStemmer(\"english\")\n",
    "tokenizer = TweetTokenizer()"
   ]
  },
  {
   "cell_type": "code",
   "execution_count": 7,
   "metadata": {},
   "outputs": [],
   "source": [
    "for f in os.listdir('../model_files/'):\n",
    "        if f.endswith('.gz'):\n",
    "            tar = tarfile.open('../model_files/' + f, \"r:gz\")\n",
    "            tar.extractall(path='../model_files/')\n",
    "            tar.close()\n",
    "\n",
    "# load model, corpus, and dictionary objects\n",
    "fnames = [fn for fn in os.listdir('../model_files/') if '.gensim' in fn]\n",
    "model = ldamodel.LdaModel.load('../model_files/' + fnames[0])\n",
    "corpus = corpora.MmCorpus('../model_files/' + 'unigrams_corpus.mm')\n",
    "dictionary = corpora.Dictionary.load('../model_files/' + 'unigrams_dictionary.pkl')\n",
    "model.id2word = dictionary\n",
    "phraser = phrases.Phraser.load('../model_files/document_phraser.pkl')\n",
    "\n",
    "#cleanup the unzipped files\n",
    "for f in fnames:\n",
    "    os.remove('../model_files/' + f)"
   ]
  },
  {
   "cell_type": "code",
   "execution_count": 8,
   "metadata": {},
   "outputs": [
    {
     "data": {
      "text/plain": [
       "(<gensim.models.ldamulticore.LdaMulticore at 0x1a180d5350>,\n",
       " <gensim.corpora.mmcorpus.MmCorpus at 0x1a180d5090>,\n",
       " <gensim.corpora.dictionary.Dictionary at 0x1a17e5c610>,\n",
       " <gensim.models.phrases.Phraser at 0x107a24dd0>)"
      ]
     },
     "execution_count": 8,
     "metadata": {},
     "output_type": "execute_result"
    }
   ],
   "source": [
    "model, corpus, dictionary, phraser"
   ]
  },
  {
   "cell_type": "code",
   "execution_count": 9,
   "metadata": {
    "collapsed": true
   },
   "outputs": [],
   "source": [
    "topics = model.print_topics(num_topics=60, num_words=30)"
   ]
  },
  {
   "cell_type": "code",
   "execution_count": 14,
   "metadata": {},
   "outputs": [],
   "source": [
    "filename = 'models/finalized_sentiment_model.pkl'\n",
    "model_pkl = open(filename, 'rb')\n",
    "nb_model = pickle.load(model_pkl)\n",
    "\n",
    "filename = '../vectorizer.pkl' #zipped as it exceeds 100MB\n",
    "vectorizer_pkl = open(filename, 'rb')\n",
    "nb_vectorizer = pickle.load(vectorizer_pkl)"
   ]
  },
  {
   "cell_type": "code",
   "execution_count": 25,
   "metadata": {
    "collapsed": true
   },
   "outputs": [],
   "source": [
    "topics = model.print_topics(num_topics=60, num_words=30)"
   ]
  },
  {
   "cell_type": "code",
   "execution_count": 30,
   "metadata": {},
   "outputs": [
    {
     "data": {
      "text/plain": [
       "(array([ 1.,  0.,  0.,  0.,  2.,  0.,  0.,  0.,  2.,  0.,  4.,  6.,  7.,\n",
       "         7.,  8.,  7.,  7.,  6.,  2.,  1.]),\n",
       " array([ 0.39146884,  0.3983033 ,  0.40513777,  0.41197223,  0.4188067 ,\n",
       "         0.42564116,  0.43247563,  0.4393101 ,  0.44614456,  0.45297903,\n",
       "         0.45981349,  0.46664796,  0.47348242,  0.48031689,  0.48715135,\n",
       "         0.49398582,  0.50082029,  0.50765475,  0.51448922,  0.52132368,\n",
       "         0.52815815]),\n",
       " <a list of 20 Patch objects>)"
      ]
     },
     "execution_count": 30,
     "metadata": {},
     "output_type": "execute_result"
    },
    {
     "data": {
      "image/png": "[encoded data removed]",
      "text/plain": [
       "<matplotlib.figure.Figure at 0x1a2634d490>"
      ]
     },
     "metadata": {},
     "output_type": "display_data"
    }
   ],
   "source": [
    "for i in range(len(topics)):\n",
    "    if i == 0:\n",
    "        df_model=pd.DataFrame(topics[i][1].split(' + '))\n",
    "        df_model.columns = ['prob']\n",
    "        df_model['prob'], df_model['unigram'] = df_model['prob'].str.split('*', 1).str\n",
    "        df_model['topic'] = 0\n",
    "        df_model['unigram'] = df_model['unigram'].str.replace('\"', '')\n",
    "    else:\n",
    "        temp_df = pd.DataFrame(topics[i][1].split(' + '))\n",
    "        temp_df.columns = ['prob']\n",
    "        temp_df['prob'], temp_df['unigram'] = temp_df['prob'].str.split('*', 1).str\n",
    "        temp_df['unigram'] = temp_df['unigram'].str.replace('\"', '')\n",
    "        temp_df['topic'] = i\n",
    "        df_model = df_model.append(temp_df).reset_index(drop=True)\n",
    "\n",
    "test_vecs = nb_vectorizer.transform(df_model['unigram'])\n",
    "df_model['negative_sentiment_prob']=1-nb_model.predict_proba(test_vecs)[:,1]\n",
    "df_model['prob'] = df_model['prob'].astype(float)\n",
    "df_model['topic_prob_neg'] = df_model['negative_sentiment_prob']*df_model['prob']\n",
    "df_means = df_model[['topic','prob','negative_sentiment_prob','topic_prob_neg']].groupby(['topic']).sum()\n",
    "df_se = df_model[['topic','negative_sentiment_prob']].groupby(['topic']).agg(np.std)\n",
    "df_topics = pd.DataFrame(df_se['negative_sentiment_prob'])\n",
    "df_topics.columns= ['std_err']\n",
    "df_topics['sent_score'] = df_means['topic_prob_neg']/df_means['prob']\n",
    "plt.figure(figsize=(20,10))\n",
    "plt.hist(df_topics.sent_score, bins = 20)"
   ]
  },
  {
   "cell_type": "code",
   "execution_count": 45,
   "metadata": {},
   "outputs": [
    {
     "data": {
      "text/html": [
       "<div>\n",
       "<style>\n",
       "    .dataframe thead tr:only-child th {\n",
       "        text-align: right;\n",
       "    }\n",
       "\n",
       "    .dataframe thead th {\n",
       "        text-align: left;\n",
       "    }\n",
       "\n",
       "    .dataframe tbody tr th {\n",
       "        vertical-align: top;\n",
       "    }\n",
       "</style>\n",
       "<table border=\"1\" class=\"dataframe\">\n",
       "  <thead>\n",
       "    <tr style=\"text-align: right;\">\n",
       "      <th></th>\n",
       "      <th>std_err</th>\n",
       "      <th>sent_score</th>\n",
       "    </tr>\n",
       "    <tr>\n",
       "      <th>topic</th>\n",
       "      <th></th>\n",
       "      <th></th>\n",
       "    </tr>\n",
       "  </thead>\n",
       "  <tbody>\n",
       "    <tr>\n",
       "      <th>9</th>\n",
       "      <td>0.072201</td>\n",
       "      <td>0.502787</td>\n",
       "    </tr>\n",
       "    <tr>\n",
       "      <th>13</th>\n",
       "      <td>0.098597</td>\n",
       "      <td>0.528158</td>\n",
       "    </tr>\n",
       "    <tr>\n",
       "      <th>15</th>\n",
       "      <td>0.096817</td>\n",
       "      <td>0.514539</td>\n",
       "    </tr>\n",
       "    <tr>\n",
       "      <th>17</th>\n",
       "      <td>0.101746</td>\n",
       "      <td>0.506974</td>\n",
       "    </tr>\n",
       "    <tr>\n",
       "      <th>24</th>\n",
       "      <td>0.086284</td>\n",
       "      <td>0.503641</td>\n",
       "    </tr>\n",
       "    <tr>\n",
       "      <th>25</th>\n",
       "      <td>0.064411</td>\n",
       "      <td>0.504568</td>\n",
       "    </tr>\n",
       "    <tr>\n",
       "      <th>27</th>\n",
       "      <td>0.091166</td>\n",
       "      <td>0.509086</td>\n",
       "    </tr>\n",
       "    <tr>\n",
       "      <th>30</th>\n",
       "      <td>0.092325</td>\n",
       "      <td>0.507133</td>\n",
       "    </tr>\n",
       "    <tr>\n",
       "      <th>34</th>\n",
       "      <td>0.078388</td>\n",
       "      <td>0.510347</td>\n",
       "    </tr>\n",
       "    <tr>\n",
       "      <th>36</th>\n",
       "      <td>0.134278</td>\n",
       "      <td>0.516729</td>\n",
       "    </tr>\n",
       "    <tr>\n",
       "      <th>40</th>\n",
       "      <td>0.109124</td>\n",
       "      <td>0.501431</td>\n",
       "    </tr>\n",
       "    <tr>\n",
       "      <th>43</th>\n",
       "      <td>0.083721</td>\n",
       "      <td>0.509717</td>\n",
       "    </tr>\n",
       "    <tr>\n",
       "      <th>45</th>\n",
       "      <td>0.061321</td>\n",
       "      <td>0.504758</td>\n",
       "    </tr>\n",
       "    <tr>\n",
       "      <th>47</th>\n",
       "      <td>0.131859</td>\n",
       "      <td>0.514415</td>\n",
       "    </tr>\n",
       "    <tr>\n",
       "      <th>50</th>\n",
       "      <td>0.088145</td>\n",
       "      <td>0.509792</td>\n",
       "    </tr>\n",
       "    <tr>\n",
       "      <th>52</th>\n",
       "      <td>0.105893</td>\n",
       "      <td>0.514059</td>\n",
       "    </tr>\n",
       "  </tbody>\n",
       "</table>\n",
       "</div>"
      ],
      "text/plain": [
       "        std_err  sent_score\n",
       "topic                      \n",
       "9      0.072201    0.502787\n",
       "13     0.098597    0.528158\n",
       "15     0.096817    0.514539\n",
       "17     0.101746    0.506974\n",
       "24     0.086284    0.503641\n",
       "25     0.064411    0.504568\n",
       "27     0.091166    0.509086\n",
       "30     0.092325    0.507133\n",
       "34     0.078388    0.510347\n",
       "36     0.134278    0.516729\n",
       "40     0.109124    0.501431\n",
       "43     0.083721    0.509717\n",
       "45     0.061321    0.504758\n",
       "47     0.131859    0.514415\n",
       "50     0.088145    0.509792\n",
       "52     0.105893    0.514059"
      ]
     },
     "execution_count": 45,
     "metadata": {},
     "output_type": "execute_result"
    }
   ],
   "source": [
    "df_topics[df_topics.sent_score>.501]"
   ]
  },
  {
   "cell_type": "code",
   "execution_count": 46,
   "metadata": {},
   "outputs": [
    {
     "data": {
      "text/plain": [
       "(36,\n",
       " u'0.043*\"climat_chang\" + 0.031*\"marriag\" + 0.023*\"affect\" + 0.021*\"rememb\" + 0.018*\"100_million\" + 0.017*\"parent\" + 0.017*\"world_bank\" + 0.016*\"poor\" + 0.015*\"...\" + 0.015*\"million\" + 0.009*\"love\" + 0.009*\"conflict\" + 0.006*\"secret\" + 0.006*\"mani_peopl\" + 0.006*\"exampl\" + 0.005*\"via\" + 0.005*\"year\" + 0.005*\"say\" + 0.004*\"washington\" + 0.004*\"america_planet\" + 0.004*\"gun\" + 0.004*\"forum\" + 0.003*\"inde\" + 0.003*\"cont\" + 0.003*\"kentucki\" + 0.003*\"blind\" + 0.003*\"marco_rubio\" + 0.003*\"@scoopit\" + 0.003*\"gun_sold\" + 0.003*\"field\"')"
      ]
     },
     "execution_count": 46,
     "metadata": {},
     "output_type": "execute_result"
    }
   ],
   "source": [
    "topics[36]"
   ]
  },
  {
   "cell_type": "code",
   "execution_count": null,
   "metadata": {
    "collapsed": true
   },
   "outputs": [],
   "source": []
  },
  {
   "cell_type": "code",
   "execution_count": null,
   "metadata": {
    "collapsed": true
   },
   "outputs": [],
   "source": []
  }
 ],
 "metadata": {
  "kernelspec": {
   "display_name": "Python 2",
   "language": "python",
   "name": "python2"
  },
  "language_info": {
   "codemirror_mode": {
    "name": "ipython",
    "version": 2
   },
   "file_extension": ".py",
   "mimetype": "text/x-python",
   "name": "python",
   "nbconvert_exporter": "python",
   "pygments_lexer": "ipython2",
   "version": "2.7.13"
  }
 },
 "nbformat": 4,
 "nbformat_minor": 2
}
